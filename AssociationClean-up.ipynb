{
 "cells": [
  {
   "cell_type": "code",
   "execution_count": 392,
   "metadata": {
    "ExecuteTime": {
     "end_time": "2021-06-13T13:51:05.131351Z",
     "start_time": "2021-06-13T13:51:05.063694Z"
    }
   },
   "outputs": [
    {
     "data": {
      "text/html": [
       "        <script type=\"text/javascript\">\n",
       "        window.PlotlyConfig = {MathJaxConfig: 'local'};\n",
       "        if (window.MathJax) {MathJax.Hub.Config({SVG: {font: \"STIX-Web\"}});}\n",
       "        if (typeof require !== 'undefined') {\n",
       "        require.undef(\"plotly\");\n",
       "        requirejs.config({\n",
       "            paths: {\n",
       "                'plotly': ['https://cdn.plot.ly/plotly-latest.min']\n",
       "            }\n",
       "        });\n",
       "        require(['plotly'], function(Plotly) {\n",
       "            window._Plotly = Plotly;\n",
       "        });\n",
       "        }\n",
       "        </script>\n",
       "        "
      ]
     },
     "metadata": {},
     "output_type": "display_data"
    }
   ],
   "source": [
    "import pickle\n",
    "import numpy as np\n",
    "import pandas as pd\n",
    "import statsmodels.api as sm\n",
    "\n",
    "from IPython.display import display\n",
    "from tableone import TableOne\n",
    "from scipy.stats import chi2_contingency, kruskal\n",
    "\n",
    "import pyfpgrowth\n",
    "from mlxtend.preprocessing import TransactionEncoder\n",
    "from mlxtend.frequent_patterns import apriori, fpmax, fpgrowth\n",
    "from mlxtend.frequent_patterns import association_rules\n",
    "\n",
    "import statsmodels.formula.api as smf\n",
    "\n",
    "from tqdm import tqdm\n",
    "import time\n",
    "import re\n",
    "import random\n",
    "from pymetamap import MetaMap\n",
    "mm = MetaMap.get_instance('/home/qxw225/YihengWordCorrection/pym/public_mm20/bin/metamap20')\n",
    "\n",
    "# Reference: https://towardsdatascience.com/tutorial-network-visualization-basics-with-networkx-and-plotly-and-a-little-nlp-57c9bbb55bb9\n",
    "# Import packages for data visualization\n",
    "import plotly.offline as py\n",
    "import plotly.graph_objects as go\n",
    "import networkx as nx\n",
    "py.init_notebook_mode(connected=True) "
   ]
  },
  {
   "cell_type": "markdown",
   "metadata": {},
   "source": [
    "# Dataframe"
   ]
  },
  {
   "cell_type": "code",
   "execution_count": 337,
   "metadata": {
    "ExecuteTime": {
     "end_time": "2021-05-03T13:54:12.990424Z",
     "start_time": "2021-05-03T13:53:42.146338Z"
    }
   },
   "outputs": [],
   "source": [
    "# Load pickle\n",
    "#demo = pickle.load(open('demo.pkl','rb'), encoding='latin1')\n",
    "drug_map_rx = pickle.load(open('drug_map_rx.pkl','rb'), encoding='latin1')\n",
    "indi_mapping = pickle.load(open('indi_mapping.pkl','rb'), encoding='latin1')\n",
    "#reac = pickle.load(open('reac.pkl','rb'), encoding='latin1')"
   ]
  },
  {
   "cell_type": "code",
   "execution_count": 338,
   "metadata": {
    "ExecuteTime": {
     "end_time": "2021-05-03T13:54:30.783800Z",
     "start_time": "2021-05-03T13:54:12.992004Z"
    }
   },
   "outputs": [],
   "source": [
    "# rename columns\n",
    "indi_mapping = indi_mapping.rename(columns = {'indi_drug_seq': 'drug_seq'})\n",
    "#demo = demo[['primaryid','caseid','sex','age','age_cod','filename']]\n",
    "\n",
    "# convert data type\n",
    "drug_map_rx['drug_seq'] = drug_map_rx['drug_seq'].astype(int)\n",
    "indi_mapping['drug_seq'] = indi_mapping['drug_seq'].astype(int)\n",
    "drug_map_rx['caseid'] = drug_map_rx['caseid'].astype(int)\n",
    "indi_mapping['caseid'] = indi_mapping['caseid'].astype(int)"
   ]
  },
  {
   "cell_type": "code",
   "execution_count": 219,
   "metadata": {
    "ExecuteTime": {
     "end_time": "2021-03-29T02:57:48.919913Z",
     "start_time": "2021-03-29T02:57:28.380063Z"
    }
   },
   "outputs": [],
   "source": [
    "indi_mapping.loc[indi_mapping['preferred_name'].str.contains('opium dependence'),'preferred_name']\\\n",
    "= 'opioid use disorder'\n",
    "\n",
    "indi_mapping.loc[indi_mapping['preferred_name'].str.contains('drug dependence of morphine type'),'preferred_name']\\\n",
    "= 'opioid use disorder'\n",
    "\n",
    "indi_mapping.loc[indi_mapping['preferred_name'].str.contains('opioid abuse'),'preferred_name']\\\n",
    "= 'opioid use disorder'\n",
    "\n",
    "indi_mapping.loc[indi_mapping['preferred_name'].str.contains('opiate addiction'),'preferred_name']\\\n",
    "= 'opioid use disorder'"
   ]
  },
  {
   "cell_type": "code",
   "execution_count": 339,
   "metadata": {
    "ExecuteTime": {
     "end_time": "2021-05-03T13:54:46.837312Z",
     "start_time": "2021-05-03T13:54:30.793680Z"
    }
   },
   "outputs": [],
   "source": [
    "# clean up filename only keep time\n",
    "#demo['filename'] = demo['filename'].str[4:8]\n",
    "drug_map_rx['filename'] = drug_map_rx['filename'].str[4:8]\n",
    "indi_mapping['filename'] = indi_mapping['filename'].str[4:8]\n",
    "#reac['filename'] = reac['filename'].str[4:8]\n",
    "#reac['filename'] = reac['filename'].str.lower()\n",
    "#reac['pt'] = reac['pt'].str.lower()\n",
    "#del drug_map_rx['drug_seq']\n",
    "#del indi_mapping['drug_seq']"
   ]
  },
  {
   "cell_type": "code",
   "execution_count": 342,
   "metadata": {
    "ExecuteTime": {
     "end_time": "2021-05-03T13:56:38.967262Z",
     "start_time": "2021-05-03T13:55:42.842813Z"
    }
   },
   "outputs": [],
   "source": [
    "#demo = demo.set_index(['primaryid','filename','caseid'])\n",
    "drug_map_rx = drug_map_rx.set_index(['primaryid','filename','caseid','drug_seq'])\n",
    "indi_mapping = indi_mapping.set_index(['primaryid','filename','caseid','drug_seq'])\n",
    "indi_mapping = indi_mapping[['preferred_name','sem_type']]\n",
    "#reac = reac.set_index(['primaryid','filename'])"
   ]
  },
  {
   "cell_type": "code",
   "execution_count": 374,
   "metadata": {
    "ExecuteTime": {
     "end_time": "2021-05-05T20:05:43.154070Z",
     "start_time": "2021-05-05T20:01:21.418701Z"
    }
   },
   "outputs": [],
   "source": [
    "drug_indi = drug_map_rx.join(indi_mapping)\n",
    "#drug_indi = drug_indi.reset_index()"
   ]
  },
  {
   "cell_type": "code",
   "execution_count": 381,
   "metadata": {
    "ExecuteTime": {
     "end_time": "2021-05-05T20:08:02.381754Z",
     "start_time": "2021-05-05T20:07:58.509309Z"
    }
   },
   "outputs": [],
   "source": [
    "drug_indi = drug_indi.reset_index().dropna()"
   ]
  },
  {
   "cell_type": "code",
   "execution_count": 383,
   "metadata": {
    "ExecuteTime": {
     "end_time": "2021-05-05T20:08:28.584007Z",
     "start_time": "2021-05-05T20:08:28.427958Z"
    }
   },
   "outputs": [],
   "source": [
    "drug_indi = drug_indi[['gn','preferred_name']]"
   ]
  },
  {
   "cell_type": "code",
   "execution_count": 388,
   "metadata": {
    "ExecuteTime": {
     "end_time": "2021-05-05T20:10:57.580917Z",
     "start_time": "2021-05-05T20:10:55.451446Z"
    }
   },
   "outputs": [],
   "source": [
    "x = drug_indi.groupby(['gn','preferred_name']).size().reset_index(name='Count')"
   ]
  },
  {
   "cell_type": "code",
   "execution_count": 391,
   "metadata": {
    "ExecuteTime": {
     "end_time": "2021-05-05T20:24:32.361899Z",
     "start_time": "2021-05-05T20:24:32.063107Z"
    }
   },
   "outputs": [],
   "source": [
    "x.to_csv('drug_indi_count.csv', index= False, sep = ';')"
   ]
  },
  {
   "cell_type": "code",
   "execution_count": 351,
   "metadata": {
    "ExecuteTime": {
     "end_time": "2021-05-03T14:08:32.622097Z",
     "start_time": "2021-05-03T14:08:28.232814Z"
    }
   },
   "outputs": [],
   "source": [
    "drug_indi = drug_indi.drop_duplicates()"
   ]
  },
  {
   "cell_type": "code",
   "execution_count": 353,
   "metadata": {
    "ExecuteTime": {
     "end_time": "2021-05-03T14:13:02.332440Z",
     "start_time": "2021-05-03T14:13:02.303496Z"
    }
   },
   "outputs": [],
   "source": [
    "drug_indi = drug_indi.dropna()"
   ]
  },
  {
   "cell_type": "code",
   "execution_count": 372,
   "metadata": {
    "ExecuteTime": {
     "end_time": "2021-05-03T15:24:43.209726Z",
     "start_time": "2021-05-03T15:24:42.906233Z"
    }
   },
   "outputs": [],
   "source": [
    "drug_indi.to_csv('drug_indication.csv', index= False, sep = ';')"
   ]
  },
  {
   "cell_type": "code",
   "execution_count": 355,
   "metadata": {
    "ExecuteTime": {
     "end_time": "2021-05-03T14:13:16.652595Z",
     "start_time": "2021-05-03T14:13:16.261458Z"
    }
   },
   "outputs": [],
   "source": [
    "group = drug_indi.groupby('gn')\n",
    "\n",
    "df2 = group.apply(lambda x: x['preferred_name'].unique())"
   ]
  },
  {
   "cell_type": "code",
   "execution_count": 365,
   "metadata": {
    "ExecuteTime": {
     "end_time": "2021-05-03T14:16:16.950858Z",
     "start_time": "2021-05-03T14:16:16.948429Z"
    }
   },
   "outputs": [],
   "source": [
    "drug_indication = pd.DataFrame(df2)\n",
    "drug_indication.columns=['indication'] "
   ]
  },
  {
   "cell_type": "code",
   "execution_count": 371,
   "metadata": {
    "ExecuteTime": {
     "end_time": "2021-05-03T15:19:28.018638Z",
     "start_time": "2021-05-03T15:19:28.013089Z"
    }
   },
   "outputs": [
    {
     "data": {
      "text/html": [
       "<div>\n",
       "<style scoped>\n",
       "    .dataframe tbody tr th:only-of-type {\n",
       "        vertical-align: middle;\n",
       "    }\n",
       "\n",
       "    .dataframe tbody tr th {\n",
       "        vertical-align: top;\n",
       "    }\n",
       "\n",
       "    .dataframe thead th {\n",
       "        text-align: right;\n",
       "    }\n",
       "</style>\n",
       "<table border=\"1\" class=\"dataframe\">\n",
       "  <thead>\n",
       "    <tr style=\"text-align: right;\">\n",
       "      <th></th>\n",
       "      <th>gn</th>\n",
       "      <th>preferred_name</th>\n",
       "    </tr>\n",
       "  </thead>\n",
       "  <tbody>\n",
       "    <tr>\n",
       "      <th>6</th>\n",
       "      <td>infliximab</td>\n",
       "      <td>crohn disease</td>\n",
       "    </tr>\n",
       "    <tr>\n",
       "      <th>9</th>\n",
       "      <td>docetaxel</td>\n",
       "      <td>bronchogenic carcinoma</td>\n",
       "    </tr>\n",
       "    <tr>\n",
       "      <th>10</th>\n",
       "      <td>carboplatin</td>\n",
       "      <td>bronchogenic carcinoma</td>\n",
       "    </tr>\n",
       "    <tr>\n",
       "      <th>11</th>\n",
       "      <td>docetaxel</td>\n",
       "      <td>malignant neoplasm of stomach</td>\n",
       "    </tr>\n",
       "    <tr>\n",
       "      <th>12</th>\n",
       "      <td>irinotecan</td>\n",
       "      <td>malignant neoplasm of stomach</td>\n",
       "    </tr>\n",
       "    <tr>\n",
       "      <th>...</th>\n",
       "      <td>...</td>\n",
       "      <td>...</td>\n",
       "    </tr>\n",
       "    <tr>\n",
       "      <th>41119083</th>\n",
       "      <td>ferrous sulfate</td>\n",
       "      <td>malabsorption syndrome</td>\n",
       "    </tr>\n",
       "    <tr>\n",
       "      <th>41120076</th>\n",
       "      <td>fesoterodine</td>\n",
       "      <td>chronic kidney diseases</td>\n",
       "    </tr>\n",
       "    <tr>\n",
       "      <th>41120603</th>\n",
       "      <td>phenelzine</td>\n",
       "      <td>malaise</td>\n",
       "    </tr>\n",
       "    <tr>\n",
       "      <th>41121483</th>\n",
       "      <td>aripiprazole lauroxil</td>\n",
       "      <td>drug abuse</td>\n",
       "    </tr>\n",
       "    <tr>\n",
       "      <th>41123327</th>\n",
       "      <td>methotrexate</td>\n",
       "      <td>cerebral disorder</td>\n",
       "    </tr>\n",
       "  </tbody>\n",
       "</table>\n",
       "<p>254616 rows × 2 columns</p>\n",
       "</div>"
      ],
      "text/plain": [
       "                             gn                 preferred_name\n",
       "6                    infliximab                  crohn disease\n",
       "9                     docetaxel         bronchogenic carcinoma\n",
       "10                  carboplatin         bronchogenic carcinoma\n",
       "11                    docetaxel  malignant neoplasm of stomach\n",
       "12                   irinotecan  malignant neoplasm of stomach\n",
       "...                         ...                            ...\n",
       "41119083        ferrous sulfate         malabsorption syndrome\n",
       "41120076           fesoterodine        chronic kidney diseases\n",
       "41120603             phenelzine                        malaise\n",
       "41121483  aripiprazole lauroxil                     drug abuse\n",
       "41123327           methotrexate              cerebral disorder\n",
       "\n",
       "[254616 rows x 2 columns]"
      ]
     },
     "execution_count": 371,
     "metadata": {},
     "output_type": "execute_result"
    }
   ],
   "source": [
    "drug_indi"
   ]
  },
  {
   "cell_type": "code",
   "execution_count": 367,
   "metadata": {
    "ExecuteTime": {
     "end_time": "2021-05-03T14:16:39.467643Z",
     "start_time": "2021-05-03T14:16:39.083167Z"
    }
   },
   "outputs": [],
   "source": [
    "drug_indication.to_csv('drug_indication.csv')"
   ]
  },
  {
   "cell_type": "code",
   "execution_count": 222,
   "metadata": {
    "ExecuteTime": {
     "end_time": "2021-03-29T03:34:32.732720Z",
     "start_time": "2021-03-29T02:59:46.160032Z"
    }
   },
   "outputs": [],
   "source": [
    "drug_indi = drug_map_rx.join(indi_mapping, how = 'outer')\n",
    "drug_indi = drug_indi.reset_index()\n",
    "drug_indi = drug_indi.set_index(['caseid','primaryid','filename'])\n",
    "\n",
    "demo_drug_indi = demo.join(drug_indi, how = 'left')\n",
    "demo_drug_indi = demo_drug_indi.reset_index()\n",
    "demo_drug_indi = demo_drug_indi.set_index(['primaryid','filename'])\n",
    "\n",
    "demo_drug_indi_reac = demo_drug_indi.join(reac, how = 'left')\n",
    "demo_drug_indi_reac = demo_drug_indi_reac.reset_index()\n",
    "\n",
    "\n",
    "demo_drug_indi_reac = \\\n",
    "demo_drug_indi_reac[['primaryid','age','age_cod','sex','filename','gn','pt','preferred_name','sem_type']].\\\n",
    "rename(columns = {'pt':'reac_pt', 'preferred_name':'indi_pt'})\n",
    "\n",
    "demo_drug_indi_reac = demo_drug_indi_reac.drop_duplicates()"
   ]
  },
  {
   "cell_type": "code",
   "execution_count": 333,
   "metadata": {
    "ExecuteTime": {
     "end_time": "2021-05-03T13:50:13.635502Z",
     "start_time": "2021-05-03T13:50:01.242467Z"
    }
   },
   "outputs": [],
   "source": [
    "drug_indi = drug_indi.rename(columns = { 'preferred_name':'indi_pt'})[['gn','indi_pt']]"
   ]
  },
  {
   "cell_type": "code",
   "execution_count": 336,
   "metadata": {
    "ExecuteTime": {
     "end_time": "2021-05-03T13:52:06.796365Z",
     "start_time": "2021-05-03T13:52:06.711259Z"
    }
   },
   "outputs": [
    {
     "data": {
      "text/html": [
       "<div>\n",
       "<style scoped>\n",
       "    .dataframe tbody tr th:only-of-type {\n",
       "        vertical-align: middle;\n",
       "    }\n",
       "\n",
       "    .dataframe tbody tr th {\n",
       "        vertical-align: top;\n",
       "    }\n",
       "\n",
       "    .dataframe thead th {\n",
       "        text-align: right;\n",
       "    }\n",
       "</style>\n",
       "<table border=\"1\" class=\"dataframe\">\n",
       "  <thead>\n",
       "    <tr style=\"text-align: right;\">\n",
       "      <th></th>\n",
       "      <th></th>\n",
       "      <th></th>\n",
       "      <th>preferred_name</th>\n",
       "      <th>sem_type</th>\n",
       "    </tr>\n",
       "    <tr>\n",
       "      <th>primaryid</th>\n",
       "      <th>filename</th>\n",
       "      <th>caseid</th>\n",
       "      <th></th>\n",
       "      <th></th>\n",
       "    </tr>\n",
       "  </thead>\n",
       "  <tbody>\n",
       "    <tr>\n",
       "      <th>36059074</th>\n",
       "      <th>12q4</th>\n",
       "      <th>3605907</th>\n",
       "      <td>alzheimer's disease</td>\n",
       "      <td>[dsyn]</td>\n",
       "    </tr>\n",
       "    <tr>\n",
       "      <th>36177452</th>\n",
       "      <th>12q4</th>\n",
       "      <th>3617745</th>\n",
       "      <td>alzheimer's disease</td>\n",
       "      <td>[dsyn]</td>\n",
       "    </tr>\n",
       "    <tr>\n",
       "      <th>36916633</th>\n",
       "      <th>12q4</th>\n",
       "      <th>3691663</th>\n",
       "      <td>alzheimer's disease</td>\n",
       "      <td>[dsyn]</td>\n",
       "    </tr>\n",
       "    <tr>\n",
       "      <th>37326272</th>\n",
       "      <th>12q4</th>\n",
       "      <th>3732627</th>\n",
       "      <td>alzheimer's disease</td>\n",
       "      <td>[dsyn]</td>\n",
       "    </tr>\n",
       "    <tr>\n",
       "      <th>71536894</th>\n",
       "      <th>12q4</th>\n",
       "      <th>7153689</th>\n",
       "      <td>alzheimer's disease</td>\n",
       "      <td>[dsyn]</td>\n",
       "    </tr>\n",
       "    <tr>\n",
       "      <th>...</th>\n",
       "      <th>...</th>\n",
       "      <th>...</th>\n",
       "      <td>...</td>\n",
       "      <td>...</td>\n",
       "    </tr>\n",
       "    <tr>\n",
       "      <th rowspan=\"4\" valign=\"top\">8620681</th>\n",
       "      <th rowspan=\"4\" valign=\"top\">12q3</th>\n",
       "      <th>8743421</th>\n",
       "      <td>pericarditis</td>\n",
       "      <td>[dsyn]</td>\n",
       "    </tr>\n",
       "    <tr>\n",
       "      <th>8743421</th>\n",
       "      <td>pericarditis</td>\n",
       "      <td>[dsyn]</td>\n",
       "    </tr>\n",
       "    <tr>\n",
       "      <th>8743421</th>\n",
       "      <td>pericarditis</td>\n",
       "      <td>[dsyn]</td>\n",
       "    </tr>\n",
       "    <tr>\n",
       "      <th>8743421</th>\n",
       "      <td>pericarditis</td>\n",
       "      <td>[dsyn]</td>\n",
       "    </tr>\n",
       "    <tr>\n",
       "      <th>8624043</th>\n",
       "      <th>12q3</th>\n",
       "      <th>8747036</th>\n",
       "      <td>varicocele</td>\n",
       "      <td>[dsyn]</td>\n",
       "    </tr>\n",
       "  </tbody>\n",
       "</table>\n",
       "<p>15717926 rows × 2 columns</p>\n",
       "</div>"
      ],
      "text/plain": [
       "                                 preferred_name sem_type\n",
       "primaryid filename caseid                               \n",
       "36059074  12q4     3605907  alzheimer's disease   [dsyn]\n",
       "36177452  12q4     3617745  alzheimer's disease   [dsyn]\n",
       "36916633  12q4     3691663  alzheimer's disease   [dsyn]\n",
       "37326272  12q4     3732627  alzheimer's disease   [dsyn]\n",
       "71536894  12q4     7153689  alzheimer's disease   [dsyn]\n",
       "...                                         ...      ...\n",
       "8620681   12q3     8743421         pericarditis   [dsyn]\n",
       "                   8743421         pericarditis   [dsyn]\n",
       "                   8743421         pericarditis   [dsyn]\n",
       "                   8743421         pericarditis   [dsyn]\n",
       "8624043   12q3     8747036           varicocele   [dsyn]\n",
       "\n",
       "[15717926 rows x 2 columns]"
      ]
     },
     "execution_count": 336,
     "metadata": {},
     "output_type": "execute_result"
    }
   ],
   "source": [
    "indi_mapping"
   ]
  },
  {
   "cell_type": "code",
   "execution_count": 335,
   "metadata": {
    "ExecuteTime": {
     "end_time": "2021-05-03T13:51:49.105867Z",
     "start_time": "2021-05-03T13:51:48.977209Z"
    }
   },
   "outputs": [
    {
     "data": {
      "text/html": [
       "<div>\n",
       "<style scoped>\n",
       "    .dataframe tbody tr th:only-of-type {\n",
       "        vertical-align: middle;\n",
       "    }\n",
       "\n",
       "    .dataframe tbody tr th {\n",
       "        vertical-align: top;\n",
       "    }\n",
       "\n",
       "    .dataframe thead th {\n",
       "        text-align: right;\n",
       "    }\n",
       "</style>\n",
       "<table border=\"1\" class=\"dataframe\">\n",
       "  <thead>\n",
       "    <tr style=\"text-align: right;\">\n",
       "      <th></th>\n",
       "      <th></th>\n",
       "      <th></th>\n",
       "      <th>drugname</th>\n",
       "      <th>name</th>\n",
       "      <th>tty</th>\n",
       "      <th>gn</th>\n",
       "      <th>rela</th>\n",
       "    </tr>\n",
       "    <tr>\n",
       "      <th>primaryid</th>\n",
       "      <th>filename</th>\n",
       "      <th>caseid</th>\n",
       "      <th></th>\n",
       "      <th></th>\n",
       "      <th></th>\n",
       "      <th></th>\n",
       "      <th></th>\n",
       "    </tr>\n",
       "  </thead>\n",
       "  <tbody>\n",
       "    <tr>\n",
       "      <th>34483284</th>\n",
       "      <th>12q4</th>\n",
       "      <th>3448328</th>\n",
       "      <td>sustiva</td>\n",
       "      <td>sustiva</td>\n",
       "      <td>BN</td>\n",
       "      <td>efavirenz</td>\n",
       "      <td>has_tradename</td>\n",
       "    </tr>\n",
       "    <tr>\n",
       "      <th>645853011</th>\n",
       "      <th>12q4</th>\n",
       "      <th>6458530</th>\n",
       "      <td>sustiva</td>\n",
       "      <td>sustiva</td>\n",
       "      <td>BN</td>\n",
       "      <td>efavirenz</td>\n",
       "      <td>has_tradename</td>\n",
       "    </tr>\n",
       "    <tr>\n",
       "      <th rowspan=\"2\" valign=\"top\">68799198</th>\n",
       "      <th rowspan=\"2\" valign=\"top\">12q4</th>\n",
       "      <th>6879919</th>\n",
       "      <td>sustiva</td>\n",
       "      <td>sustiva</td>\n",
       "      <td>BN</td>\n",
       "      <td>efavirenz</td>\n",
       "      <td>has_tradename</td>\n",
       "    </tr>\n",
       "    <tr>\n",
       "      <th>6879919</th>\n",
       "      <td>sustiva</td>\n",
       "      <td>sustiva</td>\n",
       "      <td>BN</td>\n",
       "      <td>efavirenz</td>\n",
       "      <td>has_tradename</td>\n",
       "    </tr>\n",
       "    <tr>\n",
       "      <th>711147111</th>\n",
       "      <th>12q4</th>\n",
       "      <th>7111471</th>\n",
       "      <td>sustiva</td>\n",
       "      <td>sustiva</td>\n",
       "      <td>BN</td>\n",
       "      <td>efavirenz</td>\n",
       "      <td>has_tradename</td>\n",
       "    </tr>\n",
       "    <tr>\n",
       "      <th>...</th>\n",
       "      <th>...</th>\n",
       "      <th>...</th>\n",
       "      <td>...</td>\n",
       "      <td>...</td>\n",
       "      <td>...</td>\n",
       "      <td>...</td>\n",
       "      <td>...</td>\n",
       "    </tr>\n",
       "    <tr>\n",
       "      <th>8624961</th>\n",
       "      <th>12q3</th>\n",
       "      <th>7952972</th>\n",
       "      <td>magnesium                          /00430401/</td>\n",
       "      <td>magnesium</td>\n",
       "      <td>IN</td>\n",
       "      <td>magnesium</td>\n",
       "      <td>IN</td>\n",
       "    </tr>\n",
       "    <tr>\n",
       "      <th rowspan=\"2\" valign=\"top\">8624971</th>\n",
       "      <th rowspan=\"2\" valign=\"top\">12q3</th>\n",
       "      <th>8427013</th>\n",
       "      <td>lopraz (omeprazole)</td>\n",
       "      <td>omeprazole</td>\n",
       "      <td>IN</td>\n",
       "      <td>omeprazole</td>\n",
       "      <td>IN</td>\n",
       "    </tr>\n",
       "    <tr>\n",
       "      <th>8427013</th>\n",
       "      <td>epilin (epilim)</td>\n",
       "      <td>epilim</td>\n",
       "      <td>BN</td>\n",
       "      <td>valproate</td>\n",
       "      <td>has_tradename</td>\n",
       "    </tr>\n",
       "    <tr>\n",
       "      <th>8625461</th>\n",
       "      <th>12q3</th>\n",
       "      <th>8748182</th>\n",
       "      <td>roxitromycine</td>\n",
       "      <td>roxithromycin</td>\n",
       "      <td>IN</td>\n",
       "      <td>roxithromycin</td>\n",
       "      <td>IN</td>\n",
       "    </tr>\n",
       "    <tr>\n",
       "      <th>8625564</th>\n",
       "      <th>12q3</th>\n",
       "      <th>8748260</th>\n",
       "      <td>teva alendronic acid</td>\n",
       "      <td>alendronic acid</td>\n",
       "      <td>PIN</td>\n",
       "      <td>alendronate</td>\n",
       "      <td>has_form</td>\n",
       "    </tr>\n",
       "  </tbody>\n",
       "</table>\n",
       "<p>41035681 rows × 5 columns</p>\n",
       "</div>"
      ],
      "text/plain": [
       "                                                                 drugname  \\\n",
       "primaryid filename caseid                                                   \n",
       "34483284  12q4     3448328                                        sustiva   \n",
       "645853011 12q4     6458530                                        sustiva   \n",
       "68799198  12q4     6879919                                        sustiva   \n",
       "                   6879919                                        sustiva   \n",
       "711147111 12q4     7111471                                        sustiva   \n",
       "...                                                                   ...   \n",
       "8624961   12q3     7952972  magnesium                          /00430401/   \n",
       "8624971   12q3     8427013                            lopraz (omeprazole)   \n",
       "                   8427013                                epilin (epilim)   \n",
       "8625461   12q3     8748182                                  roxitromycine   \n",
       "8625564   12q3     8748260                           teva alendronic acid   \n",
       "\n",
       "                                       name  tty             gn           rela  \n",
       "primaryid filename caseid                                                       \n",
       "34483284  12q4     3448328          sustiva   BN      efavirenz  has_tradename  \n",
       "645853011 12q4     6458530          sustiva   BN      efavirenz  has_tradename  \n",
       "68799198  12q4     6879919          sustiva   BN      efavirenz  has_tradename  \n",
       "                   6879919          sustiva   BN      efavirenz  has_tradename  \n",
       "711147111 12q4     7111471          sustiva   BN      efavirenz  has_tradename  \n",
       "...                                     ...  ...            ...            ...  \n",
       "8624961   12q3     7952972        magnesium   IN      magnesium             IN  \n",
       "8624971   12q3     8427013       omeprazole   IN     omeprazole             IN  \n",
       "                   8427013           epilim   BN      valproate  has_tradename  \n",
       "8625461   12q3     8748182    roxithromycin   IN  roxithromycin             IN  \n",
       "8625564   12q3     8748260  alendronic acid  PIN    alendronate       has_form  \n",
       "\n",
       "[41035681 rows x 5 columns]"
      ]
     },
     "execution_count": 335,
     "metadata": {},
     "output_type": "execute_result"
    }
   ],
   "source": [
    "drug_map_rx"
   ]
  },
  {
   "cell_type": "code",
   "execution_count": 334,
   "metadata": {
    "ExecuteTime": {
     "end_time": "2021-05-03T13:50:13.654739Z",
     "start_time": "2021-05-03T13:50:13.636654Z"
    }
   },
   "outputs": [
    {
     "data": {
      "text/html": [
       "<div>\n",
       "<style scoped>\n",
       "    .dataframe tbody tr th:only-of-type {\n",
       "        vertical-align: middle;\n",
       "    }\n",
       "\n",
       "    .dataframe tbody tr th {\n",
       "        vertical-align: top;\n",
       "    }\n",
       "\n",
       "    .dataframe thead th {\n",
       "        text-align: right;\n",
       "    }\n",
       "</style>\n",
       "<table border=\"1\" class=\"dataframe\">\n",
       "  <thead>\n",
       "    <tr style=\"text-align: right;\">\n",
       "      <th></th>\n",
       "      <th></th>\n",
       "      <th></th>\n",
       "      <th>gn</th>\n",
       "      <th>indi_pt</th>\n",
       "    </tr>\n",
       "    <tr>\n",
       "      <th>caseid</th>\n",
       "      <th>primaryid</th>\n",
       "      <th>filename</th>\n",
       "      <th></th>\n",
       "      <th></th>\n",
       "    </tr>\n",
       "  </thead>\n",
       "  <tbody>\n",
       "    <tr>\n",
       "      <th rowspan=\"4\" valign=\"top\">5657190</th>\n",
       "      <th rowspan=\"4\" valign=\"top\">4204616</th>\n",
       "      <th>04q1</th>\n",
       "      <td>misoprostol</td>\n",
       "      <td>NaN</td>\n",
       "    </tr>\n",
       "    <tr>\n",
       "      <th>04q1</th>\n",
       "      <td>chymosin</td>\n",
       "      <td>NaN</td>\n",
       "    </tr>\n",
       "    <tr>\n",
       "      <th>04q1</th>\n",
       "      <td>magnesium cation</td>\n",
       "      <td>NaN</td>\n",
       "    </tr>\n",
       "    <tr>\n",
       "      <th>04q1</th>\n",
       "      <td>mifepristone</td>\n",
       "      <td>NaN</td>\n",
       "    </tr>\n",
       "    <tr>\n",
       "      <th>5660304</th>\n",
       "      <th>4214534</th>\n",
       "      <th>04q1</th>\n",
       "      <td>oxycodone</td>\n",
       "      <td>NaN</td>\n",
       "    </tr>\n",
       "    <tr>\n",
       "      <th>...</th>\n",
       "      <th>...</th>\n",
       "      <th>...</th>\n",
       "      <td>...</td>\n",
       "      <td>...</td>\n",
       "    </tr>\n",
       "    <tr>\n",
       "      <th rowspan=\"5\" valign=\"top\">13825291</th>\n",
       "      <th rowspan=\"5\" valign=\"top\">13825291110</th>\n",
       "      <th>20q2</th>\n",
       "      <td>octreotide</td>\n",
       "      <td>carcinoid tumor no icd-o subtype</td>\n",
       "    </tr>\n",
       "    <tr>\n",
       "      <th>20q2</th>\n",
       "      <td>octreotide</td>\n",
       "      <td>dyspnea</td>\n",
       "    </tr>\n",
       "    <tr>\n",
       "      <th>20q2</th>\n",
       "      <td>metoprolol</td>\n",
       "      <td>carcinoid tumor no icd-o subtype</td>\n",
       "    </tr>\n",
       "    <tr>\n",
       "      <th>20q2</th>\n",
       "      <td>metoprolol</td>\n",
       "      <td>carcinoid tumor no icd-o subtype</td>\n",
       "    </tr>\n",
       "    <tr>\n",
       "      <th>20q2</th>\n",
       "      <td>metoprolol</td>\n",
       "      <td>dyspnea</td>\n",
       "    </tr>\n",
       "  </tbody>\n",
       "</table>\n",
       "<p>129743103 rows × 2 columns</p>\n",
       "</div>"
      ],
      "text/plain": [
       "                                             gn  \\\n",
       "caseid   primaryid   filename                     \n",
       "5657190  4204616     04q1           misoprostol   \n",
       "                     04q1              chymosin   \n",
       "                     04q1      magnesium cation   \n",
       "                     04q1          mifepristone   \n",
       "5660304  4214534     04q1             oxycodone   \n",
       "...                                         ...   \n",
       "13825291 13825291110 20q2            octreotide   \n",
       "                     20q2            octreotide   \n",
       "                     20q2            metoprolol   \n",
       "                     20q2            metoprolol   \n",
       "                     20q2            metoprolol   \n",
       "\n",
       "                                                        indi_pt  \n",
       "caseid   primaryid   filename                                    \n",
       "5657190  4204616     04q1                                   NaN  \n",
       "                     04q1                                   NaN  \n",
       "                     04q1                                   NaN  \n",
       "                     04q1                                   NaN  \n",
       "5660304  4214534     04q1                                   NaN  \n",
       "...                                                         ...  \n",
       "13825291 13825291110 20q2      carcinoid tumor no icd-o subtype  \n",
       "                     20q2                               dyspnea  \n",
       "                     20q2      carcinoid tumor no icd-o subtype  \n",
       "                     20q2      carcinoid tumor no icd-o subtype  \n",
       "                     20q2                               dyspnea  \n",
       "\n",
       "[129743103 rows x 2 columns]"
      ]
     },
     "execution_count": 334,
     "metadata": {},
     "output_type": "execute_result"
    }
   ],
   "source": [
    "drug_indi"
   ]
  },
  {
   "cell_type": "code",
   "execution_count": 8,
   "metadata": {
    "ExecuteTime": {
     "end_time": "2021-03-07T02:47:01.696713Z",
     "start_time": "2021-03-07T02:46:59.145537Z"
    }
   },
   "outputs": [
    {
     "data": {
      "text/plain": [
       "12190282"
      ]
     },
     "execution_count": 8,
     "metadata": {},
     "output_type": "execute_result"
    }
   ],
   "source": [
    "len(demo_drug_indi_reac['primaryid'].unique())"
   ]
  },
  {
   "cell_type": "code",
   "execution_count": 393,
   "metadata": {
    "ExecuteTime": {
     "end_time": "2021-06-13T13:51:18.371478Z",
     "start_time": "2021-06-13T13:51:15.717106Z"
    }
   },
   "outputs": [
    {
     "data": {
      "text/plain": [
       "12190282"
      ]
     },
     "execution_count": 393,
     "metadata": {},
     "output_type": "execute_result"
    }
   ],
   "source": [
    "len(demo_drug_indi_reac['primaryid'].unique())"
   ]
  },
  {
   "cell_type": "code",
   "execution_count": 408,
   "metadata": {
    "ExecuteTime": {
     "end_time": "2021-06-13T13:59:00.882532Z",
     "start_time": "2021-06-13T13:59:00.868684Z"
    }
   },
   "outputs": [
    {
     "data": {
      "text/html": [
       "<div>\n",
       "<style scoped>\n",
       "    .dataframe tbody tr th:only-of-type {\n",
       "        vertical-align: middle;\n",
       "    }\n",
       "\n",
       "    .dataframe tbody tr th {\n",
       "        vertical-align: top;\n",
       "    }\n",
       "\n",
       "    .dataframe thead th {\n",
       "        text-align: right;\n",
       "    }\n",
       "</style>\n",
       "<table border=\"1\" class=\"dataframe\">\n",
       "  <thead>\n",
       "    <tr style=\"text-align: right;\">\n",
       "      <th></th>\n",
       "      <th>primaryid</th>\n",
       "      <th>age</th>\n",
       "      <th>age_cod</th>\n",
       "      <th>sex</th>\n",
       "      <th>filename</th>\n",
       "      <th>gn</th>\n",
       "      <th>reac_pt</th>\n",
       "      <th>indi_pt</th>\n",
       "      <th>sem_type</th>\n",
       "    </tr>\n",
       "  </thead>\n",
       "  <tbody>\n",
       "    <tr>\n",
       "      <th>0</th>\n",
       "      <td>4204616</td>\n",
       "      <td>21.0</td>\n",
       "      <td>yr</td>\n",
       "      <td>f</td>\n",
       "      <td>04q1</td>\n",
       "      <td>misoprostol</td>\n",
       "      <td>abdominal pain</td>\n",
       "      <td>NaN</td>\n",
       "      <td>NaN</td>\n",
       "    </tr>\n",
       "    <tr>\n",
       "      <th>1</th>\n",
       "      <td>4204616</td>\n",
       "      <td>21.0</td>\n",
       "      <td>yr</td>\n",
       "      <td>f</td>\n",
       "      <td>04q1</td>\n",
       "      <td>misoprostol</td>\n",
       "      <td>heart rate increased</td>\n",
       "      <td>NaN</td>\n",
       "      <td>NaN</td>\n",
       "    </tr>\n",
       "    <tr>\n",
       "      <th>2</th>\n",
       "      <td>4204616</td>\n",
       "      <td>21.0</td>\n",
       "      <td>yr</td>\n",
       "      <td>f</td>\n",
       "      <td>04q1</td>\n",
       "      <td>misoprostol</td>\n",
       "      <td>nausea</td>\n",
       "      <td>NaN</td>\n",
       "      <td>NaN</td>\n",
       "    </tr>\n",
       "    <tr>\n",
       "      <th>3</th>\n",
       "      <td>4204616</td>\n",
       "      <td>21.0</td>\n",
       "      <td>yr</td>\n",
       "      <td>f</td>\n",
       "      <td>04q1</td>\n",
       "      <td>misoprostol</td>\n",
       "      <td>pyrexia</td>\n",
       "      <td>NaN</td>\n",
       "      <td>NaN</td>\n",
       "    </tr>\n",
       "    <tr>\n",
       "      <th>4</th>\n",
       "      <td>4204616</td>\n",
       "      <td>21.0</td>\n",
       "      <td>yr</td>\n",
       "      <td>f</td>\n",
       "      <td>04q1</td>\n",
       "      <td>misoprostol</td>\n",
       "      <td>uterine tenderness</td>\n",
       "      <td>NaN</td>\n",
       "      <td>NaN</td>\n",
       "    </tr>\n",
       "    <tr>\n",
       "      <th>...</th>\n",
       "      <td>...</td>\n",
       "      <td>...</td>\n",
       "      <td>...</td>\n",
       "      <td>...</td>\n",
       "      <td>...</td>\n",
       "      <td>...</td>\n",
       "      <td>...</td>\n",
       "      <td>...</td>\n",
       "      <td>...</td>\n",
       "    </tr>\n",
       "    <tr>\n",
       "      <th>1424220</th>\n",
       "      <td>1691755416</td>\n",
       "      <td>39.0</td>\n",
       "      <td>yr</td>\n",
       "      <td>f</td>\n",
       "      <td>20q2</td>\n",
       "      <td>dantrolene</td>\n",
       "      <td>hypotension</td>\n",
       "      <td>opioid use disorder</td>\n",
       "      <td>[mobd]</td>\n",
       "    </tr>\n",
       "    <tr>\n",
       "      <th>1424221</th>\n",
       "      <td>1691755416</td>\n",
       "      <td>39.0</td>\n",
       "      <td>yr</td>\n",
       "      <td>f</td>\n",
       "      <td>20q2</td>\n",
       "      <td>dantrolene</td>\n",
       "      <td>immune thrombocytopenia</td>\n",
       "      <td>opioid use disorder</td>\n",
       "      <td>[mobd]</td>\n",
       "    </tr>\n",
       "    <tr>\n",
       "      <th>1424222</th>\n",
       "      <td>1691755416</td>\n",
       "      <td>39.0</td>\n",
       "      <td>yr</td>\n",
       "      <td>f</td>\n",
       "      <td>20q2</td>\n",
       "      <td>dantrolene</td>\n",
       "      <td>platelet count decreased</td>\n",
       "      <td>opioid use disorder</td>\n",
       "      <td>[mobd]</td>\n",
       "    </tr>\n",
       "    <tr>\n",
       "      <th>1424223</th>\n",
       "      <td>1691755416</td>\n",
       "      <td>39.0</td>\n",
       "      <td>yr</td>\n",
       "      <td>f</td>\n",
       "      <td>20q2</td>\n",
       "      <td>dantrolene</td>\n",
       "      <td>skin ulcer</td>\n",
       "      <td>opioid use disorder</td>\n",
       "      <td>[mobd]</td>\n",
       "    </tr>\n",
       "    <tr>\n",
       "      <th>1424224</th>\n",
       "      <td>1691755416</td>\n",
       "      <td>39.0</td>\n",
       "      <td>yr</td>\n",
       "      <td>f</td>\n",
       "      <td>20q2</td>\n",
       "      <td>dantrolene</td>\n",
       "      <td>substance abuse</td>\n",
       "      <td>opioid use disorder</td>\n",
       "      <td>[mobd]</td>\n",
       "    </tr>\n",
       "  </tbody>\n",
       "</table>\n",
       "<p>272047374 rows × 9 columns</p>\n",
       "</div>"
      ],
      "text/plain": [
       "          primaryid   age age_cod sex filename           gn  \\\n",
       "0           4204616  21.0      yr   f     04q1  misoprostol   \n",
       "1           4204616  21.0      yr   f     04q1  misoprostol   \n",
       "2           4204616  21.0      yr   f     04q1  misoprostol   \n",
       "3           4204616  21.0      yr   f     04q1  misoprostol   \n",
       "4           4204616  21.0      yr   f     04q1  misoprostol   \n",
       "...             ...   ...     ...  ..      ...          ...   \n",
       "1424220  1691755416  39.0      yr   f     20q2   dantrolene   \n",
       "1424221  1691755416  39.0      yr   f     20q2   dantrolene   \n",
       "1424222  1691755416  39.0      yr   f     20q2   dantrolene   \n",
       "1424223  1691755416  39.0      yr   f     20q2   dantrolene   \n",
       "1424224  1691755416  39.0      yr   f     20q2   dantrolene   \n",
       "\n",
       "                          reac_pt              indi_pt sem_type  \n",
       "0                  abdominal pain                  NaN      NaN  \n",
       "1            heart rate increased                  NaN      NaN  \n",
       "2                          nausea                  NaN      NaN  \n",
       "3                         pyrexia                  NaN      NaN  \n",
       "4              uterine tenderness                  NaN      NaN  \n",
       "...                           ...                  ...      ...  \n",
       "1424220               hypotension  opioid use disorder   [mobd]  \n",
       "1424221   immune thrombocytopenia  opioid use disorder   [mobd]  \n",
       "1424222  platelet count decreased  opioid use disorder   [mobd]  \n",
       "1424223                skin ulcer  opioid use disorder   [mobd]  \n",
       "1424224           substance abuse  opioid use disorder   [mobd]  \n",
       "\n",
       "[272047374 rows x 9 columns]"
      ]
     },
     "execution_count": 408,
     "metadata": {},
     "output_type": "execute_result"
    }
   ],
   "source": [
    "demo_drug_indi_reac"
   ]
  },
  {
   "cell_type": "code",
   "execution_count": 420,
   "metadata": {
    "ExecuteTime": {
     "end_time": "2021-06-24T13:09:09.901175Z",
     "start_time": "2021-06-24T13:09:09.803494Z"
    }
   },
   "outputs": [
    {
     "data": {
      "text/html": [
       "<div>\n",
       "<style scoped>\n",
       "    .dataframe tbody tr th:only-of-type {\n",
       "        vertical-align: middle;\n",
       "    }\n",
       "\n",
       "    .dataframe tbody tr th {\n",
       "        vertical-align: top;\n",
       "    }\n",
       "\n",
       "    .dataframe thead th {\n",
       "        text-align: right;\n",
       "    }\n",
       "</style>\n",
       "<table border=\"1\" class=\"dataframe\">\n",
       "  <thead>\n",
       "    <tr style=\"text-align: right;\">\n",
       "      <th></th>\n",
       "      <th>count</th>\n",
       "    </tr>\n",
       "    <tr>\n",
       "      <th>primaryid</th>\n",
       "      <th></th>\n",
       "    </tr>\n",
       "  </thead>\n",
       "  <tbody>\n",
       "    <tr>\n",
       "      <th>4261827</th>\n",
       "      <td>3</td>\n",
       "    </tr>\n",
       "    <tr>\n",
       "      <th>4261871</th>\n",
       "      <td>4</td>\n",
       "    </tr>\n",
       "    <tr>\n",
       "      <th>4261996</th>\n",
       "      <td>3</td>\n",
       "    </tr>\n",
       "    <tr>\n",
       "      <th>4262058</th>\n",
       "      <td>12</td>\n",
       "    </tr>\n",
       "    <tr>\n",
       "      <th>4262061</th>\n",
       "      <td>2</td>\n",
       "    </tr>\n",
       "    <tr>\n",
       "      <th>...</th>\n",
       "      <td>...</td>\n",
       "    </tr>\n",
       "    <tr>\n",
       "      <th>1769922810</th>\n",
       "      <td>2</td>\n",
       "    </tr>\n",
       "    <tr>\n",
       "      <th>1780052910</th>\n",
       "      <td>2</td>\n",
       "    </tr>\n",
       "    <tr>\n",
       "      <th>1780221611</th>\n",
       "      <td>4</td>\n",
       "    </tr>\n",
       "    <tr>\n",
       "      <th>9474120137</th>\n",
       "      <td>2</td>\n",
       "    </tr>\n",
       "    <tr>\n",
       "      <th>13825291110</th>\n",
       "      <td>2</td>\n",
       "    </tr>\n",
       "  </tbody>\n",
       "</table>\n",
       "<p>1511201 rows × 1 columns</p>\n",
       "</div>"
      ],
      "text/plain": [
       "             count\n",
       "primaryid         \n",
       "4261827          3\n",
       "4261871          4\n",
       "4261996          3\n",
       "4262058         12\n",
       "4262061          2\n",
       "...            ...\n",
       "1769922810       2\n",
       "1780052910       2\n",
       "1780221611       4\n",
       "9474120137       2\n",
       "13825291110      2\n",
       "\n",
       "[1511201 rows x 1 columns]"
      ]
     },
     "execution_count": 420,
     "metadata": {},
     "output_type": "execute_result"
    }
   ],
   "source": [
    "indi_average.columns = ['count']\n",
    "indi_average[indi_average['count'] > 1]"
   ]
  },
  {
   "cell_type": "code",
   "execution_count": 421,
   "metadata": {
    "ExecuteTime": {
     "end_time": "2021-06-24T13:09:25.011479Z",
     "start_time": "2021-06-24T13:09:25.006033Z"
    }
   },
   "outputs": [
    {
     "data": {
      "text/html": [
       "<div>\n",
       "<style scoped>\n",
       "    .dataframe tbody tr th:only-of-type {\n",
       "        vertical-align: middle;\n",
       "    }\n",
       "\n",
       "    .dataframe tbody tr th {\n",
       "        vertical-align: top;\n",
       "    }\n",
       "\n",
       "    .dataframe thead th {\n",
       "        text-align: right;\n",
       "    }\n",
       "</style>\n",
       "<table border=\"1\" class=\"dataframe\">\n",
       "  <thead>\n",
       "    <tr style=\"text-align: right;\">\n",
       "      <th></th>\n",
       "      <th>count</th>\n",
       "    </tr>\n",
       "    <tr>\n",
       "      <th>primaryid</th>\n",
       "      <th></th>\n",
       "    </tr>\n",
       "  </thead>\n",
       "  <tbody>\n",
       "    <tr>\n",
       "      <th>4223542</th>\n",
       "      <td>1</td>\n",
       "    </tr>\n",
       "    <tr>\n",
       "      <th>4250482</th>\n",
       "      <td>1</td>\n",
       "    </tr>\n",
       "    <tr>\n",
       "      <th>4261823</th>\n",
       "      <td>1</td>\n",
       "    </tr>\n",
       "    <tr>\n",
       "      <th>4261824</th>\n",
       "      <td>1</td>\n",
       "    </tr>\n",
       "    <tr>\n",
       "      <th>4261825</th>\n",
       "      <td>1</td>\n",
       "    </tr>\n",
       "    <tr>\n",
       "      <th>...</th>\n",
       "      <td>...</td>\n",
       "    </tr>\n",
       "    <tr>\n",
       "      <th>1776671212</th>\n",
       "      <td>1</td>\n",
       "    </tr>\n",
       "    <tr>\n",
       "      <th>1780052910</th>\n",
       "      <td>2</td>\n",
       "    </tr>\n",
       "    <tr>\n",
       "      <th>1780221611</th>\n",
       "      <td>4</td>\n",
       "    </tr>\n",
       "    <tr>\n",
       "      <th>9474120137</th>\n",
       "      <td>2</td>\n",
       "    </tr>\n",
       "    <tr>\n",
       "      <th>13825291110</th>\n",
       "      <td>2</td>\n",
       "    </tr>\n",
       "  </tbody>\n",
       "</table>\n",
       "<p>7950105 rows × 1 columns</p>\n",
       "</div>"
      ],
      "text/plain": [
       "             count\n",
       "primaryid         \n",
       "4223542          1\n",
       "4250482          1\n",
       "4261823          1\n",
       "4261824          1\n",
       "4261825          1\n",
       "...            ...\n",
       "1776671212       1\n",
       "1780052910       2\n",
       "1780221611       4\n",
       "9474120137       2\n",
       "13825291110      2\n",
       "\n",
       "[7950105 rows x 1 columns]"
      ]
     },
     "execution_count": 421,
     "metadata": {},
     "output_type": "execute_result"
    }
   ],
   "source": [
    "indi_average"
   ]
  },
  {
   "cell_type": "code",
   "execution_count": 425,
   "metadata": {
    "ExecuteTime": {
     "end_time": "2021-06-24T13:12:16.537286Z",
     "start_time": "2021-06-24T13:11:26.887217Z"
    }
   },
   "outputs": [
    {
     "data": {
      "text/plain": [
       "reac_pt  count    3.000672\n",
       "dtype: float64"
      ]
     },
     "execution_count": 425,
     "metadata": {},
     "output_type": "execute_result"
    }
   ],
   "source": [
    "reac_average = demo_drug_indi_reac[['primaryid','reac_pt']].drop_duplicates().dropna()\\\n",
    ".groupby(['primaryid']).agg(['count'])\n",
    "\n",
    "reac_average.mean()"
   ]
  },
  {
   "cell_type": "code",
   "execution_count": 409,
   "metadata": {
    "ExecuteTime": {
     "end_time": "2021-06-13T14:00:10.220188Z",
     "start_time": "2021-06-13T13:59:39.349302Z"
    }
   },
   "outputs": [
    {
     "data": {
      "text/plain": [
       "indi_pt  count    1.36943\n",
       "dtype: float64"
      ]
     },
     "execution_count": 409,
     "metadata": {},
     "output_type": "execute_result"
    }
   ],
   "source": [
    "indi_average = demo_drug_indi_reac[['primaryid','indi_pt']].drop_duplicates().dropna()\\\n",
    ".groupby(['primaryid']).agg(['count'])\n",
    "\n",
    "indi_average.mean()"
   ]
  },
  {
   "cell_type": "code",
   "execution_count": 410,
   "metadata": {
    "ExecuteTime": {
     "end_time": "2021-06-13T14:01:43.343293Z",
     "start_time": "2021-06-13T14:00:34.404097Z"
    }
   },
   "outputs": [],
   "source": [
    "pair_average = demo_drug_indi_reac[['primaryid','gn','indi_pt']].dropna().drop_duplicates()"
   ]
  },
  {
   "cell_type": "code",
   "execution_count": 414,
   "metadata": {
    "ExecuteTime": {
     "end_time": "2021-06-13T14:07:30.389579Z",
     "start_time": "2021-06-13T14:07:06.975195Z"
    }
   },
   "outputs": [],
   "source": [
    "pair_average[\"pair\"] = pair_average[\"gn\"] + pair_average[\"indi_pt\"]\n",
    "pair_average = pair_average[['primaryid','pair']]\n",
    "pair_average = pair_average.groupby(['primaryid']).agg(['count'])"
   ]
  },
  {
   "cell_type": "code",
   "execution_count": 415,
   "metadata": {
    "ExecuteTime": {
     "end_time": "2021-06-13T14:07:30.402429Z",
     "start_time": "2021-06-13T14:07:30.393175Z"
    }
   },
   "outputs": [
    {
     "data": {
      "text/html": [
       "<div>\n",
       "<style scoped>\n",
       "    .dataframe tbody tr th:only-of-type {\n",
       "        vertical-align: middle;\n",
       "    }\n",
       "\n",
       "    .dataframe tbody tr th {\n",
       "        vertical-align: top;\n",
       "    }\n",
       "\n",
       "    .dataframe thead tr th {\n",
       "        text-align: left;\n",
       "    }\n",
       "\n",
       "    .dataframe thead tr:last-of-type th {\n",
       "        text-align: right;\n",
       "    }\n",
       "</style>\n",
       "<table border=\"1\" class=\"dataframe\">\n",
       "  <thead>\n",
       "    <tr>\n",
       "      <th></th>\n",
       "      <th>pair</th>\n",
       "    </tr>\n",
       "    <tr>\n",
       "      <th></th>\n",
       "      <th>count</th>\n",
       "    </tr>\n",
       "    <tr>\n",
       "      <th>primaryid</th>\n",
       "      <th></th>\n",
       "    </tr>\n",
       "  </thead>\n",
       "  <tbody>\n",
       "    <tr>\n",
       "      <th>4223542</th>\n",
       "      <td>2</td>\n",
       "    </tr>\n",
       "    <tr>\n",
       "      <th>4250482</th>\n",
       "      <td>1</td>\n",
       "    </tr>\n",
       "    <tr>\n",
       "      <th>4261823</th>\n",
       "      <td>2</td>\n",
       "    </tr>\n",
       "    <tr>\n",
       "      <th>4261824</th>\n",
       "      <td>2</td>\n",
       "    </tr>\n",
       "    <tr>\n",
       "      <th>4261825</th>\n",
       "      <td>8</td>\n",
       "    </tr>\n",
       "    <tr>\n",
       "      <th>...</th>\n",
       "      <td>...</td>\n",
       "    </tr>\n",
       "    <tr>\n",
       "      <th>1776671212</th>\n",
       "      <td>5</td>\n",
       "    </tr>\n",
       "    <tr>\n",
       "      <th>1780052910</th>\n",
       "      <td>24</td>\n",
       "    </tr>\n",
       "    <tr>\n",
       "      <th>1780221611</th>\n",
       "      <td>4</td>\n",
       "    </tr>\n",
       "    <tr>\n",
       "      <th>9474120137</th>\n",
       "      <td>8</td>\n",
       "    </tr>\n",
       "    <tr>\n",
       "      <th>13825291110</th>\n",
       "      <td>6</td>\n",
       "    </tr>\n",
       "  </tbody>\n",
       "</table>\n",
       "<p>7777648 rows × 1 columns</p>\n",
       "</div>"
      ],
      "text/plain": [
       "             pair\n",
       "            count\n",
       "primaryid        \n",
       "4223542         2\n",
       "4250482         1\n",
       "4261823         2\n",
       "4261824         2\n",
       "4261825         8\n",
       "...           ...\n",
       "1776671212      5\n",
       "1780052910     24\n",
       "1780221611      4\n",
       "9474120137      8\n",
       "13825291110     6\n",
       "\n",
       "[7777648 rows x 1 columns]"
      ]
     },
     "execution_count": 415,
     "metadata": {},
     "output_type": "execute_result"
    }
   ],
   "source": [
    "pair_average"
   ]
  },
  {
   "cell_type": "code",
   "execution_count": 416,
   "metadata": {
    "ExecuteTime": {
     "end_time": "2021-06-13T14:07:30.418786Z",
     "start_time": "2021-06-13T14:07:30.403405Z"
    }
   },
   "outputs": [
    {
     "data": {
      "text/plain": [
       "pair  count    6.342918\n",
       "dtype: float64"
      ]
     },
     "execution_count": 416,
     "metadata": {},
     "output_type": "execute_result"
    }
   ],
   "source": [
    "pair_average.mean()"
   ]
  },
  {
   "cell_type": "code",
   "execution_count": 411,
   "metadata": {
    "ExecuteTime": {
     "end_time": "2021-06-13T14:01:43.369358Z",
     "start_time": "2021-06-13T14:01:43.345001Z"
    }
   },
   "outputs": [
    {
     "data": {
      "text/plain": [
       "gn  count    2.910149\n",
       "dtype: float64"
      ]
     },
     "execution_count": 411,
     "metadata": {},
     "output_type": "execute_result"
    }
   ],
   "source": [
    "drug_average.mean()"
   ]
  },
  {
   "cell_type": "code",
   "execution_count": 426,
   "metadata": {
    "ExecuteTime": {
     "end_time": "2021-06-24T13:12:16.696437Z",
     "start_time": "2021-06-24T13:12:16.538524Z"
    }
   },
   "outputs": [
    {
     "data": {
      "text/html": [
       "<div>\n",
       "<style scoped>\n",
       "    .dataframe tbody tr th:only-of-type {\n",
       "        vertical-align: middle;\n",
       "    }\n",
       "\n",
       "    .dataframe tbody tr th {\n",
       "        vertical-align: top;\n",
       "    }\n",
       "\n",
       "    .dataframe thead th {\n",
       "        text-align: right;\n",
       "    }\n",
       "</style>\n",
       "<table border=\"1\" class=\"dataframe\">\n",
       "  <thead>\n",
       "    <tr style=\"text-align: right;\">\n",
       "      <th></th>\n",
       "      <th>count</th>\n",
       "    </tr>\n",
       "    <tr>\n",
       "      <th>primaryid</th>\n",
       "      <th></th>\n",
       "    </tr>\n",
       "  </thead>\n",
       "  <tbody>\n",
       "    <tr>\n",
       "      <th>4204616</th>\n",
       "      <td>4</td>\n",
       "    </tr>\n",
       "    <tr>\n",
       "      <th>4214534</th>\n",
       "      <td>2</td>\n",
       "    </tr>\n",
       "    <tr>\n",
       "      <th>4223542</th>\n",
       "      <td>2</td>\n",
       "    </tr>\n",
       "    <tr>\n",
       "      <th>4261823</th>\n",
       "      <td>2</td>\n",
       "    </tr>\n",
       "    <tr>\n",
       "      <th>4261824</th>\n",
       "      <td>2</td>\n",
       "    </tr>\n",
       "    <tr>\n",
       "      <th>...</th>\n",
       "      <td>...</td>\n",
       "    </tr>\n",
       "    <tr>\n",
       "      <th>1776625611</th>\n",
       "      <td>8</td>\n",
       "    </tr>\n",
       "    <tr>\n",
       "      <th>1776671212</th>\n",
       "      <td>5</td>\n",
       "    </tr>\n",
       "    <tr>\n",
       "      <th>1780052910</th>\n",
       "      <td>12</td>\n",
       "    </tr>\n",
       "    <tr>\n",
       "      <th>9474120137</th>\n",
       "      <td>4</td>\n",
       "    </tr>\n",
       "    <tr>\n",
       "      <th>13825291110</th>\n",
       "      <td>3</td>\n",
       "    </tr>\n",
       "  </tbody>\n",
       "</table>\n",
       "<p>5513543 rows × 1 columns</p>\n",
       "</div>"
      ],
      "text/plain": [
       "             count\n",
       "primaryid         \n",
       "4204616          4\n",
       "4214534          2\n",
       "4223542          2\n",
       "4261823          2\n",
       "4261824          2\n",
       "...            ...\n",
       "1776625611       8\n",
       "1776671212       5\n",
       "1780052910      12\n",
       "9474120137       4\n",
       "13825291110      3\n",
       "\n",
       "[5513543 rows x 1 columns]"
      ]
     },
     "execution_count": 426,
     "metadata": {},
     "output_type": "execute_result"
    }
   ],
   "source": [
    "drug_average.columns = ['count']\n",
    "drug_average[drug_average['count'] > 1]"
   ]
  },
  {
   "cell_type": "code",
   "execution_count": 427,
   "metadata": {
    "ExecuteTime": {
     "end_time": "2021-06-24T13:12:46.055190Z",
     "start_time": "2021-06-24T13:12:45.861546Z"
    }
   },
   "outputs": [
    {
     "data": {
      "text/html": [
       "<div>\n",
       "<style scoped>\n",
       "    .dataframe tbody tr th:only-of-type {\n",
       "        vertical-align: middle;\n",
       "    }\n",
       "\n",
       "    .dataframe tbody tr th {\n",
       "        vertical-align: top;\n",
       "    }\n",
       "\n",
       "    .dataframe thead th {\n",
       "        text-align: right;\n",
       "    }\n",
       "</style>\n",
       "<table border=\"1\" class=\"dataframe\">\n",
       "  <thead>\n",
       "    <tr style=\"text-align: right;\">\n",
       "      <th></th>\n",
       "      <th>count</th>\n",
       "    </tr>\n",
       "    <tr>\n",
       "      <th>primaryid</th>\n",
       "      <th></th>\n",
       "    </tr>\n",
       "  </thead>\n",
       "  <tbody>\n",
       "    <tr>\n",
       "      <th>4204616</th>\n",
       "      <td>6</td>\n",
       "    </tr>\n",
       "    <tr>\n",
       "      <th>4214534</th>\n",
       "      <td>3</td>\n",
       "    </tr>\n",
       "    <tr>\n",
       "      <th>4223542</th>\n",
       "      <td>7</td>\n",
       "    </tr>\n",
       "    <tr>\n",
       "      <th>4250482</th>\n",
       "      <td>2</td>\n",
       "    </tr>\n",
       "    <tr>\n",
       "      <th>4261823</th>\n",
       "      <td>3</td>\n",
       "    </tr>\n",
       "    <tr>\n",
       "      <th>...</th>\n",
       "      <td>...</td>\n",
       "    </tr>\n",
       "    <tr>\n",
       "      <th>1772413910</th>\n",
       "      <td>17</td>\n",
       "    </tr>\n",
       "    <tr>\n",
       "      <th>1780052910</th>\n",
       "      <td>30</td>\n",
       "    </tr>\n",
       "    <tr>\n",
       "      <th>1780221611</th>\n",
       "      <td>3</td>\n",
       "    </tr>\n",
       "    <tr>\n",
       "      <th>9474120137</th>\n",
       "      <td>91</td>\n",
       "    </tr>\n",
       "    <tr>\n",
       "      <th>13825291110</th>\n",
       "      <td>91</td>\n",
       "    </tr>\n",
       "  </tbody>\n",
       "</table>\n",
       "<p>7334827 rows × 1 columns</p>\n",
       "</div>"
      ],
      "text/plain": [
       "             count\n",
       "primaryid         \n",
       "4204616          6\n",
       "4214534          3\n",
       "4223542          7\n",
       "4250482          2\n",
       "4261823          3\n",
       "...            ...\n",
       "1772413910      17\n",
       "1780052910      30\n",
       "1780221611       3\n",
       "9474120137      91\n",
       "13825291110     91\n",
       "\n",
       "[7334827 rows x 1 columns]"
      ]
     },
     "execution_count": 427,
     "metadata": {},
     "output_type": "execute_result"
    }
   ],
   "source": [
    "reac_average.columns = ['count']\n",
    "reac_average[reac_average['count'] > 1]"
   ]
  },
  {
   "cell_type": "markdown",
   "metadata": {},
   "source": [
    "# Opioid Cohort"
   ]
  },
  {
   "cell_type": "code",
   "execution_count": 224,
   "metadata": {
    "ExecuteTime": {
     "end_time": "2021-03-29T03:35:19.694010Z",
     "start_time": "2021-03-29T03:34:35.667765Z"
    }
   },
   "outputs": [],
   "source": [
    "# opioid vocabulary\n",
    "opioid = ['Hydrocodone','Oxycodone', 'Hydromorphone','Fentanyl','Oxymorphone','Morphine','Codeine','Methadone',\n",
    "          'Buprenorphine','Tramadol','Meperidine','heroin']\n",
    "op = []\n",
    "for x in opioid:\n",
    "    gn = x.lower()\n",
    "    op.append(gn)\n",
    "\n",
    "# dependence  vocabulary\n",
    "reac_dependence = ['drug dependence','polysubstance dependence', 'drug dependence, antepartum',\\\n",
    "                   'substance dependence','chemical abuser','substance abuse','drug abuse', 'substance abuser',\\\n",
    "                   'ex-drug abuser','polysubstance abuse','drug abuser']\n",
    "indi_dependence = ['polysubstance dependence', 'drug dependence','dependence',\n",
    "        'drug dependence of morphine type', 'opium dependence','drug use disorders',\n",
    "       'substance use disorders','drug abuse', 'substance abuse problem']\n",
    "\n",
    "op_cohort = list(indi_mapping[indi_mapping['preferred_name'].str.contains('opioid use disorder')]\\\n",
    "                 .reset_index()['primaryid'].unique())\n",
    "op_cohort = op_cohort + list(demo_drug_indi_reac[demo_drug_indi_reac['gn'].isin(op) \\\n",
    "                                     & demo_drug_indi_reac['indi_pt'].isin(indi_dependence)]\\\n",
    "                 ['primaryid'].unique())\n",
    "op_cohort = op_cohort + list(demo_drug_indi_reac[demo_drug_indi_reac['gn'].isin(op) \\\n",
    "                                     & demo_drug_indi_reac['reac_pt'].isin(reac_dependence)]\\\n",
    "                 ['primaryid'].unique())\n",
    "op_cohort = list(set(op_cohort))"
   ]
  },
  {
   "cell_type": "code",
   "execution_count": 225,
   "metadata": {
    "ExecuteTime": {
     "end_time": "2021-03-29T03:35:19.698039Z",
     "start_time": "2021-03-29T03:35:19.695559Z"
    }
   },
   "outputs": [
    {
     "data": {
      "text/plain": [
       "57293"
      ]
     },
     "execution_count": 225,
     "metadata": {},
     "output_type": "execute_result"
    }
   ],
   "source": [
    "len(op_cohort)"
   ]
  },
  {
   "cell_type": "code",
   "execution_count": 10,
   "metadata": {
    "ExecuteTime": {
     "end_time": "2021-03-07T02:47:42.935919Z",
     "start_time": "2021-03-07T02:47:42.933260Z"
    }
   },
   "outputs": [
    {
     "data": {
      "text/plain": [
       "57293"
      ]
     },
     "execution_count": 10,
     "metadata": {},
     "output_type": "execute_result"
    }
   ],
   "source": [
    "len(op_cohort)"
   ]
  },
  {
   "cell_type": "code",
   "execution_count": 226,
   "metadata": {
    "ExecuteTime": {
     "end_time": "2021-03-29T03:35:19.735883Z",
     "start_time": "2021-03-29T03:35:19.698818Z"
    }
   },
   "outputs": [],
   "source": [
    "op_column = len(op_cohort)*['opioid use disorder']\n",
    "op_sem = len(op_cohort)*['[mobd]']\n",
    "# build new indication record\n",
    "op_indication = pd.DataFrame(list(zip(op_cohort, op_column,op_sem)), \n",
    "               columns =['primaryid', 'indi_pt','sem_type']) "
   ]
  },
  {
   "cell_type": "code",
   "execution_count": 227,
   "metadata": {
    "ExecuteTime": {
     "end_time": "2021-03-29T03:40:49.674729Z",
     "start_time": "2021-03-29T03:35:19.736753Z"
    }
   },
   "outputs": [],
   "source": [
    "a = demo_drug_indi_reac[['primaryid','age','age_cod','sex','filename','gn','reac_pt']].drop_duplicates()\n",
    "a = pd.merge(a, op_indication)\n",
    "demo_drug_indi_reac = pd.concat([demo_drug_indi_reac, a]).drop_duplicates()"
   ]
  },
  {
   "cell_type": "markdown",
   "metadata": {},
   "source": [
    "# Useful Function "
   ]
  },
  {
   "cell_type": "code",
   "execution_count": 228,
   "metadata": {
    "ExecuteTime": {
     "end_time": "2021-03-29T03:40:49.685304Z",
     "start_time": "2021-03-29T03:40:49.676180Z"
    }
   },
   "outputs": [],
   "source": [
    "# Yield successive n-sized \n",
    "# chunks from l. \n",
    "def divide_chunks(l, n):       \n",
    "    # looping till length l \n",
    "    for i in range(0, len(l), n):  \n",
    "        yield l[i:i + n] \n",
    "        \n",
    "def process(drugname):\n",
    "    \n",
    "    pn_dict, cui_dict, sem_dict = {},{},{}\n",
    "    #drug_list = [x.encode('ascii', 'ignore') for x in drugname]\n",
    "    \n",
    "    concept,error = mm.extract_concepts(drugname,list(range(0,len(drugname))),                                        \n",
    "                                        restrict_to_sts=['acab', 'anab', 'comd', 'cgab','dsyn','emod','fndg',\n",
    "                                                         'inpo', 'mobd', 'neop', 'patf','sosy'], \n",
    "                                        word_sense_disambiguation=True)\n",
    "    pn_dict, cui_dict, sem_dict = get_concept(drugname, concept)\n",
    "                  \n",
    "                   \n",
    "    return pn_dict, cui_dict, sem_dict\n",
    "\n",
    "def get_concept(drugname, concept):\n",
    "        \n",
    "    pn_dict = {}\n",
    "    cui_dict = {}\n",
    "    sem_dict = {}\n",
    "    drug_id = []\n",
    "    \n",
    "    for j in range(0, len(concept)):\n",
    "        ind = getattr(concept[j], 'index')\n",
    "        if ind == '-e 0':\n",
    "            ind = '0'\n",
    "        ind = int(ind)\n",
    "        if ind not in drug_id:\n",
    "            if 'preferred_name' in concept[j].__dir__():\n",
    "                drug_id.append(ind)\n",
    "                pn_dict[drugname[ind]] = getattr(concept[j], 'preferred_name')\n",
    "                sem_dict[drugname[ind]] = getattr(concept[j], 'semtypes') \n",
    "                cui_dict[drugname[ind]] = getattr(concept[j], 'cui')\n",
    "    return pn_dict, cui_dict, sem_dict\n",
    "\n",
    "def get_pr_sem(drugname):\n",
    "    n = 1000  \n",
    "    x = list(divide_chunks(drugname, n)) \n",
    "\n",
    "    preferred_name = {}\n",
    "    semtypes = {}\n",
    "    cui = {}\n",
    "\n",
    "    for i in tqdm(range(0, len(x))):\n",
    "        start_time = time.time()\n",
    "        pn_dict, cui_dict,sem_dict = process(x[i])\n",
    "        preferred_name.update(pn_dict)\n",
    "        semtypes.update(sem_dict)\n",
    "        cui.update(cui_dict)\n",
    "        print(\"[ Epoch \" + str(i) + \" ] total:\" + str(len(preferred_name)) + \" current:\" + str(len(pn_dict)) + \" takes %s seconds \" % (time.time() - start_time))\n",
    "        \n",
    "    return preferred_name, cui, semtypes"
   ]
  },
  {
   "cell_type": "code",
   "execution_count": 229,
   "metadata": {
    "ExecuteTime": {
     "end_time": "2021-03-29T03:40:49.690623Z",
     "start_time": "2021-03-29T03:40:49.686186Z"
    }
   },
   "outputs": [],
   "source": [
    "def association(df):\n",
    "# Association Rules Preparation\n",
    "    fp = df.groupby('primaryid')['indi_pt'].apply(set)\n",
    "    fp = pd.DataFrame(fp)\n",
    "    fp['indi_pt'] = fp['indi_pt'].apply(list)\n",
    "    fp_pn = list(fp['indi_pt'])\n",
    "    \n",
    "    te = TransactionEncoder()\n",
    "    te_ary = te.fit(fp_pn).transform(fp_pn)\n",
    "    df = pd.DataFrame(te_ary, columns=te.columns_)\n",
    "\n",
    "    # fp-growth parameters:\n",
    "    frequent_itemsets = fpgrowth(df, min_support=0.000002, use_colnames=True,max_len=3)\n",
    "\n",
    "    rules = association_rules(frequent_itemsets,  metric=\"lift\", min_threshold=1)\n",
    "    \n",
    "\n",
    "    rules = rules.rename(columns = {'antecedents':'dis1_UMLS','consequents':'dis2_UMLS'})\n",
    "    rules['dis1_UMLS'] = rules['dis1_UMLS'].apply(list)\n",
    "    rules['dis2_UMLS'] = rules['dis2_UMLS'].apply(list)\n",
    "    # association = rules.copy(deep=True)\n",
    "    disease_rules = rules.explode('dis1_UMLS').explode('dis2_UMLS')[['dis1_UMLS','dis2_UMLS']].drop_duplicates()\n",
    "    #op_rules = disease_rules[disease_rules['dis1_UMLS'] =='opiate addiction']\n",
    "    return disease_rules"
   ]
  },
  {
   "cell_type": "code",
   "execution_count": 230,
   "metadata": {
    "ExecuteTime": {
     "end_time": "2021-03-29T03:40:49.695382Z",
     "start_time": "2021-03-29T03:40:49.691398Z"
    }
   },
   "outputs": [],
   "source": [
    "def ru(df):\n",
    "# Association Rules Preparation\n",
    "    fp = df.groupby('primaryid')['indi_pt'].apply(set)\n",
    "    fp = pd.DataFrame(fp)\n",
    "    fp['indi_pt'] = fp['indi_pt'].apply(list)\n",
    "    fp_pn = list(fp['indi_pt'])\n",
    "    \n",
    "    te = TransactionEncoder()\n",
    "    te_ary = te.fit(fp_pn).transform(fp_pn)\n",
    "    df = pd.DataFrame(te_ary, columns=te.columns_)\n",
    "\n",
    "    # fp-growth parameters:\n",
    "    frequent_itemsets = fpgrowth(df, min_support=0.000002, use_colnames=True,max_len=3)\n",
    "\n",
    "    rules = association_rules(frequent_itemsets,  metric=\"lift\", min_threshold=1)\n",
    "    \n",
    "\n",
    "    rules = rules.rename(columns = {'antecedents':'dis1_UMLS','consequents':'dis2_UMLS'})\n",
    "    rules['dis1_UMLS'] = rules['dis1_UMLS'].apply(list)\n",
    "    rules['dis2_UMLS'] = rules['dis2_UMLS'].apply(list)\n",
    "\n",
    "    return rules"
   ]
  },
  {
   "cell_type": "code",
   "execution_count": 231,
   "metadata": {
    "ExecuteTime": {
     "end_time": "2021-03-29T03:40:49.700559Z",
     "start_time": "2021-03-29T03:40:49.696187Z"
    }
   },
   "outputs": [],
   "source": [
    "def op_association(df):\n",
    "# Association Rules Preparation\n",
    "    fp = df.groupby('primaryid')['indi_pt'].apply(set)\n",
    "    fp = pd.DataFrame(fp)\n",
    "    fp['indi_pt'] = fp['indi_pt'].apply(list)\n",
    "    fp_pn = list(fp['indi_pt'])\n",
    "    \n",
    "    te = TransactionEncoder()\n",
    "    te_ary = te.fit(fp_pn).transform(fp_pn)\n",
    "    df = pd.DataFrame(te_ary, columns=te.columns_)\n",
    "\n",
    "    frequent_itemsets = fpgrowth(df, min_support=0.000002, use_colnames=True,max_len=3)\n",
    "\n",
    "    rules = association_rules(frequent_itemsets, metric=\"lift\", min_threshold=1)\n",
    "\n",
    "    rules = rules.rename(columns = {'antecedents':'dis1_UMLS','consequents':'dis2_UMLS'})\n",
    "    rules['dis1_UMLS'] = rules['dis1_UMLS'].apply(list)\n",
    "    rules['dis2_UMLS'] = rules['dis2_UMLS'].apply(list)\n",
    "    disease_rules = rules.explode('dis1_UMLS').explode('dis2_UMLS')[['dis1_UMLS','dis2_UMLS']].drop_duplicates()\n",
    "\n",
    "    op_rules = disease_rules[disease_rules['dis1_UMLS'] =='opioid use disorder']\n",
    "    return op_rules"
   ]
  },
  {
   "cell_type": "markdown",
   "metadata": {},
   "source": [
    "# Whole population"
   ]
  },
  {
   "cell_type": "markdown",
   "metadata": {},
   "source": [
    "## Association Rules Mining"
   ]
  },
  {
   "cell_type": "code",
   "execution_count": 233,
   "metadata": {
    "ExecuteTime": {
     "end_time": "2021-03-29T03:41:33.222541Z",
     "start_time": "2021-03-29T03:40:49.706458Z"
    }
   },
   "outputs": [],
   "source": [
    "indi = demo_drug_indi_reac[['primaryid','indi_pt']].dropna(subset = ['indi_pt']).drop_duplicates()\n",
    "op_column = len(op_cohort)*['opioid use disorder']\n",
    "# build new indication record\n",
    "op_indication = pd.DataFrame(list(zip(op_cohort, op_column)), \n",
    "               columns =['primaryid', 'indi_pt']) \n",
    "indi_new = pd.concat([op_indication, indi]).drop_duplicates()\n",
    "indi_new = indi_new.dropna(subset = ['indi_pt'])"
   ]
  },
  {
   "cell_type": "code",
   "execution_count": 234,
   "metadata": {
    "ExecuteTime": {
     "end_time": "2021-03-29T03:59:28.491323Z",
     "start_time": "2021-03-29T03:41:33.223816Z"
    }
   },
   "outputs": [],
   "source": [
    "disease_rules = association(indi_new)\n",
    "op_rules = op_association(indi_new)\n",
    "association_list = list(op_rules['dis2_UMLS'])\n",
    "association_list.append('opioid use disorder')\n",
    "network = disease_rules[(disease_rules['dis1_UMLS'].isin(association_list))&(disease_rules['dis2_UMLS'].isin(association_list))]\n",
    "#node_count = dict(network['dis1_UMLS'].value_counts())\n",
    "#preferred_name, cui, typ = get_pr_sem(association_list)"
   ]
  },
  {
   "cell_type": "code",
   "execution_count": null,
   "metadata": {
    "ExecuteTime": {
     "end_time": "2021-03-29T13:33:33.203097Z",
     "start_time": "2021-03-29T13:33:25.056664Z"
    }
   },
   "outputs": [],
   "source": [
    "x = ru(indi_new)\n",
    "\n",
    "x['dis1_UMLS'] = x['dis1_UMLS'].apply(set)\n",
    "x['dis2_UMLS'] = x['dis2_UMLS'].apply(set)\n",
    "\n",
    "#y = x[x['dis1_UMLS'] == {'opioid use disorder'}]"
   ]
  },
  {
   "cell_type": "code",
   "execution_count": 289,
   "metadata": {
    "ExecuteTime": {
     "end_time": "2021-03-30T08:15:57.439311Z",
     "start_time": "2021-03-30T08:15:57.315636Z"
    }
   },
   "outputs": [
    {
     "data": {
      "text/html": [
       "<div>\n",
       "<style scoped>\n",
       "    .dataframe tbody tr th:only-of-type {\n",
       "        vertical-align: middle;\n",
       "    }\n",
       "\n",
       "    .dataframe tbody tr th {\n",
       "        vertical-align: top;\n",
       "    }\n",
       "\n",
       "    .dataframe thead th {\n",
       "        text-align: right;\n",
       "    }\n",
       "</style>\n",
       "<table border=\"1\" class=\"dataframe\">\n",
       "  <thead>\n",
       "    <tr style=\"text-align: right;\">\n",
       "      <th></th>\n",
       "      <th>dis1_UMLS</th>\n",
       "      <th>dis2_UMLS</th>\n",
       "      <th>antecedent support</th>\n",
       "      <th>consequent support</th>\n",
       "      <th>support</th>\n",
       "      <th>confidence</th>\n",
       "      <th>lift</th>\n",
       "      <th>leverage</th>\n",
       "      <th>conviction</th>\n",
       "    </tr>\n",
       "  </thead>\n",
       "  <tbody>\n",
       "    <tr>\n",
       "      <th>7890</th>\n",
       "      <td>[opioid use disorder, pain in limb]</td>\n",
       "      <td>[back pain]</td>\n",
       "      <td>0.000015</td>\n",
       "      <td>0.007651</td>\n",
       "      <td>0.000003</td>\n",
       "      <td>0.208333</td>\n",
       "      <td>27.230565</td>\n",
       "      <td>3.029132e-06</td>\n",
       "      <td>1.253494</td>\n",
       "    </tr>\n",
       "    <tr>\n",
       "      <th>7891</th>\n",
       "      <td>[opioid use disorder, back pain]</td>\n",
       "      <td>[pain in limb]</td>\n",
       "      <td>0.000137</td>\n",
       "      <td>0.002109</td>\n",
       "      <td>0.000003</td>\n",
       "      <td>0.022915</td>\n",
       "      <td>10.863780</td>\n",
       "      <td>2.855154e-06</td>\n",
       "      <td>1.021293</td>\n",
       "    </tr>\n",
       "    <tr>\n",
       "      <th>7893</th>\n",
       "      <td>[opioid use disorder]</td>\n",
       "      <td>[pain in limb, back pain]</td>\n",
       "      <td>0.007207</td>\n",
       "      <td>0.000320</td>\n",
       "      <td>0.000003</td>\n",
       "      <td>0.000436</td>\n",
       "      <td>1.363623</td>\n",
       "      <td>8.385401e-07</td>\n",
       "      <td>1.000116</td>\n",
       "    </tr>\n",
       "    <tr>\n",
       "      <th>7896</th>\n",
       "      <td>[opioid use disorder, pain]</td>\n",
       "      <td>[pain in limb]</td>\n",
       "      <td>0.000846</td>\n",
       "      <td>0.002109</td>\n",
       "      <td>0.000004</td>\n",
       "      <td>0.004756</td>\n",
       "      <td>2.254913</td>\n",
       "      <td>2.240066e-06</td>\n",
       "      <td>1.002660</td>\n",
       "    </tr>\n",
       "    <tr>\n",
       "      <th>7897</th>\n",
       "      <td>[opioid use disorder, pain in limb]</td>\n",
       "      <td>[pain]</td>\n",
       "      <td>0.000015</td>\n",
       "      <td>0.033970</td>\n",
       "      <td>0.000004</td>\n",
       "      <td>0.266667</td>\n",
       "      <td>7.850124</td>\n",
       "      <td>3.512360e-06</td>\n",
       "      <td>1.317314</td>\n",
       "    </tr>\n",
       "    <tr>\n",
       "      <th>...</th>\n",
       "      <td>...</td>\n",
       "      <td>...</td>\n",
       "      <td>...</td>\n",
       "      <td>...</td>\n",
       "      <td>...</td>\n",
       "      <td>...</td>\n",
       "      <td>...</td>\n",
       "      <td>...</td>\n",
       "      <td>...</td>\n",
       "    </tr>\n",
       "    <tr>\n",
       "      <th>584458</th>\n",
       "      <td>[opioid use disorder, pain]</td>\n",
       "      <td>[drug use disorders]</td>\n",
       "      <td>0.000846</td>\n",
       "      <td>0.000482</td>\n",
       "      <td>0.000008</td>\n",
       "      <td>0.009661</td>\n",
       "      <td>20.064499</td>\n",
       "      <td>7.768507e-06</td>\n",
       "      <td>1.009269</td>\n",
       "    </tr>\n",
       "    <tr>\n",
       "      <th>584460</th>\n",
       "      <td>[opioid use disorder]</td>\n",
       "      <td>[pain, drug use disorders]</td>\n",
       "      <td>0.007207</td>\n",
       "      <td>0.000010</td>\n",
       "      <td>0.000008</td>\n",
       "      <td>0.001135</td>\n",
       "      <td>117.136956</td>\n",
       "      <td>8.106194e-06</td>\n",
       "      <td>1.001126</td>\n",
       "    </tr>\n",
       "    <tr>\n",
       "      <th>584462</th>\n",
       "      <td>[opioid use disorder, mental depression]</td>\n",
       "      <td>[drug use disorders]</td>\n",
       "      <td>0.000167</td>\n",
       "      <td>0.000482</td>\n",
       "      <td>0.000007</td>\n",
       "      <td>0.042137</td>\n",
       "      <td>87.511269</td>\n",
       "      <td>6.963440e-06</td>\n",
       "      <td>1.043488</td>\n",
       "    </tr>\n",
       "    <tr>\n",
       "      <th>584464</th>\n",
       "      <td>[opioid use disorder]</td>\n",
       "      <td>[mental depression, drug use disorders]</td>\n",
       "      <td>0.007207</td>\n",
       "      <td>0.000013</td>\n",
       "      <td>0.000007</td>\n",
       "      <td>0.000977</td>\n",
       "      <td>77.706854</td>\n",
       "      <td>6.953285e-06</td>\n",
       "      <td>1.000966</td>\n",
       "    </tr>\n",
       "    <tr>\n",
       "      <th>584467</th>\n",
       "      <td>[opioid use disorder]</td>\n",
       "      <td>[substance use disorders]</td>\n",
       "      <td>0.007207</td>\n",
       "      <td>0.000012</td>\n",
       "      <td>0.000007</td>\n",
       "      <td>0.000995</td>\n",
       "      <td>83.257344</td>\n",
       "      <td>7.083602e-06</td>\n",
       "      <td>1.000984</td>\n",
       "    </tr>\n",
       "  </tbody>\n",
       "</table>\n",
       "<p>770 rows × 9 columns</p>\n",
       "</div>"
      ],
      "text/plain": [
       "                                       dis1_UMLS  \\\n",
       "7890         [opioid use disorder, pain in limb]   \n",
       "7891            [opioid use disorder, back pain]   \n",
       "7893                       [opioid use disorder]   \n",
       "7896                 [opioid use disorder, pain]   \n",
       "7897         [opioid use disorder, pain in limb]   \n",
       "...                                          ...   \n",
       "584458               [opioid use disorder, pain]   \n",
       "584460                     [opioid use disorder]   \n",
       "584462  [opioid use disorder, mental depression]   \n",
       "584464                     [opioid use disorder]   \n",
       "584467                     [opioid use disorder]   \n",
       "\n",
       "                                      dis2_UMLS  antecedent support  \\\n",
       "7890                                [back pain]            0.000015   \n",
       "7891                             [pain in limb]            0.000137   \n",
       "7893                  [pain in limb, back pain]            0.007207   \n",
       "7896                             [pain in limb]            0.000846   \n",
       "7897                                     [pain]            0.000015   \n",
       "...                                         ...                 ...   \n",
       "584458                     [drug use disorders]            0.000846   \n",
       "584460               [pain, drug use disorders]            0.007207   \n",
       "584462                     [drug use disorders]            0.000167   \n",
       "584464  [mental depression, drug use disorders]            0.007207   \n",
       "584467                [substance use disorders]            0.007207   \n",
       "\n",
       "        consequent support   support  confidence        lift      leverage  \\\n",
       "7890              0.007651  0.000003    0.208333   27.230565  3.029132e-06   \n",
       "7891              0.002109  0.000003    0.022915   10.863780  2.855154e-06   \n",
       "7893              0.000320  0.000003    0.000436    1.363623  8.385401e-07   \n",
       "7896              0.002109  0.000004    0.004756    2.254913  2.240066e-06   \n",
       "7897              0.033970  0.000004    0.266667    7.850124  3.512360e-06   \n",
       "...                    ...       ...         ...         ...           ...   \n",
       "584458            0.000482  0.000008    0.009661   20.064499  7.768507e-06   \n",
       "584460            0.000010  0.000008    0.001135  117.136956  8.106194e-06   \n",
       "584462            0.000482  0.000007    0.042137   87.511269  6.963440e-06   \n",
       "584464            0.000013  0.000007    0.000977   77.706854  6.953285e-06   \n",
       "584467            0.000012  0.000007    0.000995   83.257344  7.083602e-06   \n",
       "\n",
       "        conviction  \n",
       "7890      1.253494  \n",
       "7891      1.021293  \n",
       "7893      1.000116  \n",
       "7896      1.002660  \n",
       "7897      1.317314  \n",
       "...            ...  \n",
       "584458    1.009269  \n",
       "584460    1.001126  \n",
       "584462    1.043488  \n",
       "584464    1.000966  \n",
       "584467    1.000984  \n",
       "\n",
       "[770 rows x 9 columns]"
      ]
     },
     "execution_count": 289,
     "metadata": {},
     "output_type": "execute_result"
    }
   ],
   "source": [
    "#y = x[x['dis1_UMLS'] == {'opioid use disorder'}]\n",
    "mask = x.dis1_UMLS.apply(lambda i: 'opioid use disorder' in i)\n",
    "od = x[mask]\n",
    "od"
   ]
  },
  {
   "cell_type": "code",
   "execution_count": 292,
   "metadata": {
    "ExecuteTime": {
     "end_time": "2021-03-30T08:17:29.466652Z",
     "start_time": "2021-03-30T08:17:29.458180Z"
    },
    "scrolled": false
   },
   "outputs": [
    {
     "data": {
      "text/plain": [
       "['mood disorders',\n",
       " 'epilepsy',\n",
       " 'drug use disorders',\n",
       " 'diabetic neuropathies',\n",
       " 'narcolepsy',\n",
       " 'thyroid diseases',\n",
       " 'panic attacks',\n",
       " 'benign prostatic hyperplasia',\n",
       " 'fever',\n",
       " 'substance withdrawal syndrome',\n",
       " 'spasm',\n",
       " 'traumatic and/or non-traumatic injury',\n",
       " 'erectile dysfunction',\n",
       " 'dependence',\n",
       " 'neuralgia',\n",
       " 'panic disorder',\n",
       " 'alcohol or other drugs use',\n",
       " 'hypersensitivity',\n",
       " 'nicotine dependence',\n",
       " 'cataplexy',\n",
       " 'asthma',\n",
       " 'ankle fracture',\n",
       " 'chronic obstructive airway disease',\n",
       " 'abdominal pain',\n",
       " 'intentional self-injury',\n",
       " 'pregnancy exposure',\n",
       " 'hepatitis c, chronic',\n",
       " 'agnosia for pain',\n",
       " 'heart diseases',\n",
       " 'anemia',\n",
       " 'psychotic disorders',\n",
       " 'obsessive-compulsive disorder',\n",
       " 'drug withdrawal syndrome',\n",
       " 'pelvic pain female',\n",
       " 'substance abuse problem',\n",
       " 'alcohol abuse',\n",
       " 'arthralgia',\n",
       " 'vomiting',\n",
       " 'degenerative polyarthritis',\n",
       " 'hypothyroidism',\n",
       " 'hiv infections',\n",
       " 'gastroesophageal reflux disease',\n",
       " 'restless legs syndrome',\n",
       " 'major depressive disorder',\n",
       " 'pain, procedural',\n",
       " 'toothache',\n",
       " 'hepatitis c',\n",
       " 'pain',\n",
       " 'agitation',\n",
       " 'hypertensive disease',\n",
       " 'coughing',\n",
       " 'edema',\n",
       " 'post-traumatic stress disorder',\n",
       " 'drug dependence',\n",
       " 'diabetes mellitus',\n",
       " 'intervertebral disc degeneration',\n",
       " 'herpesviridae infections',\n",
       " 'neck injuries',\n",
       " 'pneumonia',\n",
       " 'disk, herniated',\n",
       " 'drug abuse',\n",
       " 'mental disorders',\n",
       " 'fibromyalgia',\n",
       " 'drug overdose',\n",
       " 'pulmonary hypertension',\n",
       " 'mental depression',\n",
       " 'rheumatoid arthritis',\n",
       " 'seizures',\n",
       " 'personality disorders',\n",
       " 'pain in limb',\n",
       " 'generalized anxiety disorder',\n",
       " 'nausea',\n",
       " 'multiple sclerosis',\n",
       " 'back pain',\n",
       " 'limb injury',\n",
       " 'spinal diseases',\n",
       " 'constipation',\n",
       " 'bipolar disorder',\n",
       " 'schizophrenia',\n",
       " 'dyspepsia',\n",
       " 'back disorder',\n",
       " 'accident while engaged in work-related activity',\n",
       " 'toxic effect',\n",
       " 'arthritis',\n",
       " 'alcoholic intoxication, chronic',\n",
       " 'breakthrough pain',\n",
       " 'back injuries',\n",
       " 'headache',\n",
       " 'spinal fractures',\n",
       " 'opioid use disorder',\n",
       " 'cancer pain',\n",
       " 'athletic injuries',\n",
       " 'nerve injury',\n",
       " 'neck pain',\n",
       " 'anxiety disorders',\n",
       " 'myalgia',\n",
       " 'substance use disorders',\n",
       " 'complex regional pain syndromes',\n",
       " 'deep vein thrombosis',\n",
       " 'joint injury',\n",
       " 'osteoporosis',\n",
       " 'dyspnea',\n",
       " 'communicable diseases',\n",
       " 'sleep disorders',\n",
       " 'neuropathy',\n",
       " 'attention deficit hyperactivity disorder',\n",
       " 'gout',\n",
       " 'migraine disorders',\n",
       " 'sleeplessness',\n",
       " 'inflammation',\n",
       " 'polysubstance dependence']"
      ]
     },
     "execution_count": 292,
     "metadata": {},
     "output_type": "execute_result"
    }
   ],
   "source": [
    "z = []\n",
    "for i in od['dis2_UMLS']:\n",
    "    z = z + i\n",
    "\n",
    "for i in od['dis1_UMLS']:\n",
    "    z = z + i\n",
    "    \n",
    "z = list(set(z))\n",
    "\n",
    "z"
   ]
  },
  {
   "cell_type": "code",
   "execution_count": 293,
   "metadata": {
    "ExecuteTime": {
     "end_time": "2021-03-30T08:17:36.671145Z",
     "start_time": "2021-03-30T08:17:36.668619Z"
    }
   },
   "outputs": [
    {
     "data": {
      "text/plain": [
       "111"
      ]
     },
     "execution_count": 293,
     "metadata": {},
     "output_type": "execute_result"
    }
   ],
   "source": [
    "len(z)"
   ]
  },
  {
   "cell_type": "code",
   "execution_count": 236,
   "metadata": {
    "ExecuteTime": {
     "end_time": "2021-03-29T04:08:32.403589Z",
     "start_time": "2021-03-29T04:08:32.401518Z"
    },
    "scrolled": false
   },
   "outputs": [
    {
     "name": "stdout",
     "output_type": "stream",
     "text": [
      "We extracted 585362 rules in total.\n"
     ]
    }
   ],
   "source": [
    "print('We extracted ' + str(len(x)) + ' rules in total.')"
   ]
  },
  {
   "cell_type": "code",
   "execution_count": 237,
   "metadata": {
    "ExecuteTime": {
     "end_time": "2021-03-29T13:30:49.978661Z",
     "start_time": "2021-03-29T13:30:49.975748Z"
    }
   },
   "outputs": [
    {
     "data": {
      "text/plain": [
       "106"
      ]
     },
     "execution_count": 237,
     "metadata": {},
     "output_type": "execute_result"
    }
   ],
   "source": [
    "len(association_list)"
   ]
  },
  {
   "cell_type": "code",
   "execution_count": 156,
   "metadata": {
    "ExecuteTime": {
     "end_time": "2021-03-25T17:43:35.340841Z",
     "start_time": "2021-03-25T17:43:35.337346Z"
    }
   },
   "outputs": [
    {
     "data": {
      "text/plain": [
       "['back pain',\n",
       " 'pain in limb',\n",
       " 'pain',\n",
       " 'anxiety disorders',\n",
       " 'constipation',\n",
       " 'mental depression',\n",
       " 'gastroesophageal reflux disease',\n",
       " 'hypertensive disease',\n",
       " 'benign prostatic hyperplasia',\n",
       " 'sleeplessness',\n",
       " 'hepatitis c',\n",
       " 'hiv infections',\n",
       " 'migraine disorders',\n",
       " 'hypothyroidism',\n",
       " 'arthritis',\n",
       " 'attention deficit hyperactivity disorder',\n",
       " 'bipolar disorder',\n",
       " 'asthma',\n",
       " 'diabetes mellitus',\n",
       " 'epilepsy',\n",
       " 'schizophrenia',\n",
       " 'chronic obstructive airway disease',\n",
       " 'drug dependence',\n",
       " 'nausea',\n",
       " 'neuropathy',\n",
       " 'thyroid diseases',\n",
       " 'sleep disorders',\n",
       " 'headache',\n",
       " 'major depressive disorder',\n",
       " 'psychotic disorders',\n",
       " 'pneumonia',\n",
       " 'erectile dysfunction',\n",
       " 'neuralgia',\n",
       " 'fibromyalgia',\n",
       " 'seizures',\n",
       " 'dyspepsia',\n",
       " 'anemia',\n",
       " 'heart diseases',\n",
       " 'vomiting',\n",
       " 'deep vein thrombosis',\n",
       " 'spasm',\n",
       " 'arthralgia',\n",
       " 'edema',\n",
       " 'hepatitis c, chronic',\n",
       " 'abdominal pain',\n",
       " 'spinal fractures',\n",
       " 'restless legs syndrome',\n",
       " 'agitation',\n",
       " 'generalized anxiety disorder',\n",
       " 'post-traumatic stress disorder',\n",
       " 'myalgia',\n",
       " 'inflammation',\n",
       " 'coughing',\n",
       " 'cancer pain',\n",
       " 'degenerative polyarthritis',\n",
       " 'mental disorders',\n",
       " 'diabetic neuropathies',\n",
       " 'panic attacks',\n",
       " 'traumatic and/or non-traumatic injury',\n",
       " 'back injuries',\n",
       " 'joint injury',\n",
       " 'hypersensitivity',\n",
       " 'drug overdose',\n",
       " 'toothache',\n",
       " 'obsessive-compulsive disorder',\n",
       " 'personality disorders',\n",
       " 'communicable diseases',\n",
       " 'drug withdrawal syndrome',\n",
       " 'drug use disorders',\n",
       " 'dyspnea',\n",
       " 'cataplexy',\n",
       " 'narcolepsy',\n",
       " 'panic disorder',\n",
       " 'neck pain',\n",
       " 'mood disorders',\n",
       " 'alcoholic intoxication, chronic',\n",
       " 'herpesviridae infections',\n",
       " 'limb injury',\n",
       " 'dependence',\n",
       " 'polysubstance dependence',\n",
       " 'disk, herniated',\n",
       " 'spinal diseases',\n",
       " 'intervertebral disc degeneration',\n",
       " 'nicotine dependence',\n",
       " 'neck injuries',\n",
       " 'back disorder',\n",
       " 'intentional self-injury',\n",
       " 'ankle fracture',\n",
       " 'nerve injury',\n",
       " 'pelvic pain female',\n",
       " 'substance withdrawal syndrome',\n",
       " 'toxic effect',\n",
       " 'accident while engaged in work-related activity',\n",
       " 'athletic injuries',\n",
       " 'complex regional pain syndromes',\n",
       " 'pain, procedural',\n",
       " 'breakthrough pain',\n",
       " 'substance abuse problem',\n",
       " 'drug abuse',\n",
       " 'agnosia for pain',\n",
       " 'pulmonary hypertension',\n",
       " 'pregnancy exposure',\n",
       " 'alcohol abuse',\n",
       " 'alcohol or other drugs use',\n",
       " 'substance use disorders',\n",
       " 'opioid use disorder']"
      ]
     },
     "execution_count": 156,
     "metadata": {},
     "output_type": "execute_result"
    }
   ],
   "source": [
    "association_list"
   ]
  },
  {
   "cell_type": "code",
   "execution_count": 294,
   "metadata": {
    "ExecuteTime": {
     "end_time": "2021-03-30T08:18:12.555180Z",
     "start_time": "2021-03-30T08:18:12.550316Z"
    }
   },
   "outputs": [],
   "source": [
    "y = ['depression, psychotic', \n",
    "     'substance abuse problem', \n",
    "     'mental disorders', \n",
    "     'hepatitis c, chronic', \n",
    "     'drug use disorders', \n",
    "     'depression suicidal', \n",
    "     'mixed anxiety and depressive disorder', \n",
    "     'alcohol or other drugs use', 'schizophrenia', \n",
    "     'traumatic and/or non-traumatic injury', \n",
    "'hiv infections', \n",
    "     'attention deficit hyperactivity disorder',\n",
    " 'intentional self-injury', \n",
    "     'post-traumatic stress disorder', \n",
    "'pain', \n",
    "'substance withdrawal syndrome', \n",
    "     'mood disorders', \n",
    "'polysubstance dependence', \n",
    "'sleeplessness', \n",
    "     'generalized anxiety disorder', \n",
    "     'personality disorders',\n",
    " 'nicotine dependence', \n",
    "     'depression, bipolar',\n",
    " 'alcohol abuse', \n",
    "     'panic attacks', \n",
    "'chronic anxiety', \n",
    "'dependence',\n",
    "'sleep disorders',\n",
    " 'pain, procedural',\n",
    "'mental depression', \n",
    "'anxiety state', \n",
    "'breakthrough pain', \n",
    "'depression, postpartum',\n",
    " 'drug withdrawal syndrome', \n",
    "  'seizures', 'panic disorder',\n",
    "     'substance use disorders',\n",
    " 'anxiety',\n",
    " 'obsessive-compulsive disorder', \n",
    "'major depressive disorder',\n",
    " 'epilepsy', \n",
    "'agitation',  \n",
    "'drug abuse',\n",
    " 'chronic pain', \n",
    "     'chronic depression', \n",
    " 'anxiety disorders',\n",
    "'psychotic disorders', \n",
    "'hepatitis c', \n",
    "'depression, neurotic', \n",
    "     'bipolar disorder','social anxiety', \n",
    "    'complex regional pain syndromes',\n",
    " 'drug dependence']\n",
    "\n",
    "\n",
    "y = y + [\n",
    "\n",
    " 'pain',\n",
    " 'anxiety disorders',\n",
    " 'drug dependence',\n",
    "\n",
    " 'generalized anxiety disorder',\n",
    "\n",
    " 'mental disorders',\n",
    " 'panic attacks',\n",
    "\n",
    "\n",
    " 'drug overdose',\n",
    "\n",
    " 'sleep disorders',\n",
    " 'personality disorders',\n",
    " 'drug withdrawal syndrome',\n",
    " 'panic disorder',\n",
    "\n",
    "\n",
    " 'dependence',\n",
    " 'polysubstance dependence',\n",
    "\n",
    " 'nicotine dependence',\n",
    " \n",
    " 'intentional self-injury',\n",
    "\n",
    " 'substance withdrawal syndrome',\n",
    " 'toxic effect',\n",
    "\n",
    " 'complex regional pain syndromes',\n",
    " 'pain, procedural',\n",
    " 'breakthrough pain',\n",
    " 'substance abuse problem',\n",
    "\n",
    " 'drug abuse',\n",
    " 'alcohol abuse',\n",
    " 'alcohol or other drugs use',\n",
    " 'drug use disorders',\n",
    " 'substance use disorders']\n",
    "\n",
    "y = list(set(y))"
   ]
  },
  {
   "cell_type": "code",
   "execution_count": 295,
   "metadata": {
    "ExecuteTime": {
     "end_time": "2021-03-30T08:18:33.450982Z",
     "start_time": "2021-03-30T08:18:33.447864Z"
    }
   },
   "outputs": [
    {
     "data": {
      "text/plain": [
       "(43, 55)"
      ]
     },
     "execution_count": 295,
     "metadata": {},
     "output_type": "execute_result"
    }
   ],
   "source": [
    "er = []\n",
    "for i in z:\n",
    "    if i in y:\n",
    "        er.append(i)\n",
    "        \n",
    "len(er),len(set(y))"
   ]
  },
  {
   "cell_type": "code",
   "execution_count": 296,
   "metadata": {
    "ExecuteTime": {
     "end_time": "2021-03-30T08:18:36.426053Z",
     "start_time": "2021-03-30T08:18:36.423383Z"
    }
   },
   "outputs": [
    {
     "data": {
      "text/plain": [
       "(0.38738738738738737, 0.7818181818181819)"
      ]
     },
     "execution_count": 296,
     "metadata": {},
     "output_type": "execute_result"
    }
   ],
   "source": [
    "len(er)/len(z), len(er)/len(y)"
   ]
  },
  {
   "cell_type": "code",
   "execution_count": 297,
   "metadata": {
    "ExecuteTime": {
     "end_time": "2021-03-30T08:19:40.062309Z",
     "start_time": "2021-03-30T08:19:39.845677Z"
    }
   },
   "outputs": [],
   "source": [
    "x['dis'] = x['dis1_UMLS'] + x['dis2_UMLS']\n"
   ]
  },
  {
   "cell_type": "code",
   "execution_count": 299,
   "metadata": {
    "ExecuteTime": {
     "end_time": "2021-03-30T08:20:28.295556Z",
     "start_time": "2021-03-30T08:20:28.284879Z"
    }
   },
   "outputs": [],
   "source": [
    "x['dis1'] = x['dis']"
   ]
  },
  {
   "cell_type": "code",
   "execution_count": 303,
   "metadata": {
    "ExecuteTime": {
     "end_time": "2021-03-30T08:22:19.888144Z",
     "start_time": "2021-03-30T08:22:16.219405Z"
    }
   },
   "outputs": [],
   "source": [
    "disease_pair = x[['dis', 'dis1']]\n",
    "disease_pair = disease_pair.explode('dis').explode('dis1').drop_duplicates()"
   ]
  },
  {
   "cell_type": "code",
   "execution_count": 305,
   "metadata": {
    "ExecuteTime": {
     "end_time": "2021-03-30T08:23:01.049742Z",
     "start_time": "2021-03-30T08:23:01.042615Z"
    }
   },
   "outputs": [],
   "source": [
    "disease_pair = disease_pair[disease_pair['dis'] != disease_pair['dis1']]"
   ]
  },
  {
   "cell_type": "code",
   "execution_count": 310,
   "metadata": {
    "ExecuteTime": {
     "end_time": "2021-03-30T08:27:07.087634Z",
     "start_time": "2021-03-30T08:27:07.080490Z"
    }
   },
   "outputs": [
    {
     "data": {
      "text/html": [
       "<div>\n",
       "<style scoped>\n",
       "    .dataframe tbody tr th:only-of-type {\n",
       "        vertical-align: middle;\n",
       "    }\n",
       "\n",
       "    .dataframe tbody tr th {\n",
       "        vertical-align: top;\n",
       "    }\n",
       "\n",
       "    .dataframe thead th {\n",
       "        text-align: right;\n",
       "    }\n",
       "</style>\n",
       "<table border=\"1\" class=\"dataframe\">\n",
       "  <thead>\n",
       "    <tr style=\"text-align: right;\">\n",
       "      <th></th>\n",
       "      <th>dis1_UMLS</th>\n",
       "      <th>dis2_UMLS</th>\n",
       "    </tr>\n",
       "  </thead>\n",
       "  <tbody>\n",
       "    <tr>\n",
       "      <th>0</th>\n",
       "      <td>hypertensive disease</td>\n",
       "      <td>crohn disease</td>\n",
       "    </tr>\n",
       "    <tr>\n",
       "      <th>0</th>\n",
       "      <td>hypertensive disease</td>\n",
       "      <td>diabetes mellitus</td>\n",
       "    </tr>\n",
       "    <tr>\n",
       "      <th>0</th>\n",
       "      <td>crohn disease</td>\n",
       "      <td>hypertensive disease</td>\n",
       "    </tr>\n",
       "    <tr>\n",
       "      <th>0</th>\n",
       "      <td>crohn disease</td>\n",
       "      <td>diabetes mellitus</td>\n",
       "    </tr>\n",
       "    <tr>\n",
       "      <th>0</th>\n",
       "      <td>diabetes mellitus</td>\n",
       "      <td>hypertensive disease</td>\n",
       "    </tr>\n",
       "    <tr>\n",
       "      <th>...</th>\n",
       "      <td>...</td>\n",
       "      <td>...</td>\n",
       "    </tr>\n",
       "    <tr>\n",
       "      <th>585340</th>\n",
       "      <td>fever</td>\n",
       "      <td>covid-19</td>\n",
       "    </tr>\n",
       "    <tr>\n",
       "      <th>585350</th>\n",
       "      <td>covid-19</td>\n",
       "      <td>hypertensive disease</td>\n",
       "    </tr>\n",
       "    <tr>\n",
       "      <th>585350</th>\n",
       "      <td>hypertensive disease</td>\n",
       "      <td>covid-19</td>\n",
       "    </tr>\n",
       "    <tr>\n",
       "      <th>585356</th>\n",
       "      <td>covid-19</td>\n",
       "      <td>pain</td>\n",
       "    </tr>\n",
       "    <tr>\n",
       "      <th>585356</th>\n",
       "      <td>pain</td>\n",
       "      <td>covid-19</td>\n",
       "    </tr>\n",
       "  </tbody>\n",
       "</table>\n",
       "<p>64350 rows × 2 columns</p>\n",
       "</div>"
      ],
      "text/plain": [
       "                   dis1_UMLS             dis2_UMLS\n",
       "0       hypertensive disease         crohn disease\n",
       "0       hypertensive disease     diabetes mellitus\n",
       "0              crohn disease  hypertensive disease\n",
       "0              crohn disease     diabetes mellitus\n",
       "0          diabetes mellitus  hypertensive disease\n",
       "...                      ...                   ...\n",
       "585340                 fever              covid-19\n",
       "585350              covid-19  hypertensive disease\n",
       "585350  hypertensive disease              covid-19\n",
       "585356              covid-19                  pain\n",
       "585356                  pain              covid-19\n",
       "\n",
       "[64350 rows x 2 columns]"
      ]
     },
     "execution_count": 310,
     "metadata": {},
     "output_type": "execute_result"
    }
   ],
   "source": [
    "disease_pair.columns = ['dis1_UMLS','dis2_UMLS']\n",
    "disease_pair"
   ]
  },
  {
   "cell_type": "code",
   "execution_count": 328,
   "metadata": {
    "ExecuteTime": {
     "end_time": "2021-03-31T15:36:02.325081Z",
     "start_time": "2021-03-31T15:36:02.322360Z"
    }
   },
   "outputs": [
    {
     "data": {
      "text/plain": [
       "32175.0"
      ]
     },
     "execution_count": 328,
     "metadata": {},
     "output_type": "execute_result"
    }
   ],
   "source": [
    "64350/2"
   ]
  },
  {
   "cell_type": "code",
   "execution_count": 329,
   "metadata": {
    "ExecuteTime": {
     "end_time": "2021-03-31T15:36:45.399113Z",
     "start_time": "2021-03-31T15:36:45.392959Z"
    }
   },
   "outputs": [
    {
     "data": {
      "text/plain": [
       "1916"
      ]
     },
     "execution_count": 329,
     "metadata": {},
     "output_type": "execute_result"
    }
   ],
   "source": [
    "len(disease_pair['dis1_UMLS'].unique())"
   ]
  },
  {
   "cell_type": "code",
   "execution_count": 311,
   "metadata": {
    "ExecuteTime": {
     "end_time": "2021-03-30T08:27:19.679723Z",
     "start_time": "2021-03-30T08:27:19.603412Z"
    }
   },
   "outputs": [],
   "source": [
    "disease_pair.to_csv('disease_pair.csv', index = False)"
   ]
  },
  {
   "cell_type": "code",
   "execution_count": 312,
   "metadata": {
    "ExecuteTime": {
     "end_time": "2021-03-30T08:29:28.491662Z",
     "start_time": "2021-03-30T08:29:28.485549Z"
    }
   },
   "outputs": [],
   "source": [
    "rank = pd.read_csv('/home/qxw225/YihengWordCorrection/pyrwr/rank.csv')\n",
    "#rank = pd.read_csv('/home/qxw225/YihengWordCorrection/pyrwr/untitled.txt')\n",
    "di = list(rank['disease'].unique())"
   ]
  },
  {
   "cell_type": "code",
   "execution_count": 313,
   "metadata": {
    "ExecuteTime": {
     "end_time": "2021-03-30T08:29:31.263422Z",
     "start_time": "2021-03-30T08:29:30.631936Z"
    }
   },
   "outputs": [],
   "source": [
    "indi_pt = list(indi_mapping['preferred_name'].unique())"
   ]
  },
  {
   "cell_type": "code",
   "execution_count": 314,
   "metadata": {
    "ExecuteTime": {
     "end_time": "2021-03-30T08:29:41.850056Z",
     "start_time": "2021-03-30T08:29:41.713313Z"
    }
   },
   "outputs": [],
   "source": [
    "d = []\n",
    "for i in indi_pt:\n",
    "    if i not in di:\n",
    "        d.append(i)"
   ]
  },
  {
   "cell_type": "code",
   "execution_count": 315,
   "metadata": {
    "ExecuteTime": {
     "end_time": "2021-03-30T08:29:44.094584Z",
     "start_time": "2021-03-30T08:29:44.087674Z"
    }
   },
   "outputs": [],
   "source": [
    "d_column = len(d)*[0]\n",
    "ind = pd.DataFrame(list(zip(d, d_column)), \n",
    "               columns =['disease','score']) "
   ]
  },
  {
   "cell_type": "code",
   "execution_count": 316,
   "metadata": {
    "ExecuteTime": {
     "end_time": "2021-03-30T08:29:44.778649Z",
     "start_time": "2021-03-30T08:29:44.773910Z"
    }
   },
   "outputs": [],
   "source": [
    "score = pd.concat([ind,rank],axis = 0)\n",
    "score['truth'] = np.where(score['disease'].isin(y), 1, 0)"
   ]
  },
  {
   "cell_type": "code",
   "execution_count": 317,
   "metadata": {
    "ExecuteTime": {
     "end_time": "2021-03-30T08:29:46.014342Z",
     "start_time": "2021-03-30T08:29:46.011271Z"
    }
   },
   "outputs": [],
   "source": [
    "score = score.sort_values(by=['score'], ascending = False)"
   ]
  },
  {
   "cell_type": "code",
   "execution_count": 318,
   "metadata": {
    "ExecuteTime": {
     "end_time": "2021-03-30T08:29:47.818006Z",
     "start_time": "2021-03-30T08:29:47.813154Z"
    }
   },
   "outputs": [],
   "source": [
    "import numpy as np\n",
    "decile = np.array_split(score, 10)"
   ]
  },
  {
   "cell_type": "code",
   "execution_count": 319,
   "metadata": {
    "ExecuteTime": {
     "end_time": "2021-03-30T08:29:51.188645Z",
     "start_time": "2021-03-30T08:29:51.185014Z"
    }
   },
   "outputs": [
    {
     "data": {
      "text/plain": [
       "[[0, 0.1],\n",
       " [0.1, 0.2],\n",
       " [0.2, 0.3],\n",
       " [0.3, 0.4],\n",
       " [0.4, 0.5],\n",
       " [0.5, 0.6],\n",
       " [0.6, 0.7],\n",
       " [0.7, 0.8],\n",
       " [0.8, 0.9],\n",
       " [0.9, 1.0]]"
      ]
     },
     "execution_count": 319,
     "metadata": {},
     "output_type": "execute_result"
    }
   ],
   "source": [
    "parts = []\n",
    "marker = 0\n",
    "for i in range(10):\n",
    "    x = round(marker + 0.1, 1)\n",
    "    part = [marker, x]\n",
    "    marker=x\n",
    "    parts.append(part)\n",
    "parts"
   ]
  },
  {
   "cell_type": "code",
   "execution_count": 320,
   "metadata": {
    "ExecuteTime": {
     "end_time": "2021-03-30T08:29:52.287976Z",
     "start_time": "2021-03-30T08:29:52.273777Z"
    }
   },
   "outputs": [
    {
     "name": "stdout",
     "output_type": "stream",
     "text": [
      "0.1 43\n",
      "0.2 1\n",
      "0.3 1\n",
      "0.4 0\n",
      "0.5 0\n",
      "0.6 2\n",
      "0.7 5\n",
      "0.8 3\n",
      "0.9 0\n",
      "1.0 0\n"
     ]
    }
   ],
   "source": [
    "x = []\n",
    "y = []\n",
    "for i in range(10):\n",
    "    z = decile[i]\n",
    "    print(parts[i][1], len(z[z['truth'] == 1]))\n",
    "    x.append(str(parts[i][1]))\n",
    "    y.append(len(z[z['truth'] == 1]))"
   ]
  },
  {
   "cell_type": "code",
   "execution_count": 321,
   "metadata": {
    "ExecuteTime": {
     "end_time": "2021-03-30T08:29:56.588006Z",
     "start_time": "2021-03-30T08:29:56.585414Z"
    }
   },
   "outputs": [
    {
     "data": {
      "text/plain": [
       "(10, 10)"
      ]
     },
     "execution_count": 321,
     "metadata": {},
     "output_type": "execute_result"
    }
   ],
   "source": [
    "len(x),len(y)"
   ]
  },
  {
   "cell_type": "code",
   "execution_count": 322,
   "metadata": {
    "ExecuteTime": {
     "end_time": "2021-03-30T08:29:58.982254Z",
     "start_time": "2021-03-30T08:29:58.980314Z"
    }
   },
   "outputs": [],
   "source": [
    "x = ['0-10%','10%-20%','20%-30%','30%-40%','40%-50%','50%-60%','60%-70%','70%-80%','80%-90%','90-100%']"
   ]
  },
  {
   "cell_type": "code",
   "execution_count": 323,
   "metadata": {
    "ExecuteTime": {
     "end_time": "2021-03-30T08:30:00.110007Z",
     "start_time": "2021-03-30T08:29:59.986325Z"
    }
   },
   "outputs": [
    {
     "data": {
      "image/png": "[encoded data removed]",
      "text/plain": [
       "<Figure size 640x480 with 1 Axes>"
      ]
     },
     "metadata": {},
     "output_type": "display_data"
    }
   ],
   "source": [
    "#%matplotlib inline\n",
    "import matplotlib.pyplot as plt\n",
    "plt.style.use('default')\n",
    "plt.bar(x, y, color = 'blue', align='edge', width=0.5)\n",
    "#plt.set_xticks(x)\n",
    "#plt.bar(range(len(my_dict)), my_dict.values(), align='center')\n",
    "plt.xticks(\n",
    "    rotation=45, \n",
    "    horizontalalignment='right',\n",
    "    fontweight='light',\n",
    "    fontsize='x-large'  \n",
    ")\n",
    "for i in range(len(x)):\n",
    "    plt.annotate(y[i], xy = (i+0.15, y[i]+0.5))\n",
    "plt.show()"
   ]
  },
  {
   "cell_type": "code",
   "execution_count": 144,
   "metadata": {
    "ExecuteTime": {
     "end_time": "2021-03-07T14:46:19.681647Z",
     "start_time": "2021-03-07T14:46:19.666526Z"
    }
   },
   "outputs": [],
   "source": [
    "op_rules.to_csv('association_list.csv')"
   ]
  },
  {
   "cell_type": "code",
   "execution_count": 151,
   "metadata": {
    "ExecuteTime": {
     "end_time": "2021-03-20T14:46:47.560817Z",
     "start_time": "2021-03-20T14:46:47.482135Z"
    }
   },
   "outputs": [],
   "source": [
    "disease_rules.to_csv('disease_rules.csv', index = False)"
   ]
  },
  {
   "cell_type": "code",
   "execution_count": 153,
   "metadata": {
    "ExecuteTime": {
     "end_time": "2021-03-22T15:00:52.561328Z",
     "start_time": "2021-03-22T15:00:52.555022Z"
    }
   },
   "outputs": [
    {
     "data": {
      "text/plain": [
       "1916"
      ]
     },
     "execution_count": 153,
     "metadata": {},
     "output_type": "execute_result"
    }
   ],
   "source": [
    "len(disease_rules['dis1_UMLS'].unique())"
   ]
  },
  {
   "cell_type": "code",
   "execution_count": 154,
   "metadata": {
    "ExecuteTime": {
     "end_time": "2021-03-22T15:01:41.884761Z",
     "start_time": "2021-03-22T15:01:41.878510Z"
    }
   },
   "outputs": [
    {
     "data": {
      "text/html": [
       "<div>\n",
       "<style scoped>\n",
       "    .dataframe tbody tr th:only-of-type {\n",
       "        vertical-align: middle;\n",
       "    }\n",
       "\n",
       "    .dataframe tbody tr th {\n",
       "        vertical-align: top;\n",
       "    }\n",
       "\n",
       "    .dataframe thead th {\n",
       "        text-align: right;\n",
       "    }\n",
       "</style>\n",
       "<table border=\"1\" class=\"dataframe\">\n",
       "  <thead>\n",
       "    <tr style=\"text-align: right;\">\n",
       "      <th></th>\n",
       "      <th>dis1_UMLS</th>\n",
       "      <th>dis2_UMLS</th>\n",
       "    </tr>\n",
       "  </thead>\n",
       "  <tbody>\n",
       "    <tr>\n",
       "      <th>0</th>\n",
       "      <td>hypertensive disease</td>\n",
       "      <td>diabetes mellitus</td>\n",
       "    </tr>\n",
       "    <tr>\n",
       "      <th>0</th>\n",
       "      <td>crohn disease</td>\n",
       "      <td>diabetes mellitus</td>\n",
       "    </tr>\n",
       "    <tr>\n",
       "      <th>1</th>\n",
       "      <td>diabetes mellitus</td>\n",
       "      <td>hypertensive disease</td>\n",
       "    </tr>\n",
       "    <tr>\n",
       "      <th>1</th>\n",
       "      <td>crohn disease</td>\n",
       "      <td>hypertensive disease</td>\n",
       "    </tr>\n",
       "    <tr>\n",
       "      <th>2</th>\n",
       "      <td>hypertensive disease</td>\n",
       "      <td>crohn disease</td>\n",
       "    </tr>\n",
       "    <tr>\n",
       "      <th>...</th>\n",
       "      <td>...</td>\n",
       "      <td>...</td>\n",
       "    </tr>\n",
       "    <tr>\n",
       "      <th>585341</th>\n",
       "      <td>fever</td>\n",
       "      <td>covid-19</td>\n",
       "    </tr>\n",
       "    <tr>\n",
       "      <th>585351</th>\n",
       "      <td>covid-19</td>\n",
       "      <td>hypertensive disease</td>\n",
       "    </tr>\n",
       "    <tr>\n",
       "      <th>585352</th>\n",
       "      <td>hypertensive disease</td>\n",
       "      <td>covid-19</td>\n",
       "    </tr>\n",
       "    <tr>\n",
       "      <th>585357</th>\n",
       "      <td>covid-19</td>\n",
       "      <td>pain</td>\n",
       "    </tr>\n",
       "    <tr>\n",
       "      <th>585358</th>\n",
       "      <td>pain</td>\n",
       "      <td>covid-19</td>\n",
       "    </tr>\n",
       "  </tbody>\n",
       "</table>\n",
       "<p>64234 rows × 2 columns</p>\n",
       "</div>"
      ],
      "text/plain": [
       "                   dis1_UMLS             dis2_UMLS\n",
       "0       hypertensive disease     diabetes mellitus\n",
       "0              crohn disease     diabetes mellitus\n",
       "1          diabetes mellitus  hypertensive disease\n",
       "1              crohn disease  hypertensive disease\n",
       "2       hypertensive disease         crohn disease\n",
       "...                      ...                   ...\n",
       "585341                 fever              covid-19\n",
       "585351              covid-19  hypertensive disease\n",
       "585352  hypertensive disease              covid-19\n",
       "585357              covid-19                  pain\n",
       "585358                  pain              covid-19\n",
       "\n",
       "[64234 rows x 2 columns]"
      ]
     },
     "execution_count": 154,
     "metadata": {},
     "output_type": "execute_result"
    }
   ],
   "source": [
    "disease_rules"
   ]
  },
  {
   "cell_type": "code",
   "execution_count": null,
   "metadata": {
    "ExecuteTime": {
     "end_time": "2021-03-01T22:10:28.616635Z",
     "start_time": "2021-03-01T22:10:20.950378Z"
    }
   },
   "outputs": [],
   "source": [
    "rules.to_csv('DCN_Faers_2020.csv', index = False)"
   ]
  },
  {
   "cell_type": "markdown",
   "metadata": {},
   "source": [
    "### Network Visualization"
   ]
  },
  {
   "cell_type": "code",
   "execution_count": null,
   "metadata": {
    "ExecuteTime": {
     "end_time": "2021-03-02T20:42:12.876100Z",
     "start_time": "2021-03-02T20:42:11.266635Z"
    }
   },
   "outputs": [],
   "source": [
    "ty = indi_mapping[['preferred_name','sem_type']].drop_duplicates()\n",
    "op_ty = ty[ty['preferred_name'].isin(association_list)]\n",
    "network = network[['dis1_UMLS','dis2_UMLS']].drop_duplicates()\n",
    "net = pd.merge(network,op_ty, left_on = 'dis1_UMLS', right_on = 'preferred_name').iloc[:, [0,1,3]].rename(columns = {'sem_type':\"sem_type_1\"})\n",
    "net = pd.merge(net,op_ty, left_on = 'dis2_UMLS', right_on = 'preferred_name').iloc[:, [0,1,2,4]].rename(columns = {'sem_type':\"sem_type_2\"})\n",
    "net.to_csv('network.csv', index = False)\n",
    "net.to_csv('network.txt', index = False,sep=';')"
   ]
  },
  {
   "cell_type": "markdown",
   "metadata": {},
   "source": [
    "## Prevalence"
   ]
  },
  {
   "cell_type": "markdown",
   "metadata": {},
   "source": [
    "### Table one"
   ]
  },
  {
   "cell_type": "code",
   "execution_count": null,
   "metadata": {
    "ExecuteTime": {
     "end_time": "2021-02-08T04:52:55.435857Z",
     "start_time": "2021-02-08T03:45:40.583572Z"
    }
   },
   "outputs": [],
   "source": [
    "print('There are ' + str(len(demo_drug_indi_reac['primaryid'].unique())) + ' original patients')\n",
    "data_clean = demo_drug_indi_reac[demo_drug_indi_reac.age != 'nan']\n",
    "data_clean = data_clean[data_clean.age_cod != 'nan']\n",
    "data_clean = data_clean[data_clean.age != 'u']\n",
    "data_clean = data_clean[data_clean.age != 'few']\n",
    "print('Remove the missing age, There are ' + str(len(data_clean['primaryid'].unique())) + ' patients remaining')\n",
    "\n",
    "data_clean = data_clean[data_clean.sex != 'nan']\n",
    "# print('Remove the missing sex, There are ' + str(len(data_clean['primaryid'].unique())) + ' patients')\n",
    "\n",
    "data_clean['age'] = data_clean['age'].astype(float)\n",
    "\n",
    "#data_clean = data_clean.dropna(subset = ['indi_pt'])\n",
    "data_clean['age'] = data_clean.apply(set_age_unit, axis=1)\n",
    "data_clean['op'] = np.where(data_clean['primaryid'].isin(op_cohort), 1, 0)\n",
    "\n",
    "data_clean = data_clean[~data_clean['sex'].isin(['p','i','t'])]\n",
    "print('Remove the missing sex, There are ' + str(len(data_clean['primaryid'].unique())) + ' patients remaining')\n",
    "\n",
    "data_clean['female'] = np.where(data_clean['sex'] == 'f', 1, 0)\n",
    "data_clean = data_clean.drop(['sex'], axis=1)\n",
    "data_clean['age'] = data_clean['age'].astype(float)"
   ]
  },
  {
   "cell_type": "code",
   "execution_count": null,
   "metadata": {
    "ExecuteTime": {
     "end_time": "2021-02-08T04:53:46.819390Z",
     "start_time": "2021-02-08T04:52:55.437183Z"
    }
   },
   "outputs": [],
   "source": [
    "table_one = data_clean[['primaryid','female','op','age']].drop_duplicates()\n",
    "columns = ['age', 'female']\n",
    "categorical = ['female']\n",
    "groupby = 'op'\n",
    "nonnormal = ['age']\n",
    "display(TableOne(table_one, columns, categorical, groupby, nonnormal,\n",
    "                 labels = {'op' : 'opioid addiction'},\n",
    "                 pval=True, isnull=False, label_suffix=True))"
   ]
  },
  {
   "cell_type": "markdown",
   "metadata": {},
   "source": [
    "### Top ranking"
   ]
  },
  {
   "cell_type": "code",
   "execution_count": null,
   "metadata": {
    "ExecuteTime": {
     "end_time": "2021-03-02T22:34:35.486586Z",
     "start_time": "2021-03-02T22:34:32.278152Z"
    }
   },
   "outputs": [],
   "source": [
    "indi_mapping = indi_mapping.reset_index()\n",
    "indi_rank = indi_mapping[indi_mapping['primaryid'].isin(op_cohort)]\\\n",
    "[['primaryid','preferred_name']].drop_duplicates()\n",
    "\n",
    "indi_rank['preferred_name'].value_counts().rename_axis('comorbidity').\\\n",
    "reset_index(name='counts').to_csv('indi_rank.csv')\n",
    "\n",
    "len(indi_rank['preferred_name'].value_counts())"
   ]
  },
  {
   "cell_type": "code",
   "execution_count": null,
   "metadata": {
    "ExecuteTime": {
     "end_time": "2021-03-02T22:34:36.945886Z",
     "start_time": "2021-03-02T22:34:36.934652Z"
    },
    "scrolled": true
   },
   "outputs": [],
   "source": [
    "top_rank = indi_rank['preferred_name'].value_counts().rename_axis('comorbidity').reset_index(name='counts')\n",
    "top_rank"
   ]
  },
  {
   "cell_type": "code",
   "execution_count": null,
   "metadata": {
    "ExecuteTime": {
     "end_time": "2021-03-02T22:34:38.478223Z",
     "start_time": "2021-03-02T22:34:38.467012Z"
    }
   },
   "outputs": [],
   "source": [
    "list(top_rank['comorbidity'].unique())"
   ]
  },
  {
   "cell_type": "code",
   "execution_count": null,
   "metadata": {
    "ExecuteTime": {
     "end_time": "2021-02-17T21:53:42.655664Z",
     "start_time": "2021-02-17T21:53:42.647590Z"
    }
   },
   "outputs": [],
   "source": [
    "x = ['drug dependence',\n",
    " 'pain nos, ctcae',\n",
    " 'drug abuse',\n",
    " 'drug use disorders',\n",
    "\n",
    " 'mental depression',\n",
    " 'anxiety',\n",
    " 'back pain',\n",
    " 'substance abuse problem',\n",
    " 'insomnia, ctcae 3.0',\n",
    " 'hypertension, ctcae',\n",
    " 'dependence',\n",
    " 'sleep disorders',\n",
    " 'hepatitis c',\n",
    " 'nicotine dependence',\n",
    " 'drug withdrawal syndrome',\n",
    " 'neuralgia',\n",
    " 'fibromyalgia',\n",
    " 'nausea, ctcae 3.0',\n",
    " 'bipolar disorder',\n",
    " 'gastroesophageal reflux disease',\n",
    " 'migraine disorders',\n",
    " 'arthralgia',\n",
    " 'hiv infections',\n",
    " 'breakthrough pain',\n",
    " 'attention deficit hyperactivity disorder',\n",
    " 'diabetes mellitus',\n",
    " 'headache',\n",
    " 'misuse',\n",
    " 'schizophrenia',\n",
    " 'asthma',\n",
    " 'pain, procedural',\n",
    " 'abdominal pain',\n",
    " 'back injuries',\n",
    " 'hepatitis c, chronic',\n",
    " 'neuropathy',\n",
    " 'pain in limb',\n",
    " 'tobacco user',\n",
    " 'arthritis',\n",
    " 'constipation, ctcae',\n",
    " 'narcolepsy',\n",
    " 'epilepsy',\n",
    " 'spasm',\n",
    " 'alcohol abuse',\n",
    " 'neck pain, ctcae 3.0',\n",
    " 'alcohol or other drugs use',\n",
    " 'traumatic and/or non-traumatic injury',\n",
    " 'rheumatoid arthritis',\n",
    " 'chronic obstructive airway disease',\n",
    " 'alcoholic intoxication, chronic',\n",
    " 'cancer pain',\n",
    " 'abnormal',\n",
    " 'psychotic disorders',\n",
    " 'degenerative polyarthritis',\n",
    " 'multiple sclerosis',\n",
    " 'dyspepsia',\n",
    " 'vomiting, ctcae',\n",
    " 'mood disorders',\n",
    " 'panic attacks',\n",
    "\n",
    " 'decreasing',\n",
    " 'substance use disorders',\n",
    " 'major depressive disorder',\n",
    " 'anemia',\n",
    " 'anxiety disorders',\n",
    " 'seizure, ctcae 3.0',\n",
    " 'heart diseases',\n",
    " 'musculoskeletal pain',\n",
    " 'restless legs syndrome',\n",
    "\n",
    " 'osteoporosis',\n",
    " 'cataplexy',\n",
    " 'seizures',\n",
    " 'mental disorders',\n",
    " 'substance withdrawal syndrome',\n",
    " 'post-traumatic stress disorder',\n",
    "\n",
    " 'thyroid diseases',\n",
    " 'nerve injury',\n",
    " 'back disorder',\n",
    " 'drug overdose',\n",
    " 'suicide attempt',\n",
    " 'intervertebral disc degeneration',\n",
    "\n",
    " 'polysubstance dependence',\n",
    "\n",
    " 'myalgia',\n",
    " 'joint injury',\n",
    " 'diarrhea',\n",
    " 'blood pressure finding',\n",
    "\n",
    " 'panic disorder',\n",
    "\n",
    " \n",
    " 'stress',\n",
    " 'pneumonia',\n",
    " 'generalized anxiety disorder',\n",
    " 'sciatica',\n",
    " \n",
    " 'limb injury',\n",
    " 'erectile dysfunction, ctcae',\n",
    " 'dyspnea, ctcae',\n",
    " 'cough, ctcae',\n",
    "\n",
    " 'abdominal discomfort',\n",
    " 'toothache',\n",
    " 'pruritus, ctcae',\n",
    " 'pelvic pain',\n",
    " 'fever',\n",
    " 'pulmonary hypertension, ctcae',\n",
    " 'bipolar i disorder',\n",
    " 'inflammation',\n",
    " 'encounter due to hormone replacement therapy',\n",
    " 'stomach diseases',\n",
    " 'chest pain',\n",
    " 'body fluid retention',\n",
    " 'irritable bowel syndrome',\n",
    " 'athletic injuries',\n",
    " 'gastrointestinal diseases',\n",
    " 'obsessive-compulsive disorder',\n",
    " 'gout',\n",
    " 'gastric ulcer',\n",
    " 'arthritis, psoriatic',\n",
    " 'heart failure',\n",
    " 'intentional self-injury',\n",
    "\n",
    " 'drowsiness',\n",
    "\n",
    " 'complex regional pain syndromes',\n",
    " 'upper respiratory infections',\n",
    "\n",
    "\n",
    " 'trigeminal neuralgia',\n",
    "\n",
    " 'parkinson disease',\n",
    "\n",
    "\n",
    " 'bone pain, ctcae 3.0',\n",
    "\n",
    " 'spinal diseases',\n",
    "\n",
    " 'schizoaffective disorder',\n",
    "\n",
    " 'atrial fibrillation',\n",
    " 'ankle fracture',\n",
    "\n",
    " 'spinal fractures',\n",
    " 'neck injuries',\n",
    " 'personality disorders',\n",
    " 'aspiration pneumonia',\n",
    " 'multiple myeloma',\n",
    " 'nasal congestion (finding)',\n",
    "\n",
    " 'cluster headache',\n",
    "\n",
    " 'osteoarthritis, spine',\n",
    " 'discomfort',\n",
    " 'gastritis, ctcae',\n",
    "\n",
    "\n",
    " 'fatigue',\n",
    "\n",
    "\n",
    " 'tremor, ctcae 3.0',\n",
    "\n",
    " 'muscle spasticity',\n",
    " 'mood swings',\n",
    " 'angina pectoris',\n",
    " 'tobacco use disorder',\n",
    " 'eruptions',\n",
    " 'alcohol withdrawal syndrome',\n",
    "\n",
    " \n",
    " 'opiate addiction',\n",
    " 'dental abscess',\n",
    " 'abnormal behavior',\n",
    " 'arthropathy',\n",
    " 'bacterial infections',\n",
    " 'spinal cord injuries',\n",
    "\n",
    " 'borderline personality disorder',\n",
    "\n",
    " 'bone diseases',\n",
    " 'schizophreniform disorders',\n",
    "\n",
    "\n",
    " 'depressed mood',\n",
    " 'neural tube defects',\n",
    " 'facial pain',\n",
    "\n",
    "\n",
    " 'tendinitis',\n",
    "\n",
    " 'hallucinations',\n",
    "\n",
    "\n",
    " 'nervous system disorder',\n",
    " 'cardiovascular event',\n",
    "\n",
    " 'nervousness']\n",
    " "
   ]
  },
  {
   "cell_type": "code",
   "execution_count": null,
   "metadata": {
    "ExecuteTime": {
     "end_time": "2021-03-02T22:44:25.615362Z",
     "start_time": "2021-03-02T22:44:25.566399Z"
    }
   },
   "outputs": [],
   "source": [
    "y= ['drug dependence',\n",
    " 'pain',\n",
    " 'drug abuse',\n",
    " 'drug use disorders',\n",
    " 'anxiety disorders',\n",
    " 'mental depression',\n",
    " 'back pain',\n",
    " 'substance abuse problem',\n",
    " 'sleeplessness',\n",
    " 'hypertensive disease',\n",
    " 'dependence',\n",
    " 'sleep disorders',\n",
    " 'hepatitis c',\n",
    " 'nicotine dependence',\n",
    " 'drug withdrawal syndrome',\n",
    " 'neuralgia',\n",
    " 'fibromyalgia',\n",
    " 'nausea',\n",
    " 'bipolar disorder',\n",
    " 'gastroesophageal reflux disease',\n",
    " 'migraine disorders',\n",
    " 'arthralgia',\n",
    " 'hiv infections',\n",
    " 'breakthrough pain',\n",
    " 'attention deficit hyperactivity disorder',\n",
    "\n",
    " 'headache',\n",
    " 'schizophrenia',\n",
    " 'asthma',\n",
    " 'pain, procedural',\n",
    " 'abdominal pain',\n",
    " 'back injuries',\n",
    " 'hepatitis c, chronic',\n",
    " 'pain in limb',\n",
    " 'neuropathy',\n",
    " 'arthritis',\n",
    " 'constipation',\n",
    " 'narcolepsy',\n",
    " 'epilepsy',\n",
    " 'spasm',\n",
    " 'alcohol abuse',\n",
    " 'seizures',\n",
    " 'neck pain',\n",
    " 'alcohol or other drugs use',\n",
    " 'traumatic and/or non-traumatic injury',\n",
    " 'rheumatoid arthritis',\n",
    " 'hypothyroidism',\n",
    " 'chronic obstructive airway disease',\n",
    "\n",
    " 'cancer pain',\n",
    " 'psychotic disorders',\n",
    " 'degenerative polyarthritis',\n",
    "\n",
    " 'vomiting',\n",
    "\n",
    " 'dyspepsia',\n",
    " 'mood disorders',\n",
    " 'panic attacks',\n",
    "\n",
    " 'substance use disorders',\n",
    "\n",
    " 'major depressive disorder',\n",
    " 'heart diseases',\n",
    " 'restless legs syndrome',\n",
    " 'pregnancy exposure',\n",
    " \n",
    " 'osteoporosis',\n",
    " 'mental disorders',\n",
    " 'substance withdrawal syndrome',\n",
    " 'post-traumatic stress disorder',\n",
    "\n",
    " 'nerve injury',\n",
    " 'drug overdose',\n",
    " 'back disorder',\n",
    " 'suicide attempt',\n",
    " 'polysubstance dependence',\n",
    "\n",
    " 'communicable diseases',\n",
    "\n",
    " 'myalgia',\n",
    " 'joint injury',\n",
    " 'diarrhea',\n",
    " 'hyperlipidemia',\n",
    "\n",
    " 'panic disorder',\n",
    "\n",
    " 'generalized anxiety disorder',\n",
    " 'limb injury',\n",
    " 'sciatica',\n",
    "\n",
    " 'benign prostatic hyperplasia',\n",
    " 'erectile dysfunction',\n",
    "\n",
    " 'pelvic pain female',\n",
    " 'toothache',\n",
    "\n",
    " 'abdominal discomfort',\n",
    " 'pulmonary hypertension',\n",
    " 'bipolar i disorder',\n",
    "\n",
    " 'stomach diseases',\n",
    " 'chest pain',\n",
    "\n",
    " 'gastrointestinal diseases',\n",
    "\n",
    " 'idiopathic pulmonary arterial hypertension',\n",
    " 'obsessive-compulsive disorder',\n",
    " 'gout',\n",
    " 'arthritis, psoriatic',\n",
    " 'gastric ulcer',\n",
    "\n",
    " 'multiple allergies',\n",
    " 'heart failure',\n",
    " 'intentional self-injury',\n",
    " 'somnolence',\n",
    "\n",
    " 'complex regional pain syndromes',\n",
    " 'endometriosis',\n",
    "\n",
    " 'upper respiratory infections',\n",
    "\n",
    "\n",
    " 'trigeminal neuralgia',\n",
    " 'parkinson disease',\n",
    " 'bone pain',\n",
    "\n",
    " 'agnosia for pain',\n",
    " 'personality disorders',\n",
    "\n",
    " 'spinal fractures',\n",
    " 'ulcer',\n",
    "\n",
    " 'schizoaffective disorder',\n",
    " 'ankle fracture',\n",
    " 'neck injuries',\n",
    " 'cluster headache',\n",
    "\n",
    "\n",
    " 'fatigue',\n",
    " 'wheezing',\n",
    " 'tremor',\n",
    " 'thrombosis of blood vessel',\n",
    "\n",
    " \n",
    " 'angina pectoris',\n",
    " 'muscle spasticity',\n",
    " 'mood swings',\n",
    " 'abnormal behavior',\n",
    "\n",
    " 'spinal cord injuries',\n",
    " 'vertigo',\n",
    "\n",
    " 'opioid use disorder',\n",
    " 'dental abscess',\n",
    " 'alcohol withdrawal syndrome',\n",
    " 'depressed mood',\n",
    " 'neural tube defects',\n",
    " 'bronchospasm',\n",
    " 'neoplastic disease',\n",
    " 'spinal canal stenosis',\n",
    " 'schizophreniform disorders',\n",
    " 'carpal tunnel syndrome',\n",
    " 'rotator cuff syndrome',\n",
    " 'bone diseases',\n",
    "\n",
    " 'tendinitis',\n",
    "\n",
    " 'craniocerebral trauma',\n",
    " 'facial pain',\n",
    " 'borderline personality disorder',\n",
    "\n",
    " 'nervousness',\n",
    "\n",
    " 'tension',\n",
    " 'acquired immunodeficiency syndrome',\n",
    "\n",
    " 'phobia, social',\n",
    " \n",
    " 'paranoia',\n",
    " 'postherpetic neuralgia',\n",
    "\n",
    " 'initial insomnia',\n",
    "\n",
    " 'anemia, sickle cell',\n",
    " 'rectal pain']"
   ]
  },
  {
   "cell_type": "code",
   "execution_count": null,
   "metadata": {
    "ExecuteTime": {
     "end_time": "2021-03-02T22:46:58.735512Z",
     "start_time": "2021-03-02T22:46:58.732490Z"
    }
   },
   "outputs": [],
   "source": [
    "len(y)"
   ]
  },
  {
   "cell_type": "code",
   "execution_count": null,
   "metadata": {
    "ExecuteTime": {
     "end_time": "2021-03-02T22:46:36.987398Z",
     "start_time": "2021-03-02T22:46:35.634325Z"
    }
   },
   "outputs": [],
   "source": [
    "len(indi_mapping[indi_mapping['sem_type'] == '[dsyn]']['preferred_name'].unique())"
   ]
  },
  {
   "cell_type": "code",
   "execution_count": null,
   "metadata": {
    "ExecuteTime": {
     "end_time": "2021-03-02T22:45:31.954783Z",
     "start_time": "2021-03-02T22:45:31.329812Z"
    }
   },
   "outputs": [],
   "source": [
    "len(indi_mapping['preferred_name'].unique())"
   ]
  },
  {
   "cell_type": "markdown",
   "metadata": {},
   "source": [
    "### Multivariant Logistic Regression"
   ]
  },
  {
   "cell_type": "code",
   "execution_count": null,
   "metadata": {
    "ExecuteTime": {
     "end_time": "2021-01-19T02:40:22.792608Z",
     "start_time": "2021-01-19T02:14:12.200948Z"
    },
    "scrolled": true
   },
   "outputs": [],
   "source": [
    "DF = pd.DataFrame()\n",
    "comorbidity = []\n",
    "demo_indi_lr = demo_indi[['primaryid','female','op','age','indi_pt']].drop_duplicates()\n",
    "for disease in list(top_rank['comorbidity']):\n",
    "    if disease == 'opiate addiction':\n",
    "        continue\n",
    "    print('======================' + disease + '=======================')\n",
    "    p = table(disease)\n",
    "    if not isinstance(p, type(None)):\n",
    "        DF = DF.append(p,ignore_index=True)\n",
    "        comorbidity.append(disease)\n",
    "        DF.index = comorbidity\n",
    "DF"
   ]
  },
  {
   "cell_type": "markdown",
   "metadata": {},
   "source": [
    "### MLR on HYPO"
   ]
  },
  {
   "cell_type": "code",
   "execution_count": null,
   "metadata": {
    "ExecuteTime": {
     "end_time": "2021-02-03T02:48:09.591800Z",
     "start_time": "2021-02-03T02:38:49.863979Z"
    },
    "scrolled": true
   },
   "outputs": [],
   "source": [
    "sud = list(data_clean[data_clean['reac_pt'].str.contains('addiction',na=False)]['reac_pt'].unique())\n",
    "sud = sud + list(data_clean[data_clean['indi_pt'].str.contains('addiction',na=False)]['indi_pt'].unique())\n",
    "\n",
    "sud = sud + list(data_clean[data_clean['reac_pt'].str.contains('abuse',na=False)]['reac_pt'].unique())\n",
    "sud = sud + list(data_clean[data_clean['indi_pt'].str.contains('abuse',na=False)]['indi_pt'].unique())\n",
    "\n",
    "sud = sud + list(data_clean[data_clean['reac_pt'].str.contains('dependence',na=False)]['reac_pt'].unique())\n",
    "sud = sud + list(data_clean[data_clean['indi_pt'].str.contains('dependence',na=False)]['indi_pt'].unique())\n",
    "\n",
    "sud = sud + list(data_clean[data_clean['reac_pt'].str.contains('use disorder',na=False)]['reac_pt'].unique())\n",
    "sud = sud + list(data_clean[data_clean['indi_pt'].str.contains('use disorder',na=False)]['indi_pt'].unique())\n",
    "\n",
    "sud"
   ]
  },
  {
   "cell_type": "code",
   "execution_count": null,
   "metadata": {
    "ExecuteTime": {
     "end_time": "2021-02-08T20:09:59.490216Z",
     "start_time": "2021-02-08T20:00:02.494546Z"
    },
    "scrolled": false
   },
   "outputs": [],
   "source": [
    "demo_indi_hypo = data_clean[['primaryid','female','op','age','gn','indi_pt','sem_type','reac_pt']].drop_duplicates()\n",
    "\n",
    "#demo_indi_hypo = demo_indi_hypo[demo_indi_hypo['primaryid'].isin(n)]\n",
    "\n",
    "demo_indi_hypo['indi_pt'] = demo_indi_hypo['indi_pt'].fillna(0)\n",
    "demo_indi_hypo['gn'] = demo_indi_hypo['gn'].fillna(0)\n",
    "demo_indi_hypo['reac_pt'] = demo_indi_hypo['reac_pt'].fillna(0)\n",
    "\n",
    "# pain-related\n",
    "# pain = list(demo_indi_hypo[demo_indi_hypo['indi_pt'].str.contains('pain',na=False)]['indi_pt'].unique())\n",
    "demo_indi_hypo['pain'] = np.where(demo_indi_hypo['indi_pt'].str.contains( 'pain exacerbated',na=False)|\\\n",
    "                                  demo_indi_hypo['reac_pt'].str.contains( 'pain exacerbated',na=False), 1, 0)\n",
    "\n",
    "# mental\n",
    "demo_indi_hypo['mental'] = np.where(demo_indi_hypo['sem_type'] == '[mobd]', 1, 0)\n",
    "#men = ['mental depression', 'anxiety']\n",
    "#demo_indi_hypo['mental'] = np.where(demo_indi_hypo['indi_pt'].isin(men), 1, 0)\n",
    "\n",
    "# autoimmune disease\n",
    "immu = ['autoimmune thyroid disease','autoimmune thyroiditis']\n",
    "demo_indi_hypo['immu'] = np.where(demo_indi_hypo['indi_pt'].isin(immu), 1, 0)\n",
    "\n",
    "#radialogy therapy\n",
    "#radi = list(demo_indi_hypo[demo_indi_hypo['indi_pt'].str.contains('radiation')]['indi_pt'].unique())\n",
    "demo_indi_hypo['radi'] = np.where(demo_indi_hypo['indi_pt'].str.contains('radiation',na=False), 1, 0)\n",
    "\n",
    "#iodine intake\n",
    "#iodine = list(demo_indi_hypo[demo_indi_hypo['gn'].str.contains('iodine')]['gn'].unique())\n",
    "demo_indi_hypo['iodine'] = np.where(demo_indi_hypo['gn'].str.contains('iodine',na=False), 1, 0)\n",
    "\n",
    "# hypertension\n",
    "demo_indi_hypo['ht'] = np.where(demo_indi_hypo['indi_pt'].str.contains('hypertension',na=False), 1, 0)\n",
    "\n",
    "# SUD\n",
    "sud = ['alcohol or other drugs use',\n",
    "       \n",
    "       'drug dependence', 'dependence', 'nicotine dependence',\n",
    "       'polysubstance dependence', \n",
    "       'substance dependence', 'oxygen dependence',\n",
    "      \n",
    "      'opiate addiction',\n",
    "       \n",
    "      'drug dependence', 'nicotine dependence', 'dependence',\n",
    "       'polysubstance dependence', 'drug dependence, antepartum',\n",
    "       'substance dependence', 'device dependence', 'steroid dependence',\n",
    "       \n",
    "       'polysubstance abuse', \n",
    "       'substance abuse problem', 'abuse of laxatives',\n",
    "       'drug abuse', 'alcohol abuse',\n",
    "       \n",
    "       'polysubstance abuse', 'drug abuser', 'tobacco abuse', \n",
    "       'neonatal complications of substance abuse', 'laxative abuse',\n",
    "       'chemical abuser',  'substance abuse', 'drug abuse', 'alcohol abuse', 'substance abuser',\n",
    "       'ex-drug abuser', 'antabuse implant' ]\n",
    "\n",
    "sud1 = ['drug dependence']\n",
    "demo_indi_hypo['sud'] = np.where((demo_indi_hypo['indi_pt'].isin(sud))|\\\n",
    "(demo_indi_hypo['reac_pt'].isin(sud)), 1, 0)\n",
    "\n",
    "#demo_indi_hypo = demo_indi_hypo[['primaryid', 'female', 'op', 'age', 'indi_pt','pain','mental', 'immu', 'radi','sud','iodine','ht']]\n",
    "\n",
    "# throid surgery\n",
    "demo_indi_hypo"
   ]
  },
  {
   "cell_type": "code",
   "execution_count": null,
   "metadata": {
    "ExecuteTime": {
     "end_time": "2021-02-08T17:59:14.648038Z",
     "start_time": "2021-02-08T17:57:56.860813Z"
    }
   },
   "outputs": [],
   "source": [
    "demo_indi_hypo[demo_indi_hypo['indi_pt'].str.contains('radiation',na=False)]['indi_pt'].unique()"
   ]
  },
  {
   "cell_type": "code",
   "execution_count": null,
   "metadata": {
    "ExecuteTime": {
     "end_time": "2021-02-08T19:56:15.206839Z",
     "start_time": "2021-02-08T19:55:06.770270Z"
    }
   },
   "outputs": [],
   "source": [
    "data_clean[data_clean['reac_pt'].str.contains('hypothyroidism',na=False)]['reac_pt'].unique()"
   ]
  },
  {
   "cell_type": "code",
   "execution_count": null,
   "metadata": {
    "ExecuteTime": {
     "end_time": "2021-02-08T21:21:04.952231Z",
     "start_time": "2021-02-08T21:21:04.938052Z"
    }
   },
   "outputs": [],
   "source": [
    "demo_indi_disease"
   ]
  },
  {
   "cell_type": "code",
   "execution_count": null,
   "metadata": {
    "ExecuteTime": {
     "end_time": "2021-02-08T21:31:56.174509Z",
     "start_time": "2021-02-08T21:22:04.851872Z"
    }
   },
   "outputs": [],
   "source": [
    "demo_indi_disease = demo_indi_hypo.drop_duplicates().copy(deep=True)\\\n",
    "[['primaryid', 'female', 'op', 'age', 'indi_pt','pain','mental','reac_pt',\n",
    "       'immu', 'radi','sud','iodine']]\n",
    "\n",
    "#disease = 'hypothyroidism'\n",
    "demo_indi_disease['hypothyroidism'] = \\\n",
    "np.where(demo_indi_disease['indi_pt'].str.contains('hypothyroidism',na=False)|\\\n",
    "         demo_indi_disease['reac_pt'].str.contains('hypothyroidism',na=False), 1, 0)\n",
    "demo_indi_disease = demo_indi_disease.drop(['indi_pt','reac_pt'], axis = 1)\n",
    "demo_indi_disease = demo_indi_disease.groupby(['primaryid']).max()\n",
    "pvalue = run_glm(demo_indi_disease)"
   ]
  },
  {
   "cell_type": "code",
   "execution_count": null,
   "metadata": {
    "ExecuteTime": {
     "end_time": "2021-02-03T18:40:17.484369Z",
     "start_time": "2021-02-03T18:36:17.082523Z"
    },
    "scrolled": false
   },
   "outputs": [],
   "source": [
    "demo_indi_disease = demo_indi_hypo[['primaryid', 'female', 'op', 'age', 'indi_pt','radi',\n",
    "       'mental', 'immu', 'iodine','sud']]\\\n",
    ".drop_duplicates().copy(deep=True)\n",
    "disease = 'hypothyroidism'\n",
    "demo_indi_disease[disease] = np.where(demo_indi_disease['indi_pt']==disease, 1, 0)\n",
    "demo_indi_disease = demo_indi_disease.drop(['indi_pt'], axis = 1)\n",
    "demo_indi_disease = demo_indi_disease.groupby(['primaryid']).max()\n",
    "pvalue = run_glm(demo_indi_disease)"
   ]
  },
  {
   "cell_type": "markdown",
   "metadata": {},
   "source": [
    "### MLR on Diabetes"
   ]
  },
  {
   "cell_type": "code",
   "execution_count": null,
   "metadata": {
    "ExecuteTime": {
     "end_time": "2021-02-03T18:50:02.116909Z",
     "start_time": "2021-02-03T18:40:17.486008Z"
    }
   },
   "outputs": [],
   "source": [
    "demo_indi_diab = data_clean[['primaryid','female','op','age','gn','indi_pt','sem_type','reac_pt']].drop_duplicates()\n",
    "\n",
    "# pain-related\n",
    "#pain = list(demo_indi[demo_indi['indi_pt'].str.contains('pain')]['indi_pt'].unique())\n",
    "demo_indi_diab['pain'] = np.where(demo_indi_diab['indi_pt'].str.contains( 'pain exacerbated',na=False)|\\\n",
    "                                  demo_indi_diab['reac_pt'].str.contains( 'pain exacerbated',na=False), 1, 0)\n",
    "# mental\n",
    "demo_indi_diab['mental'] = np.where(demo_indi_diab['sem_type'] == '[mobd]', 1, 0)\n",
    "\n",
    "#obesity\n",
    "demo_indi_diab['ob'] = np.where(demo_indi_diab['indi_pt'].str.contains('obesity',na = False), 1, 0)\n",
    "\n",
    "# smoker\n",
    "demo_indi_diab['smoke'] = np.where((demo_indi_diab['gn'] == 'nicotine')|\\\n",
    "(demo_indi_diab['indi_pt'].str.contains('nicotine',na = False))|\\\n",
    "(demo_indi_diab['indi_pt'].str.contains('tobacco',na = False)), 1, 0)\n",
    "\n",
    "# lack of exercise\n",
    "demo_indi_diab['ex'] = np.where(demo_indi_diab['indi_pt'].str.contains('lack of exercise finding',na = False), 1, 0)\n",
    "\n",
    "# SUD\n",
    "sud = ['alcohol or other drugs use',\n",
    "       \n",
    "       'drug dependence', 'dependence', 'nicotine dependence',\n",
    "       'polysubstance dependence', \n",
    "       'substance dependence', 'oxygen dependence',\n",
    "      \n",
    "      'opiate addiction',\n",
    "       \n",
    "      'drug dependence', 'nicotine dependence', 'dependence',\n",
    "       'polysubstance dependence', 'drug dependence, antepartum',\n",
    "       'substance dependence', 'device dependence', 'steroid dependence',\n",
    "       \n",
    "       'polysubstance abuse', \n",
    "       'substance abuse problem', 'abuse of laxatives',\n",
    "       'drug abuse', 'alcohol abuse',\n",
    "       \n",
    "       'polysubstance abuse', 'drug abuser', 'tobacco abuse', \n",
    "       'neonatal complications of substance abuse', 'laxative abuse',\n",
    "       'chemical abuser',  'substance abuse', 'drug abuse', 'alcohol abuse', 'substance abuser',\n",
    "       'ex-drug abuser', 'antabuse implant' ]\n",
    "\n",
    "demo_indi_diab['sud'] = np.where((demo_indi_diab['indi_pt'].isin(sud))|\\\n",
    "(demo_indi_diab['reac_pt'].isin(sud)), 1, 0)\n"
   ]
  },
  {
   "cell_type": "code",
   "execution_count": null,
   "metadata": {
    "ExecuteTime": {
     "end_time": "2021-02-03T19:05:25.075489Z",
     "start_time": "2021-02-03T19:04:21.249278Z"
    }
   },
   "outputs": [],
   "source": [
    "demo_indi_disease = demo_indi_diab\\\n",
    "[['primaryid','female','op','age','pain','indi_pt','ob','smoke','ex','sud']] \\\n",
    ".drop_duplicates().copy(deep=True)\n",
    "disease = 'diabetes mellitus'\n",
    "demo_indi_disease[disease] = np.where(demo_indi_disease['indi_pt']==disease, 1, 0)\n",
    "demo_indi_disease = demo_indi_disease.drop(['indi_pt'], axis = 1)\n",
    "demo_indi_disease = demo_indi_disease.groupby(['primaryid']).max()\n",
    "pvalue = run_glm(demo_indi_disease)"
   ]
  },
  {
   "cell_type": "markdown",
   "metadata": {},
   "source": [
    "### MLR on HYPER"
   ]
  },
  {
   "cell_type": "code",
   "execution_count": null,
   "metadata": {
    "ExecuteTime": {
     "end_time": "2021-02-03T02:57:32.279230Z",
     "start_time": "2021-02-03T02:48:09.593421Z"
    }
   },
   "outputs": [],
   "source": [
    "demo_indi_hyper = data_clean[['primaryid','female','op','age','indi_pt','sem_type','gn','reac_pt']].drop_duplicates()\n",
    "\n",
    "# mental\n",
    "demo_indi_hyper['mental'] = np.where(demo_indi_hyper['sem_type'] == '[mobd]', 1, 0)\n",
    "\n",
    "# smoker\n",
    "demo_indi_hyper['smoke'] = np.where((demo_indi_hyper['gn'] == 'nicotine')|\\\n",
    "(demo_indi_hyper['indi_pt'].str.contains('nicotine', na = False))|\\\n",
    "(demo_indi_hyper['indi_pt'].str.contains('tobacco', na = False)), 1, 0)\n",
    "\n",
    "# sud\n",
    "demo_indi_hyper['sud'] = np.where((demo_indi_hyper['indi_pt'].isin(sud))|\\\n",
    "(demo_indi_hyper['reac_pt'].isin(sud)), 1, 0)\n",
    "\n",
    "# pain-related\n",
    "# pain = list(demo_indi_hypo[demo_indi_hypo['indi_pt'].str.contains('pain',na=False)]['indi_pt'].unique())\n",
    "demo_indi_hyper['pain'] = np.where(demo_indi_hyper['indi_pt'].str.contains('pain',na=False), 1, 0)\n",
    "\n",
    "\n",
    "# autoimmune disease\n",
    "# immu = list(demo_indi_hypo[demo_indi_hypo['indi_pt'].str.contains('autoimmune disease')]['indi_pt'].unique())\n",
    "demo_indi_hyper['immu'] = np.where(demo_indi_hyper['indi_pt'].str.contains('autoimmune disease',na=False), 1, 0)\n",
    "\n",
    "#iodine intake\n",
    "#iodine = list(demo_indi_hypo[demo_indi_hypo['gn'].str.contains('iodine')]['gn'].unique())\n",
    "demo_indi_hyper['iodine'] = np.where(demo_indi_hyper['gn'].str.contains('iodine',na=False), 1, 0)\n",
    "\n",
    "\n",
    "demo_indi_hyper = demo_indi_hyper[['primaryid', 'female', 'op', 'age', 'indi_pt','pain',\n",
    "       'mental', 'immu', 'iodine','sud']]"
   ]
  },
  {
   "cell_type": "code",
   "execution_count": null,
   "metadata": {
    "ExecuteTime": {
     "end_time": "2021-02-03T03:01:49.125788Z",
     "start_time": "2021-02-03T02:57:32.280676Z"
    }
   },
   "outputs": [],
   "source": [
    "demo_indi_disease = demo_indi_hyper.copy(deep=True)\n",
    "disease = 'hyperthyroidism'\n",
    "demo_indi_disease[disease] = np.where(demo_indi_disease['indi_pt']==disease, 1, 0)\n",
    "demo_indi_disease = demo_indi_disease.drop(['indi_pt'], axis = 1)\n",
    "demo_indi_disease = demo_indi_disease.groupby(['primaryid']).max()\n",
    "pvalue = run_glm(demo_indi_disease)"
   ]
  },
  {
   "cell_type": "markdown",
   "metadata": {},
   "source": [
    "# Subgroup patient by gender "
   ]
  },
  {
   "cell_type": "code",
   "execution_count": null,
   "metadata": {
    "ExecuteTime": {
     "end_time": "2020-12-07T16:08:11.386202Z",
     "start_time": "2020-12-07T16:08:11.380906Z"
    }
   },
   "outputs": [],
   "source": [
    "def subset_df(df, groupby, subset):\n",
    "# subset female\n",
    "    demo_indi_female = df[df[groupby] == subset]\n",
    "    op_female = list(demo_indi_female[demo_indi_female['primaryid'].isin(op_cohort)]['primaryid'].unique())\n",
    "\n",
    "    # build new indication record\n",
    "    op_column = len(op_female)*['opiate addiction']\n",
    "    op_indication = pd.DataFrame(list(zip(op_female, op_column)), \n",
    "                   columns =['primaryid', 'indi_pt']) \n",
    "\n",
    "    # keep useful columns\n",
    "    demo_indi_female = demo_indi_female[['primaryid','indi_pt']]\n",
    "    demo_indi_female = pd.concat([demo_indi_female, op_indication]).drop_duplicates()\n",
    "\n",
    "    print(groupby + ' ' + subset + ' ' + str(len(op_female)))\n",
    "    \n",
    "    return demo_indi_female"
   ]
  },
  {
   "cell_type": "code",
   "execution_count": null,
   "metadata": {
    "ExecuteTime": {
     "end_time": "2020-12-07T16:08:22.319142Z",
     "start_time": "2020-12-07T16:08:12.170214Z"
    }
   },
   "outputs": [],
   "source": [
    "demo_drug_reac_indi_sex = demo_drug_reac_indi[demo_drug_reac_indi.sex != 'nan']\n",
    "demo_drug_reac_indi_sex = demo_drug_reac_indi_sex.dropna(subset = ['indi_pt'])\n",
    "demo_indi_female = subset_df(demo_drug_reac_indi_sex,'sex','f')\n",
    "demo_indi_male = subset_df(demo_drug_reac_indi_sex,'sex','m')"
   ]
  },
  {
   "cell_type": "markdown",
   "metadata": {},
   "source": [
    "## Female Patient"
   ]
  },
  {
   "cell_type": "code",
   "execution_count": null,
   "metadata": {
    "ExecuteTime": {
     "end_time": "2020-12-07T16:11:40.282982Z",
     "start_time": "2020-12-07T16:08:22.320611Z"
    }
   },
   "outputs": [],
   "source": [
    "op_association(demo_indi_female).to_csv('female_op.csv')"
   ]
  },
  {
   "cell_type": "code",
   "execution_count": null,
   "metadata": {
    "ExecuteTime": {
     "end_time": "2021-01-10T15:38:47.636720Z",
     "start_time": "2021-01-10T15:32:20.468597Z"
    }
   },
   "outputs": [],
   "source": [
    "disease_rules = association(demo_indi_female)\n",
    "op_rules = op_association(demo_indi_female)"
   ]
  },
  {
   "cell_type": "code",
   "execution_count": null,
   "metadata": {
    "ExecuteTime": {
     "end_time": "2021-01-10T15:41:12.013643Z",
     "start_time": "2021-01-10T15:41:11.911063Z"
    }
   },
   "outputs": [],
   "source": [
    "association_list = list(op_rules['dis2_UMLS'])\n",
    "association_list.append('opiate addiction')\n",
    "network = disease_rules[(disease_rules['dis1_UMLS'].isin(association_list))&(disease_rules['dis2_UMLS'].isin(association_list))]\n",
    "\n",
    "net = network.iloc[:,[0,1]].drop_duplicates()\n",
    "\n",
    "net.to_csv('op-subgroup-network/network_female.txt', index = False,sep=';')"
   ]
  },
  {
   "cell_type": "markdown",
   "metadata": {},
   "source": [
    "## Male Patient"
   ]
  },
  {
   "cell_type": "code",
   "execution_count": null,
   "metadata": {
    "ExecuteTime": {
     "end_time": "2020-12-07T16:13:50.345129Z",
     "start_time": "2020-12-07T16:11:40.285184Z"
    }
   },
   "outputs": [],
   "source": [
    "op_association(demo_indi_male).to_csv('male_op.csv')"
   ]
  },
  {
   "cell_type": "code",
   "execution_count": null,
   "metadata": {
    "ExecuteTime": {
     "end_time": "2021-01-10T15:49:00.725391Z",
     "start_time": "2021-01-10T15:44:49.149710Z"
    }
   },
   "outputs": [],
   "source": [
    "disease_rules = association(demo_indi_male)\n",
    "op_rules = op_association(demo_indi_male)"
   ]
  },
  {
   "cell_type": "code",
   "execution_count": null,
   "metadata": {
    "ExecuteTime": {
     "end_time": "2021-01-10T15:49:00.854385Z",
     "start_time": "2021-01-10T15:49:00.726611Z"
    }
   },
   "outputs": [],
   "source": [
    "association_list = list(op_rules['dis2_UMLS'])\n",
    "association_list.append('opiate addiction')\n",
    "network = disease_rules[(disease_rules['dis1_UMLS'].isin(association_list))&(disease_rules['dis2_UMLS'].isin(association_list))]\n",
    "\n",
    "net = network.iloc[:,[0,1]].drop_duplicates()\n",
    "\n",
    "net.to_csv('op-subgroup-network/network_male.txt', index = False,sep=';')"
   ]
  },
  {
   "cell_type": "markdown",
   "metadata": {},
   "source": [
    "# Subgroup patient by age"
   ]
  },
  {
   "cell_type": "code",
   "execution_count": null,
   "metadata": {
    "ExecuteTime": {
     "end_time": "2020-12-07T16:13:50.350384Z",
     "start_time": "2020-12-07T16:13:50.346371Z"
    }
   },
   "outputs": [],
   "source": [
    "def subset_df(df, groupby, lower, upper):\n",
    "    # subset female\n",
    "    demo_indi_female = df[(df[groupby]>=lower)&(df[groupby]<upper)]\n",
    "    op_female = list(demo_indi_female[demo_indi_female['primaryid'].isin(op_cohort)]['primaryid'].unique())\n",
    "\n",
    "    # build new indication record\n",
    "    op_column = len(op_female)*['opiate addiction']\n",
    "    op_indication = pd.DataFrame(list(zip(op_female, op_column)), \n",
    "                   columns =['primaryid', 'indi_pt']) \n",
    "\n",
    "    # keep useful columns\n",
    "    demo_indi_female = demo_indi_female[['primaryid','indi_pt']]\n",
    "    demo_indi_female = pd.concat([demo_indi_female, op_indication]).drop_duplicates()\n",
    "\n",
    "    print(groupby + ' ' + str(lower) + ' ' + str(upper) + ' ' + str(len(op_female)))\n",
    "    \n",
    "    return demo_indi_female"
   ]
  },
  {
   "cell_type": "code",
   "execution_count": null,
   "metadata": {
    "ExecuteTime": {
     "end_time": "2020-12-07T16:13:50.354864Z",
     "start_time": "2020-12-07T16:13:50.351170Z"
    }
   },
   "outputs": [],
   "source": [
    "def set_age_unit(df):\n",
    "    if df['age_cod'] == 'yr':\n",
    "        val = 1\n",
    "    elif df['age_cod'] == 'dec':\n",
    "        val = 10\n",
    "    elif df['age_cod'] == 'mon':\n",
    "        val = float(1/12)\n",
    "    elif df['age_cod'] == 'wk':\n",
    "        val = float(1*7/365)\n",
    "    elif df['age_cod'] == 'dy':\n",
    "        val = float(1/365)        \n",
    "    elif df['age_cod'] == 'hr':\n",
    "        val = float(1/24/365)        \n",
    "    elif df['age_cod'] == 'min':\n",
    "        val = float(1/60/24/365)\n",
    "    else:\n",
    "        val = float(1/60/60/24/365)\n",
    "    return val*df['age']"
   ]
  },
  {
   "cell_type": "code",
   "execution_count": null,
   "metadata": {
    "ExecuteTime": {
     "end_time": "2020-12-07T16:17:29.792681Z",
     "start_time": "2020-12-07T16:13:50.355645Z"
    }
   },
   "outputs": [],
   "source": [
    "demo_drug_reac_indi_age = demo_drug_reac_indi[demo_drug_reac_indi.age != 'nan']\n",
    "demo_drug_reac_indi_age = demo_drug_reac_indi_age[demo_drug_reac_indi_age.age_cod != 'nan']\n",
    "demo_drug_reac_indi_age = demo_drug_reac_indi_age[demo_drug_reac_indi_age.age != 'u']\n",
    "demo_drug_reac_indi_age = demo_drug_reac_indi_age[demo_drug_reac_indi_age.age != 'few']\n",
    "demo_drug_reac_indi_age['age'] = demo_drug_reac_indi_age['age'].astype(float)\n",
    "demo_drug_reac_indi_age = demo_drug_reac_indi_age.dropna(subset = ['indi_pt'])\n",
    "demo_drug_reac_indi_age['age'] = demo_drug_reac_indi_age.apply(set_age_unit, axis=1)\n",
    "\n",
    "demo_indi_child = subset_df(demo_drug_reac_indi_age,'age',0, 19)\n",
    "demo_indi_adult = subset_df(demo_drug_reac_indi_age,'age',19, 65)\n",
    "demo_indi_senior = subset_df(demo_drug_reac_indi_age,'age',65, float('inf'))"
   ]
  },
  {
   "cell_type": "markdown",
   "metadata": {},
   "source": [
    "## Children Patient"
   ]
  },
  {
   "cell_type": "code",
   "execution_count": null,
   "metadata": {
    "ExecuteTime": {
     "end_time": "2020-12-07T16:17:59.879994Z",
     "start_time": "2020-12-07T16:17:29.793856Z"
    }
   },
   "outputs": [],
   "source": [
    "op_association(demo_indi_child).to_csv('child_op.csv')"
   ]
  },
  {
   "cell_type": "code",
   "execution_count": null,
   "metadata": {
    "ExecuteTime": {
     "end_time": "2021-01-10T15:49:56.971476Z",
     "start_time": "2021-01-10T15:49:00.855580Z"
    }
   },
   "outputs": [],
   "source": [
    "disease_rules = association(demo_indi_child)\n",
    "op_rules = op_association(demo_indi_child)"
   ]
  },
  {
   "cell_type": "code",
   "execution_count": null,
   "metadata": {
    "ExecuteTime": {
     "end_time": "2021-01-10T15:49:57.027269Z",
     "start_time": "2021-01-10T15:49:56.972693Z"
    }
   },
   "outputs": [],
   "source": [
    "association_list = list(op_rules['dis2_UMLS'])\n",
    "association_list.append('opiate addiction')\n",
    "network = disease_rules[(disease_rules['dis1_UMLS'].isin(association_list))&(disease_rules['dis2_UMLS'].isin(association_list))]\n",
    "\n",
    "net = network.iloc[:,[0,1]].drop_duplicates()\n",
    "\n",
    "net.to_csv('op-subgroup-network/network_child.txt', index = False,sep=';')"
   ]
  },
  {
   "cell_type": "markdown",
   "metadata": {},
   "source": [
    "## Adult Patient"
   ]
  },
  {
   "cell_type": "code",
   "execution_count": null,
   "metadata": {
    "ExecuteTime": {
     "end_time": "2020-12-07T16:21:33.576556Z",
     "start_time": "2020-12-07T16:17:59.881400Z"
    }
   },
   "outputs": [],
   "source": [
    "op_association(demo_indi_adult).to_csv('adult_op.csv')"
   ]
  },
  {
   "cell_type": "code",
   "execution_count": null,
   "metadata": {
    "ExecuteTime": {
     "end_time": "2021-01-10T15:56:48.035113Z",
     "start_time": "2021-01-10T15:49:57.028120Z"
    }
   },
   "outputs": [],
   "source": [
    "disease_rules = association(demo_indi_adult)\n",
    "op_rules = op_association(demo_indi_adult)\n"
   ]
  },
  {
   "cell_type": "code",
   "execution_count": null,
   "metadata": {
    "ExecuteTime": {
     "end_time": "2021-01-10T15:56:48.161393Z",
     "start_time": "2021-01-10T15:56:48.036224Z"
    }
   },
   "outputs": [],
   "source": [
    "association_list = list(op_rules['dis2_UMLS'])\n",
    "association_list.append('opiate addiction')\n",
    "network = disease_rules[(disease_rules['dis1_UMLS'].isin(association_list))&(disease_rules['dis2_UMLS'].isin(association_list))]\n",
    "\n",
    "net = network.iloc[:,[0,1]].drop_duplicates()\n",
    "\n",
    "net.to_csv('op-subgroup-network/network_adult.txt', index = False,sep=';')"
   ]
  },
  {
   "cell_type": "markdown",
   "metadata": {},
   "source": [
    "## Senior Patient"
   ]
  },
  {
   "cell_type": "code",
   "execution_count": null,
   "metadata": {
    "ExecuteTime": {
     "end_time": "2020-12-07T16:23:56.385391Z",
     "start_time": "2020-12-07T16:21:33.577681Z"
    }
   },
   "outputs": [],
   "source": [
    "op_association(demo_indi_senior).to_csv('senoir_op.csv')"
   ]
  },
  {
   "cell_type": "code",
   "execution_count": null,
   "metadata": {
    "ExecuteTime": {
     "end_time": "2021-01-10T16:01:24.029825Z",
     "start_time": "2021-01-10T15:56:48.162430Z"
    }
   },
   "outputs": [],
   "source": [
    "disease_rules = association(demo_indi_senior)\n",
    "op_rules = op_association(demo_indi_senior)"
   ]
  },
  {
   "cell_type": "code",
   "execution_count": null,
   "metadata": {
    "ExecuteTime": {
     "end_time": "2021-01-10T16:01:24.136591Z",
     "start_time": "2021-01-10T16:01:24.031366Z"
    }
   },
   "outputs": [],
   "source": [
    "association_list = list(op_rules['dis2_UMLS'])\n",
    "association_list.append('opiate addiction')\n",
    "network = disease_rules[(disease_rules['dis1_UMLS'].isin(association_list))&(disease_rules['dis2_UMLS'].isin(association_list))]\n",
    "\n",
    "net = network.iloc[:,[0,1]].drop_duplicates()\n",
    "\n",
    "net.to_csv('op-subgroup-network/network_senior.txt', index = False,sep=';')"
   ]
  },
  {
   "cell_type": "code",
   "execution_count": null,
   "metadata": {
    "ExecuteTime": {
     "end_time": "2021-01-17T03:31:59.007390Z",
     "start_time": "2021-01-17T03:31:36.029134Z"
    }
   },
   "outputs": [],
   "source": []
  },
  {
   "cell_type": "code",
   "execution_count": null,
   "metadata": {
    "ExecuteTime": {
     "end_time": "2021-01-17T03:50:47.115182Z",
     "start_time": "2021-01-17T03:32:06.354688Z"
    }
   },
   "outputs": [],
   "source": []
  },
  {
   "cell_type": "code",
   "execution_count": null,
   "metadata": {
    "ExecuteTime": {
     "end_time": "2021-01-17T03:50:47.120024Z",
     "start_time": "2021-01-17T03:50:47.116582Z"
    }
   },
   "outputs": [],
   "source": [
    "association_list"
   ]
  },
  {
   "cell_type": "code",
   "execution_count": null,
   "metadata": {},
   "outputs": [],
   "source": []
  },
  {
   "cell_type": "code",
   "execution_count": null,
   "metadata": {
    "ExecuteTime": {
     "end_time": "2021-01-09T01:30:53.340966Z",
     "start_time": "2021-01-09T01:30:51.004530Z"
    }
   },
   "outputs": [],
   "source": [
    "disease_rules.to_csv('disease_rules.csv', index = False)"
   ]
  },
  {
   "cell_type": "code",
   "execution_count": null,
   "metadata": {
    "ExecuteTime": {
     "start_time": "2021-01-17T03:56:50.736Z"
    },
    "scrolled": false
   },
   "outputs": [],
   "source": [
    "len(association_list)"
   ]
  },
  {
   "cell_type": "code",
   "execution_count": null,
   "metadata": {
    "ExecuteTime": {
     "end_time": "2021-01-06T16:36:18.979282Z",
     "start_time": "2021-01-06T16:36:17.252765Z"
    }
   },
   "outputs": [],
   "source": [
    "ty = indi_mapping[['preferred_name','sem_type']].drop_duplicates()\n",
    "op_ty = ty[ty['preferred_name'].isin(association_list)]\n",
    "\n",
    "net = pd.merge(network,op_ty, left_on = 'dis1_UMLS', right_on = 'preferred_name').iloc[:, [0,1,3]].rename(columns = {'sem_type':\"sem_type_1\"})\n",
    "net = pd.merge(net,op_ty, left_on = 'dis2_UMLS', right_on = 'preferred_name').iloc[:, [0,1,2,4]].rename(columns = {'sem_type':\"sem_type_2\"})\n",
    "net.to_csv('network.csv', index = False)\n",
    "net.to_csv('network.txt', index = False,sep=';')"
   ]
  },
  {
   "cell_type": "code",
   "execution_count": null,
   "metadata": {
    "ExecuteTime": {
     "end_time": "2021-01-05T19:25:59.435490Z",
     "start_time": "2021-01-05T19:25:59.424939Z"
    }
   },
   "outputs": [],
   "source": [
    "pd.concat([ne,net[['dis1_UMLS','dis2_UMLS']].drop_duplicates()]).drop_duplicates()"
   ]
  },
  {
   "cell_type": "code",
   "execution_count": null,
   "metadata": {
    "ExecuteTime": {
     "end_time": "2021-01-04T20:46:37.424039Z",
     "start_time": "2021-01-04T20:46:37.237364Z"
    }
   },
   "outputs": [],
   "source": [
    "#disease_rules.sort_values(by=['lift'], ascending=False)\n",
    "op_rules_score = disease_rules[disease_rules['dis1_UMLS'] =='opiate addiction']"
   ]
  },
  {
   "cell_type": "code",
   "execution_count": null,
   "metadata": {
    "ExecuteTime": {
     "end_time": "2021-01-04T20:50:09.662521Z",
     "start_time": "2021-01-04T20:50:09.648923Z"
    }
   },
   "outputs": [],
   "source": [
    "op_rules_score.groupby(['dis1_UMLS', 'dis2_UMLS']).agg({'lift': ['max']})\\\n",
    ".sort_values(by = [('lift', 'max')], ascending=False)"
   ]
  },
  {
   "cell_type": "code",
   "execution_count": null,
   "metadata": {
    "ExecuteTime": {
     "end_time": "2020-12-25T15:40:59.655386Z",
     "start_time": "2020-12-25T15:40:59.646510Z"
    }
   },
   "outputs": [],
   "source": [
    "# Drug Mapping Table\n",
    "pn = pd.DataFrame(list(preferred_name.items()),columns = ['indi_pt','preferred_name'])\n",
    "c = pd.DataFrame(list(cui.items()), columns = ['indi_pt','cui'])\n",
    "t = pd.DataFrame(list(typ.items()), columns = ['indi_pt','sem_type'])\n",
    "mapping = pd.merge(pn, t, on = 'indi_pt')\n",
    "mapping['preferred_name'] = mapping['preferred_name'].str.lower()\n",
    "#mapping['sem_type'] = mapping['sem_type'].astype(str)"
   ]
  },
  {
   "cell_type": "code",
   "execution_count": null,
   "metadata": {
    "ExecuteTime": {
     "end_time": "2020-12-25T17:01:50.925161Z",
     "start_time": "2020-12-25T17:01:50.668570Z"
    }
   },
   "outputs": [],
   "source": [
    "net = nx.Graph()\n",
    "\n",
    "# Add node for each character\n",
    "for node in node_count.keys():\n",
    "    if node_count[node] > 0:\n",
    "        net.add_node(node, size = node_count[node])\n",
    "\n",
    "for index, row in network.iterrows():\n",
    "    net.add_edge(row['dis1_UMLS'], row['dis2_UMLS'])\n",
    "\n",
    "pos_ = nx.kamada_kawai_layout(net)"
   ]
  },
  {
   "cell_type": "code",
   "execution_count": null,
   "metadata": {
    "ExecuteTime": {
     "end_time": "2020-12-25T17:01:51.007689Z",
     "start_time": "2020-12-25T17:01:51.005267Z"
    }
   },
   "outputs": [],
   "source": [
    "pos_['opiate addiction']= np.array([ -0.1, 0.1])\n",
    "pos_['substance abuse problem'] = np.array([ 0.05954502, -0.48523949])\n",
    "pos_['hypothyroidism'] = np.array([-0.0633788 ,  0.49555793])\n",
    "pos_['hepatitis c'] = np.array([0.22549895, 0.420576142])"
   ]
  },
  {
   "cell_type": "code",
   "execution_count": null,
   "metadata": {
    "ExecuteTime": {
     "end_time": "2020-12-25T17:01:54.412724Z",
     "start_time": "2020-12-25T17:01:54.409232Z"
    }
   },
   "outputs": [],
   "source": [
    "for node in net.nodes():\n",
    "    x, y = pos_[node]\n",
    "    if (x>0.35) or(y>0.547) or(y<-0.544):\n",
    "        z=np.sqrt(x*x+y*y)/0.45\n",
    "        x = x/z\n",
    "        y = y/z\n",
    "        if (x > 0.24):\n",
    "            x = x-0.1\n",
    "    if (x<0):\n",
    "        x = x *0.7\n",
    "        y = y \n",
    "    pos_[node] = np.array([x,y])"
   ]
  },
  {
   "cell_type": "code",
   "execution_count": null,
   "metadata": {
    "ExecuteTime": {
     "end_time": "2020-12-25T17:03:01.243792Z",
     "start_time": "2020-12-25T17:03:01.241046Z"
    }
   },
   "outputs": [],
   "source": [
    "pos_['dependence'] = np.array([ 0.41267777, -0.15263375])\n",
    "pos_['major depressive disorder'] = np.array([0.2, -0.44863043])\n",
    "pos_['deep vein thrombosis'] = np.array([0.1185349, 0.49267676])"
   ]
  },
  {
   "cell_type": "code",
   "execution_count": null,
   "metadata": {
    "ExecuteTime": {
     "end_time": "2020-12-25T17:09:44.257797Z",
     "start_time": "2020-12-25T17:09:43.956001Z"
    }
   },
   "outputs": [],
   "source": [
    "# For each edge, make an edge_trace, append to list\n",
    "edge_trace = []\n",
    "for edge in net.edges():\n",
    "    char_1 = edge[0]\n",
    "    char_2 = edge[1]\n",
    "    x0, y0 = pos_[char_1]\n",
    "    x1, y1 = pos_[char_2]\n",
    "    text   = char_1 + '--' + char_2 + ': ' \n",
    "\n",
    "    trace  = make_edge([x0, x1, None], [y0, y1, None], text, width = 0.1)\n",
    "    edge_trace.append(trace)\n",
    "\n",
    "# Make a node trace\n",
    "node_trace = go.Scatter(x         = [],\n",
    "                        y         = [],\n",
    "                        text      = [],\n",
    "                        textposition = \"middle center\",\n",
    "                        textfont_size = 14,\n",
    "                        mode      = 'markers+text',\n",
    "                        hoverinfo = 'none',\n",
    "                        marker    = dict(color = [],\n",
    "                                         size  = [],\n",
    "                                         line  = None))\n",
    "# For each node in net, get the position and size and add to the node_trace\n",
    "for node in net.nodes():\n",
    "    x, y = pos_[node]    \n",
    "    node_trace['x'] += tuple([x])\n",
    "    node_trace['y'] += tuple([y])\n",
    "    if node == 'opiate addiction':\n",
    "        c = 'red'\n",
    "    else:\n",
    "        c = color(node)\n",
    "    node_trace['marker']['color'] += tuple([c])\n",
    "    node_trace['marker']['size'] += tuple([0.8*net.nodes()[node]['size']])\n",
    "    #node_trace['marker']['size'] += tuple([0.3*node_count[node]])\n",
    "    node_trace['text'] += tuple([ node ])"
   ]
  },
  {
   "cell_type": "code",
   "execution_count": null,
   "metadata": {
    "ExecuteTime": {
     "end_time": "2020-12-25T17:11:59.332803Z",
     "start_time": "2020-12-25T17:11:58.866021Z"
    },
    "scrolled": false
   },
   "outputs": [],
   "source": [
    "# Customize layout\n",
    "layout = go.Layout(\n",
    "    paper_bgcolor='white', # transparent background\n",
    "    plot_bgcolor='white', # transparent 2nd background\n",
    "    xaxis =  {'showgrid': False, 'zeroline': False}, # no gridlines\n",
    "    yaxis = {'showgrid': False, 'zeroline': False}, # no gridlines\n",
    ")\n",
    "# Create figure\n",
    "fig = go.Figure(layout = layout)\n",
    "# Add all edge traces\n",
    "for trace in edge_trace:\n",
    "    fig.add_trace(trace)\n",
    "# Add node trace\n",
    "fig.add_trace(node_trace)\n",
    "# Remove legend\n",
    "fig.update_layout(showlegend = False)\n",
    "# Remove tick labels\n",
    "fig.update_xaxes(showticklabels = False)\n",
    "fig.update_yaxes(showticklabels = False)\n",
    "\n",
    "fig.update_layout(\n",
    "    autosize=False,\n",
    "    width=1000,\n",
    "    height=800,)\n",
    "# Show figure\n",
    "fig.show()"
   ]
  },
  {
   "cell_type": "markdown",
   "metadata": {},
   "source": [
    "### Table one"
   ]
  },
  {
   "cell_type": "code",
   "execution_count": null,
   "metadata": {
    "ExecuteTime": {
     "end_time": "2021-01-17T04:09:22.577911Z",
     "start_time": "2021-01-17T03:59:37.183939Z"
    }
   },
   "outputs": [],
   "source": [
    "demo_indi = demo_drug_reac_indi[demo_drug_reac_indi.age != 'nan']\n",
    "demo_indi = demo_indi[demo_indi.age_cod != 'nan']\n",
    "demo_indi = demo_indi[demo_indi.age != 'u']\n",
    "demo_indi = demo_indi[demo_indi.age != 'few']\n",
    "demo_indi = demo_indi[demo_indi.sex != 'nan']\n",
    "demo_indi['age'] = demo_indi['age'].astype(float)\n",
    "demo_indi = demo_indi.dropna(subset = ['indi_pt'])\n",
    "demo_indi['age'] = demo_indi.apply(set_age_unit, axis=1)\n",
    "demo_indi['op'] = np.where(demo_indi['primaryid'].isin(op_cohort), 1, 0)\n",
    "demo_indi['female'] = np.where(demo_indi['sex'] == 'f', 1, 0)\n",
    "demo_indi = demo_indi.drop(['sex'], axis=1)\n",
    "demo_indi['age'] = demo_indi['age'].astype(float)"
   ]
  },
  {
   "cell_type": "code",
   "execution_count": null,
   "metadata": {
    "ExecuteTime": {
     "end_time": "2021-01-17T04:09:40.096562Z",
     "start_time": "2021-01-17T04:09:22.579397Z"
    }
   },
   "outputs": [],
   "source": [
    "table_one = demo_indi[['primaryid','female','op','age']].drop_duplicates()\n",
    "columns = ['age', 'female']\n",
    "categorical = ['female']\n",
    "groupby = 'op'\n",
    "nonnormal = ['age']\n",
    "display(TableOne(table_one, columns, categorical, groupby, nonnormal,\n",
    "                 labels = {'op' : 'opioid addiction'},\n",
    "                 pval=True, isnull=False, label_suffix=True))"
   ]
  },
  {
   "cell_type": "code",
   "execution_count": null,
   "metadata": {
    "ExecuteTime": {
     "end_time": "2020-12-07T15:36:34.294373Z",
     "start_time": "2020-12-07T15:36:18.400529Z"
    }
   },
   "outputs": [],
   "source": [
    "table_one = demo_indi[['primaryid','female','op','age']].drop_duplicates()\n",
    "columns = ['age', 'female']\n",
    "categorical = ['female']\n",
    "groupby = 'op'\n",
    "nonnormal = ['age']\n",
    "display(TableOne(table_one, columns, categorical, groupby, nonnormal,\n",
    "                 labels = {'op' : 'opioid addiction'},\n",
    "                 pval=True, isnull=False, label_suffix=True))"
   ]
  },
  {
   "cell_type": "markdown",
   "metadata": {},
   "source": [
    "### Multivariant Logistic Regression"
   ]
  },
  {
   "cell_type": "code",
   "execution_count": null,
   "metadata": {
    "ExecuteTime": {
     "end_time": "2021-01-17T04:12:37.090532Z",
     "start_time": "2021-01-17T04:11:57.491164Z"
    }
   },
   "outputs": [],
   "source": [
    "demo_indi_hypo = demo_indi[['primaryid','female','op','age','indi_pt','sem_type','reac_pt']].drop_duplicates()\n",
    "\n",
    "# pain-related\n",
    "pain = list(demo_indi[demo_indi['indi_pt'].str.contains('pain')]['indi_pt'].unique())\n",
    "demo_indi_hypo['pain'] = np.where(demo_indi_hypo['indi_pt'].isin(pain), 1, 0)\n",
    "\n",
    "# mental\n",
    "demo_indi_hypo['mental'] = np.where(demo_indi_hypo['sem_type'] == '[mobd]', 1, 0)\n",
    "\n",
    "# autoimmune disease\n",
    "immu = list(demo_indi[demo_indi['indi_pt'].str.contains('autoimmune disease')]['indi_pt'].unique())\n",
    "demo_indi_hypo['immu'] = np.where(demo_indi_hypo['indi_pt'].isin(immu), 1, 0)\n",
    "\n",
    "#radialogy therapy\n",
    "radi = list(demo_indi[demo_indi['indi_pt'].str.contains('radiation')]['indi_pt'].unique())\n",
    "demo_indi_hypo['radi'] = np.where(demo_indi_hypo['indi_pt'].isin(radi), 1, 0)\n",
    "\n",
    "\n",
    "demo_indi_hypo = demo_indi_hypo[['primaryid', 'female', 'op', 'age', 'indi_pt','pain',\n",
    "       'mental', 'immu', 'radi']]\n",
    "\n",
    "# SUD\n",
    "sud = ['drug dependence', 'dicotine dependence',\n",
    "       'polysubstance dependence', 'drug dependence, antepartum',\n",
    "       'substance dependence',\n",
    "       'steroid dependence','drug dependence', 'nicotine dependence',\n",
    "       'polysubstance dependence', 'dependence', 'substance dependence',\n",
    "       'loss of independence', 'respirator dependence',\n",
    "       'oxygen dependence','alcohol or other drugs use',]\n",
    "\n",
    "# throid surgery\n",
    "demo_indi_hypo"
   ]
  },
  {
   "cell_type": "code",
   "execution_count": null,
   "metadata": {
    "ExecuteTime": {
     "end_time": "2021-01-17T04:20:25.559318Z",
     "start_time": "2021-01-17T04:17:39.790459Z"
    }
   },
   "outputs": [],
   "source": [
    "    demo_indi_disease = demo_indi_hypo.copy(deep=True)\n",
    "    disease = 'hypothyroidism'\n",
    "    demo_indi_disease[disease] = np.where(demo_indi_disease['indi_pt']==disease, 1, 0)\n",
    "    demo_indi_disease = demo_indi_disease.set_index('primaryid').drop(['indi_pt'], axis = 1)\n",
    "    #demo_indi_disease = demo_indi_disease.drop(columns = ['sex'])\n",
    "    pvalue = run_glm(demo_indi_disease)"
   ]
  },
  {
   "cell_type": "code",
   "execution_count": null,
   "metadata": {
    "ExecuteTime": {
     "end_time": "2021-01-17T02:20:16.195935Z",
     "start_time": "2021-01-17T02:20:14.197991Z"
    }
   },
   "outputs": [],
   "source": [
    "demo_indi[demo_indi['indi_pt'].str.contains('alcohol')]['indi_pt'].unique()"
   ]
  },
  {
   "cell_type": "code",
   "execution_count": null,
   "metadata": {
    "ExecuteTime": {
     "end_time": "2021-01-17T04:41:55.107202Z",
     "start_time": "2021-01-17T04:41:46.825227Z"
    }
   },
   "outputs": [],
   "source": [
    "demo_indi[demo_indi['indi_pt'].str.contains('abuse')]['indi_pt'].unique()"
   ]
  },
  {
   "cell_type": "code",
   "execution_count": null,
   "metadata": {},
   "outputs": [],
   "source": []
  },
  {
   "cell_type": "code",
   "execution_count": null,
   "metadata": {
    "ExecuteTime": {
     "end_time": "2021-01-17T04:38:07.667038Z",
     "start_time": "2021-01-17T04:37:59.491443Z"
    }
   },
   "outputs": [],
   "source": [
    "demo_indi[demo_indi['indi_pt'].str.contains('drug')]['indi_pt'].unique()"
   ]
  },
  {
   "cell_type": "code",
   "execution_count": null,
   "metadata": {
    "ExecuteTime": {
     "end_time": "2021-01-17T04:21:51.777429Z",
     "start_time": "2021-01-17T04:21:27.950342Z"
    }
   },
   "outputs": [],
   "source": [
    "demo_indi_hyper = demo_indi[['primaryid','female','op','age','indi_pt','sem_type','gn']].drop_duplicates()\n",
    "\n",
    "# pain-related\n",
    "demo_indi_hyper['pain'] = np.where(demo_indi_hyper['indi_pt'].isin(pain), 1, 0)\n",
    "\n",
    "# mental\n",
    "demo_indi_hyper['mental'] = np.where(demo_indi_hyper['sem_type'] == '[mobd]', 1, 0)\n",
    "\n",
    "# smoker\n",
    "demo_indi_hyper['smoke'] = np.where((demo_indi_hyper['gn'] == 'nicotine')|\\\n",
    "(demo_indi_hyper['indi_pt'].str.contains('nicotine'))|\\\n",
    "(demo_indi_hyper['indi_pt'].str.contains('tobacco')), 1, 0)\n",
    "\n",
    "#autoimmune disease\n",
    "demo_indi_hyper['immu'] = np.where(demo_indi_hyper['indi_pt'].isin(immu), 1, 0)\n",
    "\n",
    "#iodine intake\n",
    "iodine = list(demo_indi[demo_indi['gn'].str.contains('iodine')]['gn'].unique())\n",
    "demo_indi_hyper['iodine'] = np.where(demo_indi_hyper['gn'].isin(iodine), 1, 0)\n",
    "\n",
    "demo_indi_hyper = demo_indi_hyper[['primaryid', 'female', 'op','indi_pt', 'age', 'pain',\n",
    "       'mental','smoke', 'immu', 'iodine']]"
   ]
  },
  {
   "cell_type": "code",
   "execution_count": null,
   "metadata": {
    "ExecuteTime": {
     "end_time": "2021-01-17T04:24:44.429553Z",
     "start_time": "2021-01-17T04:21:51.778882Z"
    }
   },
   "outputs": [],
   "source": [
    "    demo_indi_disease = demo_indi_hypo.copy(deep=True)\n",
    "    disease = 'hyperthyroidism'\n",
    "    demo_indi_disease[disease] = np.where(demo_indi_disease['indi_pt']==disease, 1, 0)\n",
    "    demo_indi_disease = demo_indi_disease.set_index('primaryid').drop(['indi_pt'], axis = 1)\n",
    "    #demo_indi_disease = demo_indi_disease.drop(columns = ['sex'])\n",
    "    pvalue = run_glm(demo_indi_disease)"
   ]
  },
  {
   "cell_type": "code",
   "execution_count": null,
   "metadata": {
    "ExecuteTime": {
     "end_time": "2020-12-18T15:27:56.798096Z",
     "start_time": "2020-12-18T15:27:56.793210Z"
    }
   },
   "outputs": [],
   "source": [
    "ref = ['epilepsy',\n",
    " 'chronic obstructive airway disease',\n",
    " 'sedated state',\n",
    " 'reduced bone mineral density',\n",
    " 'substance abuse problem',\n",
    " 'attention deficit hyperactivity disorder',\n",
    " 'hepatitis c, chronic',\n",
    " 'alcohol or other drugs use',\n",
    " 'hepatitis c',\n",
    " 'delayed gastric emptying',\n",
    " 'alcoholic intoxication, chronic',\n",
    " 'decreased libido',\n",
    " 'dysgeusia',\n",
    " 'respiratory depression',\n",
    " 'panic disorder',\n",
    " 'dysmenorrhea',\n",
    " 'tobacco user',\n",
    " 'decreased estrogen level',\n",
    " 'muscle rigidity',\n",
    " 'somnolence',\n",
    " 'sleep disturbances',\n",
    " 'psychotic disorders',\n",
    " 'hypertension, ctcae',\n",
    " 'dependence',\n",
    " 'bipolar disorder',\n",
    " 'hypotension',\n",
    " 'schizophreniform disorders',\n",
    " 'anxiety disorders',\n",
    " 'arthritis',\n",
    " 'pain nos, ctcae',\n",
    " 'nicotine dependence',\n",
    " 'panic attacks',\n",
    " 'neuropathy',\n",
    " 'dizziness, ctcae 3.0',\n",
    " 'drug use disorders',\n",
    " 'dyspepsia',\n",
    " 'back pain',\n",
    " 'substance withdrawal syndrome',\n",
    " 'xerostomia',\n",
    " 'vomiting, ctcae',\n",
    " 'functional disorder',\n",
    " 'hypogonadism',\n",
    " 'myoclonus',\n",
    " 'pruritus, ctcae',\n",
    " 'seizure, ctcae 3.0',\n",
    " 'neuralgia',\n",
    " 'drowsiness',\n",
    " 'fibromyalgia',\n",
    " 'drug tolerance',\n",
    " 'spasm',\n",
    " 'sleep disorders',\n",
    " 'arthralgia',\n",
    " 'abdominal pain',\n",
    " 'drug dependence',\n",
    " 'post-traumatic stress disorder',\n",
    " 'nausea, ctcae 3.0',\n",
    " 'erectile dysfunction, ctcae',\n",
    " 'drug withdrawal syndrome',\n",
    " 'insomnia, ctcae 3.0',\n",
    " 'mental depression',\n",
    " 'mood disorders',\n",
    " 'major depressive disorder',\n",
    " 'seizures',\n",
    " 'mental disorders',\n",
    " 'sexual dysfunction',\n",
    " 'physical addiction',\n",
    " 'constipation, ctcae',\n",
    " 'asthma',\n",
    " 'schizophrenia',\n",
    " 'heart diseases',\n",
    " 'anxiety',\n",
    " 'migraine disorders',\n",
    " 'fatigue',\n",
    " 'hiv infections',\n",
    " 'drug abuse',\n",
    " 'polysubstance dependence',\n",
    " 'headache',\n",
    " 'fever',\n",
    " 'hyperalgesia',\n",
    " 'bladder dysfunction']"
   ]
  },
  {
   "cell_type": "code",
   "execution_count": null,
   "metadata": {
    "ExecuteTime": {
     "end_time": "2020-12-18T15:27:56.801814Z",
     "start_time": "2020-12-18T15:27:56.799381Z"
    }
   },
   "outputs": [],
   "source": [
    "len(ref)"
   ]
  },
  {
   "cell_type": "code",
   "execution_count": null,
   "metadata": {
    "ExecuteTime": {
     "end_time": "2020-12-18T15:47:18.554985Z",
     "start_time": "2020-12-18T15:47:18.551000Z"
    }
   },
   "outputs": [],
   "source": [
    "prevalence_list = list(DF.index)\n",
    "\n",
    "x = pd.read_csv('op_association.csv')\n",
    "\n",
    "associate_list = list(x['dis2_UMLS'])"
   ]
  },
  {
   "cell_type": "code",
   "execution_count": null,
   "metadata": {
    "ExecuteTime": {
     "end_time": "2020-12-18T15:45:37.404260Z",
     "start_time": "2020-12-18T15:45:37.402475Z"
    }
   },
   "outputs": [],
   "source": [
    "union = list(set(prevalence_list + associate_list))"
   ]
  },
  {
   "cell_type": "code",
   "execution_count": null,
   "metadata": {
    "ExecuteTime": {
     "end_time": "2020-12-18T15:49:15.299949Z",
     "start_time": "2020-12-18T15:49:15.297078Z"
    }
   },
   "outputs": [],
   "source": [
    "tp = list(set(union) & set(ref))\n",
    "len(tp)/len(ref), len(tp)/len(union)"
   ]
  }
 ],
 "metadata": {
  "kernelspec": {
   "display_name": "Python 3",
   "language": "python",
   "name": "python3"
  },
  "language_info": {
   "codemirror_mode": {
    "name": "ipython",
    "version": 3
   },
   "file_extension": ".py",
   "mimetype": "text/x-python",
   "name": "python",
   "nbconvert_exporter": "python",
   "pygments_lexer": "ipython3",
   "version": "3.7.7"
  },
  "toc": {
   "base_numbering": 1,
   "nav_menu": {},
   "number_sections": true,
   "sideBar": true,
   "skip_h1_title": false,
   "title_cell": "Table of Contents",
   "title_sidebar": "Contents",
   "toc_cell": false,
   "toc_position": {
    "height": "calc(100% - 180px)",
    "left": "10px",
    "top": "150px",
    "width": "367px"
   },
   "toc_section_display": true,
   "toc_window_display": true
  }
 },
 "nbformat": 4,
 "nbformat_minor": 4
}
